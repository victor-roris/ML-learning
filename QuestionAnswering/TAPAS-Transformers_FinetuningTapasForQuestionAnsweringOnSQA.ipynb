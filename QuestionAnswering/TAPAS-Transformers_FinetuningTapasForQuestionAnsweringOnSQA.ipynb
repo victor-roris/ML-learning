{
  "nbformat": 4,
  "nbformat_minor": 0,
  "metadata": {
    "colab": {
      "name": "TAPAS-Transformers_FinetuningTapasForQuestionAnsweringOnSQA.ipynb",
      "provenance": [],
      "collapsed_sections": [],
      "toc_visible": true,
      "include_colab_link": true
    },
    "kernelspec": {
      "name": "python3",
      "display_name": "Python 3"
    },
    "accelerator": "GPU"
  },
  "cells": [
    {
      "cell_type": "markdown",
      "metadata": {
        "id": "view-in-github",
        "colab_type": "text"
      },
      "source": [
        "<a href=\"https://colab.research.google.com/github/victor-roris/ML-learning/blob/master/QuestionAnswering/TAPAS-Transformers_FinetuningTapasForQuestionAnsweringOnSQA.ipynb\" target=\"_parent\"><img src=\"https://colab.research.google.com/assets/colab-badge.svg\" alt=\"Open In Colab\"/></a>"
      ]
    },
    {
      "cell_type": "markdown",
      "metadata": {
        "id": "l5Ds1ZM41KC9"
      },
      "source": [
        "# TAPAS - Transformers - Fine-tuning \n",
        "\n",
        "Notebook of an example of fine-tuning of TAPAS Transformers from the [Niels Rogge github](https://github.com/NielsRogge/Transformers-Tutorials/tree/master/TAPAS)\n",
        "\n",
        "## Introduction: TAPAS\n",
        "\n",
        "* Original TAPAS paper (ACL 2020): https://www.aclweb.org/anthology/2020.acl-main.398/\n",
        "* Follow-up paper on intermediate pre-training (EMMNLP Findings 2020): https://www.aclweb.org/anthology/2020.findings-emnlp.27/\n",
        "* Original Github repository: https://github.com/google-research/tapas\n",
        "* Blog post: https://ai.googleblog.com/2020/04/using-neural-networks-to-find-answers.html\n",
        "\n",
        "TAPAS is an algorithm that (among other tasks) can answer questions about tabular data. It is essentially a BERT model with relative position embeddings and additional token type ids that encode tabular structure, and 2 classification heads on top: one for **cell selection** and one for (optionally) performing an **aggregation** among selected cells (such as summing or counting).\n",
        "\n",
        "Similar to BERT, the base `TapasModel` is pre-trained using the masked language modeling (MLM) objective on a large collection of tables from Wikipedia and associated texts. In addition, the authors further pre-trained the model on an second task (table entailment) to increase the numerical reasoning capabilities of TAPAS (as explained in the follow-up paper), which further improves performance on downstream tasks. \n",
        "\n",
        "In this notebook, we are going to fine-tune `TapasForQuestionAnswering` on [Sequential Question Answering (SQA)](https://www.microsoft.com/en-us/research/publication/search-based-neural-structured-learning-sequential-question-answering/), a dataset built by Microsoft Research which deals with asking questions related to a table in a **conversational set-up**. We are going to do so as in the original paper, by adding a randomly initialized cell selection head on top of the pre-trained base model (note that SQA does not have questions that involve aggregation and hence no aggregation head), and then fine-tuning them altogether.\n",
        "\n",
        "First, we install both the Transformers library as well as the dependency on [`torch-scatter`](https://github.com/rusty1s/pytorch_scatter), which the model requires."
      ]
    },
    {
      "cell_type": "code",
      "metadata": {
        "colab": {
          "base_uri": "https://localhost:8080/"
        },
        "id": "MUMrt5Ow_PEA",
        "outputId": "1b79afbe-6e9c-4725-df56-72543c5757db"
      },
      "source": [
        "! rm -r transformers\n",
        "! git clone https://github.com/huggingface/transformers.git\n",
        "! cd transformers\n",
        "! pip install ./transformers"
      ],
      "execution_count": null,
      "outputs": [
        {
          "output_type": "stream",
          "text": [
            "Cloning into 'transformers'...\n",
            "remote: Enumerating objects: 70919, done.\u001b[K\n",
            "remote: Counting objects: 100% (1005/1005), done.\u001b[K\n",
            "remote: Compressing objects: 100% (476/476), done.\u001b[K\n",
            "remote: Total 70919 (delta 556), reused 808 (delta 449), pack-reused 69914\u001b[K\n",
            "Receiving objects: 100% (70919/70919), 53.91 MiB | 12.35 MiB/s, done.\n",
            "Resolving deltas: 100% (50126/50126), done.\n",
            "Processing ./transformers\n",
            "  Installing build dependencies ... \u001b[?25l\u001b[?25hdone\n",
            "  Getting requirements to build wheel ... \u001b[?25l\u001b[?25hdone\n",
            "    Preparing wheel metadata ... \u001b[?25l\u001b[?25hdone\n",
            "Requirement already satisfied: regex!=2019.12.17 in /usr/local/lib/python3.7/dist-packages (from transformers==4.6.0.dev0) (2019.12.20)\n",
            "Requirement already satisfied: tokenizers<0.11,>=0.10.1 in /usr/local/lib/python3.7/dist-packages (from transformers==4.6.0.dev0) (0.10.2)\n",
            "Requirement already satisfied: tqdm>=4.27 in /usr/local/lib/python3.7/dist-packages (from transformers==4.6.0.dev0) (4.41.1)\n",
            "Requirement already satisfied: numpy>=1.17 in /usr/local/lib/python3.7/dist-packages (from transformers==4.6.0.dev0) (1.19.5)\n",
            "Requirement already satisfied: requests in /usr/local/lib/python3.7/dist-packages (from transformers==4.6.0.dev0) (2.23.0)\n",
            "Requirement already satisfied: huggingface-hub>=0.0.8 in /usr/local/lib/python3.7/dist-packages (from transformers==4.6.0.dev0) (0.0.8)\n",
            "Requirement already satisfied: importlib-metadata; python_version < \"3.8\" in /usr/local/lib/python3.7/dist-packages (from transformers==4.6.0.dev0) (3.10.1)\n",
            "Requirement already satisfied: filelock in /usr/local/lib/python3.7/dist-packages (from transformers==4.6.0.dev0) (3.0.12)\n",
            "Requirement already satisfied: sacremoses in /usr/local/lib/python3.7/dist-packages (from transformers==4.6.0.dev0) (0.0.45)\n",
            "Requirement already satisfied: packaging in /usr/local/lib/python3.7/dist-packages (from transformers==4.6.0.dev0) (20.9)\n",
            "Requirement already satisfied: urllib3!=1.25.0,!=1.25.1,<1.26,>=1.21.1 in /usr/local/lib/python3.7/dist-packages (from requests->transformers==4.6.0.dev0) (1.24.3)\n",
            "Requirement already satisfied: idna<3,>=2.5 in /usr/local/lib/python3.7/dist-packages (from requests->transformers==4.6.0.dev0) (2.10)\n",
            "Requirement already satisfied: chardet<4,>=3.0.2 in /usr/local/lib/python3.7/dist-packages (from requests->transformers==4.6.0.dev0) (3.0.4)\n",
            "Requirement already satisfied: certifi>=2017.4.17 in /usr/local/lib/python3.7/dist-packages (from requests->transformers==4.6.0.dev0) (2020.12.5)\n",
            "Requirement already satisfied: typing-extensions>=3.6.4; python_version < \"3.8\" in /usr/local/lib/python3.7/dist-packages (from importlib-metadata; python_version < \"3.8\"->transformers==4.6.0.dev0) (3.7.4.3)\n",
            "Requirement already satisfied: zipp>=0.5 in /usr/local/lib/python3.7/dist-packages (from importlib-metadata; python_version < \"3.8\"->transformers==4.6.0.dev0) (3.4.1)\n",
            "Requirement already satisfied: click in /usr/local/lib/python3.7/dist-packages (from sacremoses->transformers==4.6.0.dev0) (7.1.2)\n",
            "Requirement already satisfied: joblib in /usr/local/lib/python3.7/dist-packages (from sacremoses->transformers==4.6.0.dev0) (1.0.1)\n",
            "Requirement already satisfied: six in /usr/local/lib/python3.7/dist-packages (from sacremoses->transformers==4.6.0.dev0) (1.15.0)\n",
            "Requirement already satisfied: pyparsing>=2.0.2 in /usr/local/lib/python3.7/dist-packages (from packaging->transformers==4.6.0.dev0) (2.4.7)\n",
            "Building wheels for collected packages: transformers\n",
            "  Building wheel for transformers (PEP 517) ... \u001b[?25l\u001b[?25hdone\n",
            "  Created wheel for transformers: filename=transformers-4.6.0.dev0-cp37-none-any.whl size=2113572 sha256=dd2516ec1b5620aec11dc07cdd5c2c83c1fee1c75d83f4d798778c3d597f100b\n",
            "  Stored in directory: /tmp/pip-ephem-wheel-cache-76p_ryp3/wheels/23/19/dd/2561a4e47240cf6b307729d58e56f8077dd0c698f5992216cf\n",
            "Successfully built transformers\n",
            "Installing collected packages: transformers\n",
            "  Found existing installation: transformers 4.6.0.dev0\n",
            "    Uninstalling transformers-4.6.0.dev0:\n",
            "      Successfully uninstalled transformers-4.6.0.dev0\n",
            "Successfully installed transformers-4.6.0.dev0\n"
          ],
          "name": "stdout"
        }
      ]
    },
    {
      "cell_type": "code",
      "metadata": {
        "id": "gx4u09iTyRjY"
      },
      "source": [
        "! pip install torch-scatter==latest+cu101 -f https://pytorch-geometric.com/whl/torch-1.7.0.html"
      ],
      "execution_count": null,
      "outputs": []
    },
    {
      "cell_type": "code",
      "metadata": {
        "id": "ywGdOUoubD1d",
        "colab": {
          "base_uri": "https://localhost:8080/"
        },
        "outputId": "3768c504-7cb2-46eb-ad69-604c8d91266a"
      },
      "source": [
        "pip uninstall torch-scatter"
      ],
      "execution_count": null,
      "outputs": [
        {
          "output_type": "stream",
          "text": [
            "Uninstalling torch-scatter-2.0.5:\n",
            "  Would remove:\n",
            "    /usr/local/lib/python3.7/dist-packages/test/*\n",
            "    /usr/local/lib/python3.7/dist-packages/torch_scatter-2.0.5.dist-info/*\n",
            "    /usr/local/lib/python3.7/dist-packages/torch_scatter/*\n",
            "Proceed (y/n)? y\n",
            "  Successfully uninstalled torch-scatter-2.0.5\n"
          ],
          "name": "stdout"
        }
      ]
    },
    {
      "cell_type": "code",
      "metadata": {
        "id": "HQYvPFDtbHVW",
        "colab": {
          "base_uri": "https://localhost:8080/"
        },
        "outputId": "50261763-28ba-4544-ba94-7932b31e70ee"
      },
      "source": [
        "!pip install torch-scatter --no-cache-dir"
      ],
      "execution_count": null,
      "outputs": [
        {
          "output_type": "stream",
          "text": [
            "Collecting torch-scatter\n",
            "  Downloading https://files.pythonhosted.org/packages/91/26/f2f0767a0e72c38d5d17f53117deb8aaafaf58f4ad658cee56cd5158c979/torch_scatter-2.0.6.tar.gz\n",
            "Building wheels for collected packages: torch-scatter\n"
          ],
          "name": "stdout"
        }
      ]
    },
    {
      "cell_type": "markdown",
      "metadata": {
        "id": "BSZfmBt0meYm"
      },
      "source": [
        "We also install a small portion from the SQA training dataset, for demonstration purposes. This is a TSV file containing table-question pairs. Besides this, we also download the `table_csv` directory, which contains the actual tabular data.\n",
        "\n",
        "Note that you can download the entire SQA dataset on the [official website](https://www.microsoft.com/en-us/download/details.aspx?id=54253)."
      ]
    },
    {
      "cell_type": "code",
      "metadata": {
        "id": "wsuwgDEU4J_f"
      },
      "source": [
        "import requests, zipfile, io\n",
        "import os\n",
        "\n",
        "def download_files(dir_name):\n",
        "  if not os.path.exists(dir_name): \n",
        "    # 28 training examples from the SQA training set + table csv data\n",
        "    urls = [\"https://www.dropbox.com/s/2p6ez9xro357i63/sqa_train_set_28_examples.zip?dl=1\",\n",
        "            \"https://www.dropbox.com/s/abhum8ssuow87h6/table_csv.zip?dl=1\"\n",
        "    ]\n",
        "    for url in urls:\n",
        "      r = requests.get(url)\n",
        "      z = zipfile.ZipFile(io.BytesIO(r.content))\n",
        "      z.extractall()\n",
        "\n",
        "dir_name = \"sqa_data\"\n",
        "download_files(dir_name)"
      ],
      "execution_count": null,
      "outputs": []
    },
    {
      "cell_type": "code",
      "metadata": {
        "id": "18LJJ8BtMg_u",
        "colab": {
          "base_uri": "https://localhost:8080/"
        },
        "outputId": "6d157a1b-329a-4cb1-bb50-f2a6bc17b3d6"
      },
      "source": [
        "!ls"
      ],
      "execution_count": null,
      "outputs": [
        {
          "output_type": "stream",
          "text": [
            "sample_data  sqa_train_set_28_examples.xlsx  table_csv\ttransformers\n"
          ],
          "name": "stdout"
        }
      ]
    },
    {
      "cell_type": "code",
      "metadata": {
        "id": "cTszl31oMvz6",
        "colab": {
          "base_uri": "https://localhost:8080/"
        },
        "outputId": "9cbeefc3-e010-479c-9153-26c3f4dc99b2"
      },
      "source": [
        "!ls table_csv | head -10\n",
        "\n",
        "print(\"...\")"
      ],
      "execution_count": null,
      "outputs": [
        {
          "output_type": "stream",
          "text": [
            "200_12.csv\n",
            "200_14.csv\n",
            "200_18.csv\n",
            "200_22.csv\n",
            "200_25.csv\n",
            "200_28.csv\n",
            "200_30.csv\n",
            "200_33.csv\n",
            "200_35.csv\n",
            "200_3.csv\n",
            "...\n"
          ],
          "name": "stdout"
        }
      ]
    },
    {
      "cell_type": "code",
      "metadata": {
        "id": "oliDlejoNMK1",
        "colab": {
          "base_uri": "https://localhost:8080/"
        },
        "outputId": "2666ca94-47df-4283-93e8-3a9f6d7b1f1f"
      },
      "source": [
        "!cat table_csv/200_12.csv"
      ],
      "execution_count": null,
      "outputs": [
        {
          "output_type": "stream",
          "text": [
            "Year,Award,Category,Nominated work,Result\n",
            "1979,Olivier Award,Best Actress in a Revival,Once in a Lifetime,Won\n",
            "1981,Tony Award,Best Featured in a Play,Piaf!,Nominated\n",
            "1981,Drama Desk Award,Outstanding Featured Actress in a Play,Piaf!,Nominated\n",
            "1984,Olivier Award,Best Actress in a Revival,Twelfth Night,Nominated\n",
            "1984,Olivier Award,Best Actress in a Supporting Role,The Time of Your Life,Nominated\n",
            "1985,Olivier Award,Best Performance in a Supporting Role,Mother Courage,Nominated\n",
            "1986,Tony Award,Best Featured Actress in a Play,Loot,Nominated\n",
            "1986,Drama Desk Award,Outstanding Featured Actress in a Play,Loot,Nominated\n",
            "1989/90,Olivier Award,Best Performance in a Supporting Role,Othello,Nominated\n",
            "1991,Olivier Award,Best Actress in a Supporting Role,The Crucible,Nominated\n",
            "1992,BAFTA TV Award,Best Actress,Prime Suspect,Nominated\n",
            "1993,BAFTA TV Award,Best Actress,Love Hurts,Nominated\n",
            "1996,Olivier Award,Best Actress,The Glass Menagerie,Nominated\n",
            "1998,BAFTA Film Award,Best Supporting Actress,Wilde,Nominated\n",
            "1998,Olivier Award,Best Actress,Electra,Won\n",
            "1999,Tony Award,Best Actress in a Play,Electra,Nominated\n",
            "1999,Drama Desk Award,Outstanding Actress in a Play,Electra,Nominated\n",
            "2002,Olivier Award,Best Actress,Boston Marriage,Nominated\n",
            "2006,Tony Award,Best Featured Actress in a Play,Awake and Sing!,Nominated\n"
          ],
          "name": "stdout"
        }
      ]
    },
    {
      "cell_type": "markdown",
      "metadata": {
        "id": "EPrYJOn81f0D"
      },
      "source": [
        "## Prepare the data \n",
        "\n",
        "Let's look at the first few rows of the dataset:"
      ]
    },
    {
      "cell_type": "code",
      "metadata": {
        "colab": {
          "base_uri": "https://localhost:8080/",
          "height": 194
        },
        "id": "2X27wyd805D8",
        "outputId": "b13e9fef-ce98-4fb3-888b-7997c5426646"
      },
      "source": [
        "import pandas as pd\n",
        "\n",
        "data = pd.read_excel(\"sqa_train_set_28_examples.xlsx\")\n",
        "data.head()"
      ],
      "execution_count": null,
      "outputs": [
        {
          "output_type": "execute_result",
          "data": {
            "text/html": [
              "<div>\n",
              "<style scoped>\n",
              "    .dataframe tbody tr th:only-of-type {\n",
              "        vertical-align: middle;\n",
              "    }\n",
              "\n",
              "    .dataframe tbody tr th {\n",
              "        vertical-align: top;\n",
              "    }\n",
              "\n",
              "    .dataframe thead th {\n",
              "        text-align: right;\n",
              "    }\n",
              "</style>\n",
              "<table border=\"1\" class=\"dataframe\">\n",
              "  <thead>\n",
              "    <tr style=\"text-align: right;\">\n",
              "      <th></th>\n",
              "      <th>id</th>\n",
              "      <th>annotator</th>\n",
              "      <th>position</th>\n",
              "      <th>question</th>\n",
              "      <th>table_file</th>\n",
              "      <th>answer_coordinates</th>\n",
              "      <th>answer_text</th>\n",
              "    </tr>\n",
              "  </thead>\n",
              "  <tbody>\n",
              "    <tr>\n",
              "      <th>0</th>\n",
              "      <td>nt-639</td>\n",
              "      <td>0</td>\n",
              "      <td>0</td>\n",
              "      <td>where are the players from?</td>\n",
              "      <td>table_csv/203_149.csv</td>\n",
              "      <td>['(0, 4)', '(1, 4)', '(2, 4)', '(3, 4)', '(4, ...</td>\n",
              "      <td>['Louisiana State University', 'Valley HS (Las...</td>\n",
              "    </tr>\n",
              "    <tr>\n",
              "      <th>1</th>\n",
              "      <td>nt-639</td>\n",
              "      <td>0</td>\n",
              "      <td>1</td>\n",
              "      <td>which player went to louisiana state university?</td>\n",
              "      <td>table_csv/203_149.csv</td>\n",
              "      <td>['(0, 1)']</td>\n",
              "      <td>['Ben McDonald']</td>\n",
              "    </tr>\n",
              "    <tr>\n",
              "      <th>2</th>\n",
              "      <td>nt-639</td>\n",
              "      <td>1</td>\n",
              "      <td>0</td>\n",
              "      <td>who are the players?</td>\n",
              "      <td>table_csv/203_149.csv</td>\n",
              "      <td>['(0, 1)', '(1, 1)', '(2, 1)', '(3, 1)', '(4, ...</td>\n",
              "      <td>['Ben McDonald', 'Tyler Houston', 'Roger Salke...</td>\n",
              "    </tr>\n",
              "    <tr>\n",
              "      <th>3</th>\n",
              "      <td>nt-639</td>\n",
              "      <td>1</td>\n",
              "      <td>1</td>\n",
              "      <td>which ones are in the top 26 picks?</td>\n",
              "      <td>table_csv/203_149.csv</td>\n",
              "      <td>['(0, 1)', '(1, 1)', '(2, 1)', '(3, 1)', '(4, ...</td>\n",
              "      <td>['Ben McDonald', 'Tyler Houston', 'Roger Salke...</td>\n",
              "    </tr>\n",
              "    <tr>\n",
              "      <th>4</th>\n",
              "      <td>nt-639</td>\n",
              "      <td>1</td>\n",
              "      <td>2</td>\n",
              "      <td>and of those, who is from louisiana state univ...</td>\n",
              "      <td>table_csv/203_149.csv</td>\n",
              "      <td>['(0, 1)']</td>\n",
              "      <td>['Ben McDonald']</td>\n",
              "    </tr>\n",
              "  </tbody>\n",
              "</table>\n",
              "</div>"
            ],
            "text/plain": [
              "       id  ...                                        answer_text\n",
              "0  nt-639  ...  ['Louisiana State University', 'Valley HS (Las...\n",
              "1  nt-639  ...                                   ['Ben McDonald']\n",
              "2  nt-639  ...  ['Ben McDonald', 'Tyler Houston', 'Roger Salke...\n",
              "3  nt-639  ...  ['Ben McDonald', 'Tyler Houston', 'Roger Salke...\n",
              "4  nt-639  ...                                   ['Ben McDonald']\n",
              "\n",
              "[5 rows x 7 columns]"
            ]
          },
          "metadata": {
            "tags": []
          },
          "execution_count": 7
        }
      ]
    },
    {
      "cell_type": "markdown",
      "metadata": {
        "id": "OMJ4dNBV1oj6"
      },
      "source": [
        "As you can see, each row corresponds to a question related to a table. \n",
        "* The `position` column identifies whether the question is the first, second, ... in a sequence of questions related to a table. \n",
        "* The `table_file` column identifies the name of the table file, which refers to a CSV file in the `table_csv` directory.\n",
        "* The `answer_coordinates` and `answer_text` columns indicate the answer to the question. The `answer_coordinates` is a list of tuples, each tuple being a (row_index, column_index) pair. The `answer_text` column is a list of strings, indicating the cell values.\n",
        "\n",
        "However, the `answer_coordinates` and `answer_text` columns are currently not recognized as real Python lists of Python tuples and strings respectively. Let's do that first using the `.literal_eval()`function of the `ast` module:"
      ]
    },
    {
      "cell_type": "code",
      "metadata": {
        "colab": {
          "base_uri": "https://localhost:8080/",
          "height": 341
        },
        "id": "BAovAs5s1k10",
        "outputId": "88e1b2a0-86ac-48e7-9316-d5f87174ef1d"
      },
      "source": [
        "import ast\n",
        "\n",
        "def _parse_answer_coordinates(answer_coordinate_str):\n",
        "  \"\"\"Parses the answer_coordinates of a question.\n",
        "  Args:\n",
        "    answer_coordinate_str: A string representation of a Python list of tuple\n",
        "      strings.\n",
        "      For example: \"['(1, 4)','(1, 3)', ...]\"\n",
        "  \"\"\"\n",
        "\n",
        "  try:\n",
        "    answer_coordinates = []\n",
        "    # make a list of strings\n",
        "    coords = ast.literal_eval(answer_coordinate_str)\n",
        "    # parse each string as a tuple\n",
        "    for row_index, column_index in sorted(\n",
        "        ast.literal_eval(coord) for coord in coords):\n",
        "      answer_coordinates.append((row_index, column_index))\n",
        "  except SyntaxError:\n",
        "    raise ValueError('Unable to evaluate %s' % answer_coordinate_str)\n",
        "  \n",
        "  return answer_coordinates\n",
        "\n",
        "\n",
        "def _parse_answer_text(answer_text):\n",
        "  \"\"\"Populates the answer_texts field of `answer` by parsing `answer_text`.\n",
        "  Args:\n",
        "    answer_text: A string representation of a Python list of strings.\n",
        "      For example: \"[u'test', u'hello', ...]\"\n",
        "    answer: an Answer object.\n",
        "  \"\"\"\n",
        "  try:\n",
        "    answer = []\n",
        "    for value in ast.literal_eval(answer_text):\n",
        "      answer.append(value)\n",
        "  except SyntaxError:\n",
        "    raise ValueError('Unable to evaluate %s' % answer_text)\n",
        "\n",
        "  return answer\n",
        "\n",
        "data['answer_coordinates'] = data['answer_coordinates'].apply(lambda coords_str: _parse_answer_coordinates(coords_str))\n",
        "data['answer_text'] = data['answer_text'].apply(lambda txt: _parse_answer_text(txt))\n",
        "\n",
        "data.head(10)"
      ],
      "execution_count": null,
      "outputs": [
        {
          "output_type": "execute_result",
          "data": {
            "text/html": [
              "<div>\n",
              "<style scoped>\n",
              "    .dataframe tbody tr th:only-of-type {\n",
              "        vertical-align: middle;\n",
              "    }\n",
              "\n",
              "    .dataframe tbody tr th {\n",
              "        vertical-align: top;\n",
              "    }\n",
              "\n",
              "    .dataframe thead th {\n",
              "        text-align: right;\n",
              "    }\n",
              "</style>\n",
              "<table border=\"1\" class=\"dataframe\">\n",
              "  <thead>\n",
              "    <tr style=\"text-align: right;\">\n",
              "      <th></th>\n",
              "      <th>id</th>\n",
              "      <th>annotator</th>\n",
              "      <th>position</th>\n",
              "      <th>question</th>\n",
              "      <th>table_file</th>\n",
              "      <th>answer_coordinates</th>\n",
              "      <th>answer_text</th>\n",
              "    </tr>\n",
              "  </thead>\n",
              "  <tbody>\n",
              "    <tr>\n",
              "      <th>0</th>\n",
              "      <td>nt-639</td>\n",
              "      <td>0</td>\n",
              "      <td>0</td>\n",
              "      <td>where are the players from?</td>\n",
              "      <td>table_csv/203_149.csv</td>\n",
              "      <td>[(0, 4), (1, 4), (2, 4), (3, 4), (4, 4), (5, 4...</td>\n",
              "      <td>[Louisiana State University, Valley HS (Las Ve...</td>\n",
              "    </tr>\n",
              "    <tr>\n",
              "      <th>1</th>\n",
              "      <td>nt-639</td>\n",
              "      <td>0</td>\n",
              "      <td>1</td>\n",
              "      <td>which player went to louisiana state university?</td>\n",
              "      <td>table_csv/203_149.csv</td>\n",
              "      <td>[(0, 1)]</td>\n",
              "      <td>[Ben McDonald]</td>\n",
              "    </tr>\n",
              "    <tr>\n",
              "      <th>2</th>\n",
              "      <td>nt-639</td>\n",
              "      <td>1</td>\n",
              "      <td>0</td>\n",
              "      <td>who are the players?</td>\n",
              "      <td>table_csv/203_149.csv</td>\n",
              "      <td>[(0, 1), (1, 1), (2, 1), (3, 1), (4, 1), (5, 1...</td>\n",
              "      <td>[Ben McDonald, Tyler Houston, Roger Salkeld, J...</td>\n",
              "    </tr>\n",
              "    <tr>\n",
              "      <th>3</th>\n",
              "      <td>nt-639</td>\n",
              "      <td>1</td>\n",
              "      <td>1</td>\n",
              "      <td>which ones are in the top 26 picks?</td>\n",
              "      <td>table_csv/203_149.csv</td>\n",
              "      <td>[(0, 1), (1, 1), (2, 1), (3, 1), (4, 1), (5, 1...</td>\n",
              "      <td>[Ben McDonald, Tyler Houston, Roger Salkeld, J...</td>\n",
              "    </tr>\n",
              "    <tr>\n",
              "      <th>4</th>\n",
              "      <td>nt-639</td>\n",
              "      <td>1</td>\n",
              "      <td>2</td>\n",
              "      <td>and of those, who is from louisiana state univ...</td>\n",
              "      <td>table_csv/203_149.csv</td>\n",
              "      <td>[(0, 1)]</td>\n",
              "      <td>[Ben McDonald]</td>\n",
              "    </tr>\n",
              "    <tr>\n",
              "      <th>5</th>\n",
              "      <td>nt-639</td>\n",
              "      <td>2</td>\n",
              "      <td>0</td>\n",
              "      <td>who are the players in the top 26?</td>\n",
              "      <td>table_csv/203_149.csv</td>\n",
              "      <td>[(0, 1), (1, 1), (2, 1), (3, 1), (4, 1), (5, 1...</td>\n",
              "      <td>[Ben McDonald, Tyler Houston, Roger Salkeld, J...</td>\n",
              "    </tr>\n",
              "    <tr>\n",
              "      <th>6</th>\n",
              "      <td>nt-639</td>\n",
              "      <td>2</td>\n",
              "      <td>1</td>\n",
              "      <td>of those, which one was from louisiana state u...</td>\n",
              "      <td>table_csv/203_149.csv</td>\n",
              "      <td>[(0, 1)]</td>\n",
              "      <td>[Ben McDonald]</td>\n",
              "    </tr>\n",
              "    <tr>\n",
              "      <th>7</th>\n",
              "      <td>nt-11649</td>\n",
              "      <td>0</td>\n",
              "      <td>0</td>\n",
              "      <td>what are all the names of the teams?</td>\n",
              "      <td>table_csv/204_135.csv</td>\n",
              "      <td>[(0, 1), (1, 1), (2, 1), (3, 1), (4, 1), (5, 1...</td>\n",
              "      <td>[Cordoba CF, CD Malaga, Granada CF, UD Las Pal...</td>\n",
              "    </tr>\n",
              "    <tr>\n",
              "      <th>8</th>\n",
              "      <td>nt-11649</td>\n",
              "      <td>0</td>\n",
              "      <td>1</td>\n",
              "      <td>of these, which teams had any losses?</td>\n",
              "      <td>table_csv/204_135.csv</td>\n",
              "      <td>[(0, 1), (1, 1), (2, 1), (3, 1), (4, 1), (5, 1...</td>\n",
              "      <td>[Cordoba CF, CD Malaga, Granada CF, UD Las Pal...</td>\n",
              "    </tr>\n",
              "    <tr>\n",
              "      <th>9</th>\n",
              "      <td>nt-11649</td>\n",
              "      <td>0</td>\n",
              "      <td>2</td>\n",
              "      <td>of these teams, which had more than 21 losses?</td>\n",
              "      <td>table_csv/204_135.csv</td>\n",
              "      <td>[(15, 1)]</td>\n",
              "      <td>[CD Villarrobledo]</td>\n",
              "    </tr>\n",
              "  </tbody>\n",
              "</table>\n",
              "</div>"
            ],
            "text/plain": [
              "         id  ...                                        answer_text\n",
              "0    nt-639  ...  [Louisiana State University, Valley HS (Las Ve...\n",
              "1    nt-639  ...                                     [Ben McDonald]\n",
              "2    nt-639  ...  [Ben McDonald, Tyler Houston, Roger Salkeld, J...\n",
              "3    nt-639  ...  [Ben McDonald, Tyler Houston, Roger Salkeld, J...\n",
              "4    nt-639  ...                                     [Ben McDonald]\n",
              "5    nt-639  ...  [Ben McDonald, Tyler Houston, Roger Salkeld, J...\n",
              "6    nt-639  ...                                     [Ben McDonald]\n",
              "7  nt-11649  ...  [Cordoba CF, CD Malaga, Granada CF, UD Las Pal...\n",
              "8  nt-11649  ...  [Cordoba CF, CD Malaga, Granada CF, UD Las Pal...\n",
              "9  nt-11649  ...                                 [CD Villarrobledo]\n",
              "\n",
              "[10 rows x 7 columns]"
            ]
          },
          "metadata": {
            "tags": []
          },
          "execution_count": 8
        }
      ]
    },
    {
      "cell_type": "markdown",
      "metadata": {
        "id": "X7FYPpdW5dY4"
      },
      "source": [
        "Let's create a new dataframe that groups questions which are asked in a sequence related to the table. We can do this by adding a `sequence_id` column, which is a combination of the `id` and `annotator` columns:"
      ]
    },
    {
      "cell_type": "code",
      "metadata": {
        "colab": {
          "base_uri": "https://localhost:8080/",
          "height": 194
        },
        "id": "O1Quo0FL7h9-",
        "outputId": "63361c64-1219-49e7-afdd-8454b8d7cb64"
      },
      "source": [
        "def get_sequence_id(example_id, annotator):\n",
        "  if \"-\" in str(annotator):\n",
        "    raise ValueError('\"-\" not allowed in annotator.')\n",
        "  return f\"{example_id}-{annotator}\"\n",
        "\n",
        "data['sequence_id'] = data.apply(lambda x: get_sequence_id(x.id, x.annotator), axis=1)\n",
        "data.head()"
      ],
      "execution_count": null,
      "outputs": [
        {
          "output_type": "execute_result",
          "data": {
            "text/html": [
              "<div>\n",
              "<style scoped>\n",
              "    .dataframe tbody tr th:only-of-type {\n",
              "        vertical-align: middle;\n",
              "    }\n",
              "\n",
              "    .dataframe tbody tr th {\n",
              "        vertical-align: top;\n",
              "    }\n",
              "\n",
              "    .dataframe thead th {\n",
              "        text-align: right;\n",
              "    }\n",
              "</style>\n",
              "<table border=\"1\" class=\"dataframe\">\n",
              "  <thead>\n",
              "    <tr style=\"text-align: right;\">\n",
              "      <th></th>\n",
              "      <th>id</th>\n",
              "      <th>annotator</th>\n",
              "      <th>position</th>\n",
              "      <th>question</th>\n",
              "      <th>table_file</th>\n",
              "      <th>answer_coordinates</th>\n",
              "      <th>answer_text</th>\n",
              "      <th>sequence_id</th>\n",
              "    </tr>\n",
              "  </thead>\n",
              "  <tbody>\n",
              "    <tr>\n",
              "      <th>0</th>\n",
              "      <td>nt-639</td>\n",
              "      <td>0</td>\n",
              "      <td>0</td>\n",
              "      <td>where are the players from?</td>\n",
              "      <td>table_csv/203_149.csv</td>\n",
              "      <td>[(0, 4), (1, 4), (2, 4), (3, 4), (4, 4), (5, 4...</td>\n",
              "      <td>[Louisiana State University, Valley HS (Las Ve...</td>\n",
              "      <td>nt-639-0</td>\n",
              "    </tr>\n",
              "    <tr>\n",
              "      <th>1</th>\n",
              "      <td>nt-639</td>\n",
              "      <td>0</td>\n",
              "      <td>1</td>\n",
              "      <td>which player went to louisiana state university?</td>\n",
              "      <td>table_csv/203_149.csv</td>\n",
              "      <td>[(0, 1)]</td>\n",
              "      <td>[Ben McDonald]</td>\n",
              "      <td>nt-639-0</td>\n",
              "    </tr>\n",
              "    <tr>\n",
              "      <th>2</th>\n",
              "      <td>nt-639</td>\n",
              "      <td>1</td>\n",
              "      <td>0</td>\n",
              "      <td>who are the players?</td>\n",
              "      <td>table_csv/203_149.csv</td>\n",
              "      <td>[(0, 1), (1, 1), (2, 1), (3, 1), (4, 1), (5, 1...</td>\n",
              "      <td>[Ben McDonald, Tyler Houston, Roger Salkeld, J...</td>\n",
              "      <td>nt-639-1</td>\n",
              "    </tr>\n",
              "    <tr>\n",
              "      <th>3</th>\n",
              "      <td>nt-639</td>\n",
              "      <td>1</td>\n",
              "      <td>1</td>\n",
              "      <td>which ones are in the top 26 picks?</td>\n",
              "      <td>table_csv/203_149.csv</td>\n",
              "      <td>[(0, 1), (1, 1), (2, 1), (3, 1), (4, 1), (5, 1...</td>\n",
              "      <td>[Ben McDonald, Tyler Houston, Roger Salkeld, J...</td>\n",
              "      <td>nt-639-1</td>\n",
              "    </tr>\n",
              "    <tr>\n",
              "      <th>4</th>\n",
              "      <td>nt-639</td>\n",
              "      <td>1</td>\n",
              "      <td>2</td>\n",
              "      <td>and of those, who is from louisiana state univ...</td>\n",
              "      <td>table_csv/203_149.csv</td>\n",
              "      <td>[(0, 1)]</td>\n",
              "      <td>[Ben McDonald]</td>\n",
              "      <td>nt-639-1</td>\n",
              "    </tr>\n",
              "  </tbody>\n",
              "</table>\n",
              "</div>"
            ],
            "text/plain": [
              "       id  ...  sequence_id\n",
              "0  nt-639  ...     nt-639-0\n",
              "1  nt-639  ...     nt-639-0\n",
              "2  nt-639  ...     nt-639-1\n",
              "3  nt-639  ...     nt-639-1\n",
              "4  nt-639  ...     nt-639-1\n",
              "\n",
              "[5 rows x 8 columns]"
            ]
          },
          "metadata": {
            "tags": []
          },
          "execution_count": 9
        }
      ]
    },
    {
      "cell_type": "code",
      "metadata": {
        "colab": {
          "base_uri": "https://localhost:8080/",
          "height": 371
        },
        "id": "-uPpds5D762B",
        "outputId": "22d0aac7-bc2a-429b-cd49-6acfa8477359"
      },
      "source": [
        "# let's group table-question pairs by sequence id, and remove some columns we don't need \n",
        "grouped = data.groupby(by='sequence_id').agg(lambda x: x.tolist())\n",
        "grouped = grouped.drop(columns=['id', 'annotator', 'position'])\n",
        "grouped['table_file'] = grouped['table_file'].apply(lambda x: x[0])\n",
        "grouped.head(10)"
      ],
      "execution_count": null,
      "outputs": [
        {
          "output_type": "execute_result",
          "data": {
            "text/html": [
              "<div>\n",
              "<style scoped>\n",
              "    .dataframe tbody tr th:only-of-type {\n",
              "        vertical-align: middle;\n",
              "    }\n",
              "\n",
              "    .dataframe tbody tr th {\n",
              "        vertical-align: top;\n",
              "    }\n",
              "\n",
              "    .dataframe thead th {\n",
              "        text-align: right;\n",
              "    }\n",
              "</style>\n",
              "<table border=\"1\" class=\"dataframe\">\n",
              "  <thead>\n",
              "    <tr style=\"text-align: right;\">\n",
              "      <th></th>\n",
              "      <th>question</th>\n",
              "      <th>table_file</th>\n",
              "      <th>answer_coordinates</th>\n",
              "      <th>answer_text</th>\n",
              "    </tr>\n",
              "    <tr>\n",
              "      <th>sequence_id</th>\n",
              "      <th></th>\n",
              "      <th></th>\n",
              "      <th></th>\n",
              "      <th></th>\n",
              "    </tr>\n",
              "  </thead>\n",
              "  <tbody>\n",
              "    <tr>\n",
              "      <th>ns-1292-0</th>\n",
              "      <td>[who are all the athletes?, where are they fro...</td>\n",
              "      <td>table_csv/204_521.csv</td>\n",
              "      <td>[[(0, 1), (1, 1), (2, 1), (3, 1), (4, 1), (5, ...</td>\n",
              "      <td>[[Tommy Green, Janis Dalins, Ugo Frigerio, Kar...</td>\n",
              "    </tr>\n",
              "    <tr>\n",
              "      <th>nt-10730-0</th>\n",
              "      <td>[what was the production numbers of each revol...</td>\n",
              "      <td>table_csv/203_253.csv</td>\n",
              "      <td>[[(0, 4), (1, 4), (2, 4), (3, 4), (4, 4), (5, ...</td>\n",
              "      <td>[[1,900 (estimated), 14,500 (estimated), 6,000...</td>\n",
              "    </tr>\n",
              "    <tr>\n",
              "      <th>nt-10730-1</th>\n",
              "      <td>[what three revolver models had the least amou...</td>\n",
              "      <td>table_csv/203_253.csv</td>\n",
              "      <td>[[(0, 0), (6, 0), (7, 0)], [(0, 0)]]</td>\n",
              "      <td>[[Remington-Beals Army Model Revolver, New Mod...</td>\n",
              "    </tr>\n",
              "    <tr>\n",
              "      <th>nt-10730-2</th>\n",
              "      <td>[what are all of the remington models?, how ma...</td>\n",
              "      <td>table_csv/203_253.csv</td>\n",
              "      <td>[[(0, 0), (1, 0), (2, 0), (3, 0), (4, 0), (5, ...</td>\n",
              "      <td>[[Remington-Beals Army Model Revolver, Remingt...</td>\n",
              "    </tr>\n",
              "    <tr>\n",
              "      <th>nt-11649-0</th>\n",
              "      <td>[what are all the names of the teams?, of thes...</td>\n",
              "      <td>table_csv/204_135.csv</td>\n",
              "      <td>[[(0, 1), (1, 1), (2, 1), (3, 1), (4, 1), (5, ...</td>\n",
              "      <td>[[Cordoba CF, CD Malaga, Granada CF, UD Las Pa...</td>\n",
              "    </tr>\n",
              "    <tr>\n",
              "      <th>nt-11649-1</th>\n",
              "      <td>[what are the losses?, what team had more than...</td>\n",
              "      <td>table_csv/204_135.csv</td>\n",
              "      <td>[[(0, 6), (1, 6), (2, 6), (3, 6), (4, 6), (5, ...</td>\n",
              "      <td>[[6, 6, 9, 10, 10, 12, 12, 11, 13, 14, 15, 14,...</td>\n",
              "    </tr>\n",
              "    <tr>\n",
              "      <th>nt-11649-2</th>\n",
              "      <td>[what were all the teams?, what were the loss ...</td>\n",
              "      <td>table_csv/204_135.csv</td>\n",
              "      <td>[[(0, 1), (1, 1), (2, 1), (3, 1), (4, 1), (5, ...</td>\n",
              "      <td>[[Cordoba CF, CD Malaga, Granada CF, UD Las Pa...</td>\n",
              "    </tr>\n",
              "    <tr>\n",
              "      <th>nt-639-0</th>\n",
              "      <td>[where are the players from?, which player wen...</td>\n",
              "      <td>table_csv/203_149.csv</td>\n",
              "      <td>[[(0, 4), (1, 4), (2, 4), (3, 4), (4, 4), (5, ...</td>\n",
              "      <td>[[Louisiana State University, Valley HS (Las V...</td>\n",
              "    </tr>\n",
              "    <tr>\n",
              "      <th>nt-639-1</th>\n",
              "      <td>[who are the players?, which ones are in the t...</td>\n",
              "      <td>table_csv/203_149.csv</td>\n",
              "      <td>[[(0, 1), (1, 1), (2, 1), (3, 1), (4, 1), (5, ...</td>\n",
              "      <td>[[Ben McDonald, Tyler Houston, Roger Salkeld, ...</td>\n",
              "    </tr>\n",
              "    <tr>\n",
              "      <th>nt-639-2</th>\n",
              "      <td>[who are the players in the top 26?, of those,...</td>\n",
              "      <td>table_csv/203_149.csv</td>\n",
              "      <td>[[(0, 1), (1, 1), (2, 1), (3, 1), (4, 1), (5, ...</td>\n",
              "      <td>[[Ben McDonald, Tyler Houston, Roger Salkeld, ...</td>\n",
              "    </tr>\n",
              "  </tbody>\n",
              "</table>\n",
              "</div>"
            ],
            "text/plain": [
              "                                                      question  ...                                        answer_text\n",
              "sequence_id                                                     ...                                                   \n",
              "ns-1292-0    [who are all the athletes?, where are they fro...  ...  [[Tommy Green, Janis Dalins, Ugo Frigerio, Kar...\n",
              "nt-10730-0   [what was the production numbers of each revol...  ...  [[1,900 (estimated), 14,500 (estimated), 6,000...\n",
              "nt-10730-1   [what three revolver models had the least amou...  ...  [[Remington-Beals Army Model Revolver, New Mod...\n",
              "nt-10730-2   [what are all of the remington models?, how ma...  ...  [[Remington-Beals Army Model Revolver, Remingt...\n",
              "nt-11649-0   [what are all the names of the teams?, of thes...  ...  [[Cordoba CF, CD Malaga, Granada CF, UD Las Pa...\n",
              "nt-11649-1   [what are the losses?, what team had more than...  ...  [[6, 6, 9, 10, 10, 12, 12, 11, 13, 14, 15, 14,...\n",
              "nt-11649-2   [what were all the teams?, what were the loss ...  ...  [[Cordoba CF, CD Malaga, Granada CF, UD Las Pa...\n",
              "nt-639-0     [where are the players from?, which player wen...  ...  [[Louisiana State University, Valley HS (Las V...\n",
              "nt-639-1     [who are the players?, which ones are in the t...  ...  [[Ben McDonald, Tyler Houston, Roger Salkeld, ...\n",
              "nt-639-2     [who are the players in the top 26?, of those,...  ...  [[Ben McDonald, Tyler Houston, Roger Salkeld, ...\n",
              "\n",
              "[10 rows x 4 columns]"
            ]
          },
          "metadata": {
            "tags": []
          },
          "execution_count": 10
        }
      ]
    },
    {
      "cell_type": "markdown",
      "metadata": {
        "id": "r6RKTkSeLLyJ"
      },
      "source": [
        "Each row in the dataframe above now consists of a **table and one or more questions** which are asked in a **sequence**. Let's visualize the first row, i.e. a table, together with its queries:"
      ]
    },
    {
      "cell_type": "code",
      "metadata": {
        "colab": {
          "base_uri": "https://localhost:8080/",
          "height": 522
        },
        "id": "J-dTi5omLdN_",
        "outputId": "3b9f69a6-f0c5-41b4-b101-c88add8c7348"
      },
      "source": [
        "# path to the directory containing all csv files\n",
        "table_csv_path = \"table_csv\"\n",
        "\n",
        "item = grouped.iloc[0]\n",
        "table = pd.read_csv(table_csv_path + item.table_file[9:]).astype(str) \n",
        "\n",
        "display(table)\n",
        "print(\"\")\n",
        "print(item.question)"
      ],
      "execution_count": null,
      "outputs": [
        {
          "output_type": "display_data",
          "data": {
            "text/html": [
              "<div>\n",
              "<style scoped>\n",
              "    .dataframe tbody tr th:only-of-type {\n",
              "        vertical-align: middle;\n",
              "    }\n",
              "\n",
              "    .dataframe tbody tr th {\n",
              "        vertical-align: top;\n",
              "    }\n",
              "\n",
              "    .dataframe thead th {\n",
              "        text-align: right;\n",
              "    }\n",
              "</style>\n",
              "<table border=\"1\" class=\"dataframe\">\n",
              "  <thead>\n",
              "    <tr style=\"text-align: right;\">\n",
              "      <th></th>\n",
              "      <th>Rank</th>\n",
              "      <th>Name</th>\n",
              "      <th>Nationality</th>\n",
              "      <th>Time (hand)</th>\n",
              "      <th>Notes</th>\n",
              "    </tr>\n",
              "  </thead>\n",
              "  <tbody>\n",
              "    <tr>\n",
              "      <th>0</th>\n",
              "      <td>nan</td>\n",
              "      <td>Tommy Green</td>\n",
              "      <td>Great Britain</td>\n",
              "      <td>4:50:10</td>\n",
              "      <td>OR</td>\n",
              "    </tr>\n",
              "    <tr>\n",
              "      <th>1</th>\n",
              "      <td>nan</td>\n",
              "      <td>Janis Dalins</td>\n",
              "      <td>Latvia</td>\n",
              "      <td>4:57:20</td>\n",
              "      <td>nan</td>\n",
              "    </tr>\n",
              "    <tr>\n",
              "      <th>2</th>\n",
              "      <td>nan</td>\n",
              "      <td>Ugo Frigerio</td>\n",
              "      <td>Italy</td>\n",
              "      <td>4:59:06</td>\n",
              "      <td>nan</td>\n",
              "    </tr>\n",
              "    <tr>\n",
              "      <th>3</th>\n",
              "      <td>4.0</td>\n",
              "      <td>Karl Hahnel</td>\n",
              "      <td>Germany</td>\n",
              "      <td>5:06:06</td>\n",
              "      <td>nan</td>\n",
              "    </tr>\n",
              "    <tr>\n",
              "      <th>4</th>\n",
              "      <td>5.0</td>\n",
              "      <td>Ettore Rivolta</td>\n",
              "      <td>Italy</td>\n",
              "      <td>5:07:39</td>\n",
              "      <td>nan</td>\n",
              "    </tr>\n",
              "    <tr>\n",
              "      <th>5</th>\n",
              "      <td>6.0</td>\n",
              "      <td>Paul Sievert</td>\n",
              "      <td>Germany</td>\n",
              "      <td>5:16:41</td>\n",
              "      <td>nan</td>\n",
              "    </tr>\n",
              "    <tr>\n",
              "      <th>6</th>\n",
              "      <td>7.0</td>\n",
              "      <td>Henri Quintric</td>\n",
              "      <td>France</td>\n",
              "      <td>5:27:25</td>\n",
              "      <td>nan</td>\n",
              "    </tr>\n",
              "    <tr>\n",
              "      <th>7</th>\n",
              "      <td>8.0</td>\n",
              "      <td>Ernie Crosbie</td>\n",
              "      <td>United States</td>\n",
              "      <td>5:28:02</td>\n",
              "      <td>nan</td>\n",
              "    </tr>\n",
              "    <tr>\n",
              "      <th>8</th>\n",
              "      <td>9.0</td>\n",
              "      <td>Bill Chisholm</td>\n",
              "      <td>United States</td>\n",
              "      <td>5:51:00</td>\n",
              "      <td>nan</td>\n",
              "    </tr>\n",
              "    <tr>\n",
              "      <th>9</th>\n",
              "      <td>10.0</td>\n",
              "      <td>Alfred Maasik</td>\n",
              "      <td>Estonia</td>\n",
              "      <td>6:19:00</td>\n",
              "      <td>nan</td>\n",
              "    </tr>\n",
              "    <tr>\n",
              "      <th>10</th>\n",
              "      <td>nan</td>\n",
              "      <td>Henry Cieman</td>\n",
              "      <td>Canada</td>\n",
              "      <td>nan</td>\n",
              "      <td>DNF</td>\n",
              "    </tr>\n",
              "    <tr>\n",
              "      <th>11</th>\n",
              "      <td>nan</td>\n",
              "      <td>John Moralis</td>\n",
              "      <td>Greece</td>\n",
              "      <td>nan</td>\n",
              "      <td>DNF</td>\n",
              "    </tr>\n",
              "    <tr>\n",
              "      <th>12</th>\n",
              "      <td>nan</td>\n",
              "      <td>Francesco Pretti</td>\n",
              "      <td>Italy</td>\n",
              "      <td>nan</td>\n",
              "      <td>DNF</td>\n",
              "    </tr>\n",
              "    <tr>\n",
              "      <th>13</th>\n",
              "      <td>nan</td>\n",
              "      <td>Arthur Tell Schwab</td>\n",
              "      <td>Switzerland</td>\n",
              "      <td>nan</td>\n",
              "      <td>DNF</td>\n",
              "    </tr>\n",
              "    <tr>\n",
              "      <th>14</th>\n",
              "      <td>nan</td>\n",
              "      <td>Harry Hinkel</td>\n",
              "      <td>United States</td>\n",
              "      <td>nan</td>\n",
              "      <td>DNF</td>\n",
              "    </tr>\n",
              "  </tbody>\n",
              "</table>\n",
              "</div>"
            ],
            "text/plain": [
              "    Rank                Name    Nationality Time (hand) Notes\n",
              "0    nan         Tommy Green  Great Britain     4:50:10    OR\n",
              "1    nan        Janis Dalins         Latvia     4:57:20   nan\n",
              "2    nan        Ugo Frigerio          Italy     4:59:06   nan\n",
              "3    4.0         Karl Hahnel        Germany     5:06:06   nan\n",
              "4    5.0      Ettore Rivolta          Italy     5:07:39   nan\n",
              "5    6.0        Paul Sievert        Germany     5:16:41   nan\n",
              "6    7.0      Henri Quintric         France     5:27:25   nan\n",
              "7    8.0       Ernie Crosbie  United States     5:28:02   nan\n",
              "8    9.0       Bill Chisholm  United States     5:51:00   nan\n",
              "9   10.0       Alfred Maasik        Estonia     6:19:00   nan\n",
              "10   nan        Henry Cieman         Canada         nan   DNF\n",
              "11   nan        John Moralis         Greece         nan   DNF\n",
              "12   nan    Francesco Pretti          Italy         nan   DNF\n",
              "13   nan  Arthur Tell Schwab    Switzerland         nan   DNF\n",
              "14   nan        Harry Hinkel  United States         nan   DNF"
            ]
          },
          "metadata": {
            "tags": []
          }
        },
        {
          "output_type": "stream",
          "text": [
            "\n",
            "['who are all the athletes?', 'where are they from?', 'along with paul sievert, which athlete is from germany?']\n"
          ],
          "name": "stdout"
        }
      ]
    },
    {
      "cell_type": "markdown",
      "metadata": {
        "id": "yw8MqIExLnnq"
      },
      "source": [
        "We can see that there are 3 sequential questions asked related to the contents of the table. \n",
        "\n",
        "We can now use `TapasTokenizer` to batch encode this, as follows:"
      ]
    },
    {
      "cell_type": "code",
      "metadata": {
        "id": "t5iU5byAICWb"
      },
      "source": [
        "import torch\n",
        "from transformers import TapasTokenizer\n",
        "\n",
        "# initialize the tokenizer\n",
        "tokenizer = TapasTokenizer.from_pretrained(\"google/tapas-base\")"
      ],
      "execution_count": null,
      "outputs": []
    },
    {
      "cell_type": "code",
      "metadata": {
        "colab": {
          "base_uri": "https://localhost:8080/"
        },
        "id": "5qOBiUPEGgK8",
        "outputId": "14bf42ef-7446-4b0c-e872-bac3eed0349d"
      },
      "source": [
        "encoding = tokenizer(table=table, queries=item.question, answer_coordinates=item.answer_coordinates, answer_text=item.answer_text,\n",
        "                     truncation=True, padding=\"max_length\", return_tensors=\"pt\")\n",
        "encoding.keys()"
      ],
      "execution_count": null,
      "outputs": [
        {
          "output_type": "execute_result",
          "data": {
            "text/plain": [
              "dict_keys(['input_ids', 'labels', 'numeric_values', 'numeric_values_scale', 'token_type_ids', 'attention_mask'])"
            ]
          },
          "metadata": {
            "tags": []
          },
          "execution_count": 13
        }
      ]
    },
    {
      "cell_type": "markdown",
      "metadata": {
        "id": "y2JRiKjPRHAF"
      },
      "source": [
        "TAPAS basically flattens every table-question pair before feeding it into a BERT like model:"
      ]
    },
    {
      "cell_type": "code",
      "metadata": {
        "colab": {
          "base_uri": "https://localhost:8080/",
          "height": 101
        },
        "id": "lhipz2_GRNKQ",
        "outputId": "8f57210c-fb73-4023-c099-a93841c9f29e"
      },
      "source": [
        "tokenizer.decode(encoding[\"input_ids\"][0])"
      ],
      "execution_count": null,
      "outputs": [
        {
          "output_type": "execute_result",
          "data": {
            "application/vnd.google.colaboratory.intrinsic+json": {
              "type": "string"
            },
            "text/plain": [
              "'[CLS] who are all the athletes? [SEP] rank name nationality time ( hand ) notes [EMPTY] tommy green great britain 4 : 50 : 10 or [EMPTY] janis dalins latvia 4 : 57 : 20 [EMPTY] [EMPTY] ugo frigerio italy 4 : 59 : 06 [EMPTY] 4. 0 karl hahnel germany 5 : 06 : 06 [EMPTY] 5. 0 ettore rivolta italy 5 : 07 : 39 [EMPTY] 6. 0 paul sievert germany 5 : 16 : 41 [EMPTY] 7. 0 henri quintric france 5 : 27 : 25 [EMPTY] 8. 0 ernie crosbie united states 5 : 28 : 02 [EMPTY] 9. 0 bill chisholm united states 5 : 51 : 00 [EMPTY] 10. 0 alfred maasik estonia 6 : 19 : 00 [EMPTY] [EMPTY] henry cieman canada [EMPTY] dnf [EMPTY] john moralis greece [EMPTY] dnf [EMPTY] francesco pretti italy [EMPTY] dnf [EMPTY] arthur tell schwab switzerland [EMPTY] dnf [EMPTY] harry hinkel united states [EMPTY] dnf [PAD] [PAD] [PAD] [PAD] [PAD] [PAD] [PAD] [PAD] [PAD] [PAD] [PAD] [PAD] [PAD] [PAD] [PAD] [PAD] [PAD] [PAD] [PAD] [PAD] [PAD] [PAD] [PAD] [PAD] [PAD] [PAD] [PAD] [PAD] [PAD] [PAD] [PAD] [PAD] [PAD] [PAD] [PAD] [PAD] [PAD] [PAD] [PAD] [PAD] [PAD] [PAD] [PAD] [PAD] [PAD] [PAD] [PAD] [PAD] [PAD] [PAD] [PAD] [PAD] [PAD] [PAD] [PAD] [PAD] [PAD] [PAD] [PAD] [PAD] [PAD] [PAD] [PAD] [PAD] [PAD] [PAD] [PAD] [PAD] [PAD] [PAD] [PAD] [PAD] [PAD] [PAD] [PAD] [PAD] [PAD] [PAD] [PAD] [PAD] [PAD] [PAD] [PAD] [PAD] [PAD] [PAD] [PAD] [PAD] [PAD] [PAD] [PAD] [PAD] [PAD] [PAD] [PAD] [PAD] [PAD] [PAD] [PAD] [PAD] [PAD] [PAD] [PAD] [PAD] [PAD] [PAD] [PAD] [PAD] [PAD] [PAD] [PAD] [PAD] [PAD] [PAD] [PAD] [PAD] [PAD] [PAD] [PAD] [PAD] [PAD] [PAD] [PAD] [PAD] [PAD] [PAD] [PAD] [PAD] [PAD] [PAD] [PAD] [PAD] [PAD] [PAD] [PAD] [PAD] [PAD] [PAD] [PAD] [PAD] [PAD] [PAD] [PAD] [PAD] [PAD] [PAD] [PAD] [PAD] [PAD] [PAD] [PAD] [PAD] [PAD] [PAD] [PAD] [PAD] [PAD] [PAD] [PAD] [PAD] [PAD] [PAD] [PAD] [PAD] [PAD] [PAD] [PAD] [PAD] [PAD] [PAD] [PAD] [PAD] [PAD] [PAD] [PAD] [PAD] [PAD] [PAD] [PAD] [PAD] [PAD] [PAD] [PAD] [PAD] [PAD] [PAD] [PAD] [PAD] [PAD] [PAD] [PAD] [PAD] [PAD] [PAD] [PAD] [PAD] [PAD] [PAD] [PAD] [PAD] [PAD] [PAD] [PAD] [PAD] [PAD] [PAD] [PAD] [PAD] [PAD] [PAD] [PAD] [PAD] [PAD] [PAD] [PAD] [PAD] [PAD] [PAD] [PAD] [PAD] [PAD] [PAD] [PAD] [PAD] [PAD] [PAD] [PAD] [PAD] [PAD] [PAD] [PAD] [PAD] [PAD] [PAD] [PAD] [PAD] [PAD] [PAD] [PAD] [PAD] [PAD] [PAD] [PAD] [PAD] [PAD] [PAD] [PAD] [PAD] [PAD] [PAD] [PAD] [PAD] [PAD] [PAD] [PAD] [PAD] [PAD] [PAD] [PAD] [PAD] [PAD] [PAD] [PAD] [PAD] [PAD] [PAD] [PAD] [PAD] [PAD] [PAD] [PAD] [PAD] [PAD] [PAD] [PAD] [PAD] [PAD] [PAD] [PAD] [PAD] [PAD] [PAD] [PAD] [PAD] [PAD] [PAD] [PAD] [PAD] [PAD] [PAD] [PAD] [PAD] [PAD] [PAD] [PAD] [PAD] [PAD] [PAD] [PAD] [PAD] [PAD] [PAD] [PAD] [PAD] [PAD] [PAD] [PAD] [PAD] [PAD] [PAD] [PAD]'"
            ]
          },
          "metadata": {
            "tags": []
          },
          "execution_count": 14
        }
      ]
    },
    {
      "cell_type": "markdown",
      "metadata": {
        "id": "nVeB5IPaN5oN"
      },
      "source": [
        "The `token_type_ids` ([here](https://huggingface.co/transformers/glossary.html#token-type-ids) more info about it) created here will be of shape (batch_size, sequence_length, 7), as TAPAS uses 7 different token types to encode tabular structure. Let's verify this:"
      ]
    },
    {
      "cell_type": "code",
      "metadata": {
        "id": "zM0v-pwbN6gR"
      },
      "source": [
        "assert encoding[\"token_type_ids\"].shape == (3, 512, 7)"
      ],
      "execution_count": null,
      "outputs": []
    },
    {
      "cell_type": "markdown",
      "metadata": {
        "id": "TMt7cWJMLvue"
      },
      "source": [
        "\n",
        "\n",
        "One thing we can verify is whether the `prev_label` token type ids are created correctly. These indicate which tokens were (part of) an answer to the previous table-question pair. \n",
        "\n",
        "The prev_label token type ids of the first example in a batch must always be zero (since there's no previous table-question pair). Let's verify this:"
      ]
    },
    {
      "cell_type": "code",
      "metadata": {
        "id": "ytUk-H1yL9cc"
      },
      "source": [
        "assert encoding[\"token_type_ids\"][0][:,3].sum() == 0"
      ],
      "execution_count": null,
      "outputs": []
    },
    {
      "cell_type": "markdown",
      "metadata": {
        "id": "rJ_o-82nMfK5"
      },
      "source": [
        "However, the `prev_label` token type ids of the second table-question pair in the batch must be set to 1 for the tokens which were an answer to the previous (i.e. the first) table question pair in the batch. The answers to the first table-question pair are the following:"
      ]
    },
    {
      "cell_type": "code",
      "metadata": {
        "colab": {
          "base_uri": "https://localhost:8080/"
        },
        "id": "yxT9h2LIMNt3",
        "outputId": "02ccb804-75e7-438c-84a6-2c9eba275166"
      },
      "source": [
        "print(item.answer_text[0])"
      ],
      "execution_count": null,
      "outputs": [
        {
          "output_type": "stream",
          "text": [
            "['Tommy Green', 'Janis Dalins', 'Ugo Frigerio', 'Karl Hahnel', 'Ettore Rivolta', 'Paul Sievert', 'Henri Quintric', 'Ernie Crosbie', 'Bill Chisholm', 'Alfred Maasik', 'Henry Cieman', 'John Moralis', 'Francesco Pretti', 'Arthur Tell Schwab', 'Harry Hinkel']\n"
          ],
          "name": "stdout"
        }
      ]
    },
    {
      "cell_type": "markdown",
      "metadata": {
        "id": "CSUkMGAcMpfE"
      },
      "source": [
        "So let's now verify whether the `prev_label` ids of the second table-question pair are set correctly:"
      ]
    },
    {
      "cell_type": "code",
      "metadata": {
        "colab": {
          "base_uri": "https://localhost:8080/"
        },
        "id": "Uv6P7OpJGxuu",
        "outputId": "ea3e6ea0-2ccb-4eb0-faaf-65d6a088d815"
      },
      "source": [
        "for id, prev_label in zip (encoding[\"input_ids\"][1], encoding[\"token_type_ids\"][1][:,3]):\n",
        "  if id != 0: # we skip padding tokens\n",
        "    print(tokenizer.decode([id]), prev_label.item())"
      ],
      "execution_count": null,
      "outputs": [
        {
          "output_type": "stream",
          "text": [
            "[CLS] 0\n",
            "where 0\n",
            "are 0\n",
            "they 0\n",
            "from 0\n",
            "? 0\n",
            "[SEP] 0\n",
            "rank 0\n",
            "name 0\n",
            "nationality 0\n",
            "time 0\n",
            "( 0\n",
            "hand 0\n",
            ") 0\n",
            "notes 0\n",
            "[EMPTY] 0\n",
            "tommy 1\n",
            "green 1\n",
            "great 0\n",
            "britain 0\n",
            "4 0\n",
            ": 0\n",
            "50 0\n",
            ": 0\n",
            "10 0\n",
            "or 0\n",
            "[EMPTY] 0\n",
            "jan 1\n",
            "##is 1\n",
            "dali 1\n",
            "##ns 1\n",
            "latvia 0\n",
            "4 0\n",
            ": 0\n",
            "57 0\n",
            ": 0\n",
            "20 0\n",
            "[EMPTY] 0\n",
            "[EMPTY] 0\n",
            "u 1\n",
            "##go 1\n",
            "fr 1\n",
            "##iger 1\n",
            "##io 1\n",
            "italy 0\n",
            "4 0\n",
            ": 0\n",
            "59 0\n",
            ": 0\n",
            "06 0\n",
            "[EMPTY] 0\n",
            "4 0\n",
            ". 0\n",
            "0 0\n",
            "karl 1\n",
            "hahn 1\n",
            "##el 1\n",
            "germany 0\n",
            "5 0\n",
            ": 0\n",
            "06 0\n",
            ": 0\n",
            "06 0\n",
            "[EMPTY] 0\n",
            "5 0\n",
            ". 0\n",
            "0 0\n",
            "et 1\n",
            "##tore 1\n",
            "ri 1\n",
            "##vo 1\n",
            "##lta 1\n",
            "italy 0\n",
            "5 0\n",
            ": 0\n",
            "07 0\n",
            ": 0\n",
            "39 0\n",
            "[EMPTY] 0\n",
            "6 0\n",
            ". 0\n",
            "0 0\n",
            "paul 1\n",
            "si 1\n",
            "##ever 1\n",
            "##t 1\n",
            "germany 0\n",
            "5 0\n",
            ": 0\n",
            "16 0\n",
            ": 0\n",
            "41 0\n",
            "[EMPTY] 0\n",
            "7 0\n",
            ". 0\n",
            "0 0\n",
            "henri 1\n",
            "qui 1\n",
            "##nt 1\n",
            "##ric 1\n",
            "france 0\n",
            "5 0\n",
            ": 0\n",
            "27 0\n",
            ": 0\n",
            "25 0\n",
            "[EMPTY] 0\n",
            "8 0\n",
            ". 0\n",
            "0 0\n",
            "ernie 1\n",
            "cr 1\n",
            "##os 1\n",
            "##bie 1\n",
            "united 0\n",
            "states 0\n",
            "5 0\n",
            ": 0\n",
            "28 0\n",
            ": 0\n",
            "02 0\n",
            "[EMPTY] 0\n",
            "9 0\n",
            ". 0\n",
            "0 0\n",
            "bill 1\n",
            "chi 1\n",
            "##sho 1\n",
            "##lm 1\n",
            "united 0\n",
            "states 0\n",
            "5 0\n",
            ": 0\n",
            "51 0\n",
            ": 0\n",
            "00 0\n",
            "[EMPTY] 0\n",
            "10 0\n",
            ". 0\n",
            "0 0\n",
            "alfred 1\n",
            "ma 1\n",
            "##asi 1\n",
            "##k 1\n",
            "estonia 0\n",
            "6 0\n",
            ": 0\n",
            "19 0\n",
            ": 0\n",
            "00 0\n",
            "[EMPTY] 0\n",
            "[EMPTY] 0\n",
            "henry 1\n",
            "ci 1\n",
            "##eman 1\n",
            "canada 0\n",
            "[EMPTY] 0\n",
            "d 0\n",
            "##n 0\n",
            "##f 0\n",
            "[EMPTY] 0\n",
            "john 1\n",
            "moral 1\n",
            "##is 1\n",
            "greece 0\n",
            "[EMPTY] 0\n",
            "d 0\n",
            "##n 0\n",
            "##f 0\n",
            "[EMPTY] 0\n",
            "francesco 1\n",
            "pre 1\n",
            "##tti 1\n",
            "italy 0\n",
            "[EMPTY] 0\n",
            "d 0\n",
            "##n 0\n",
            "##f 0\n",
            "[EMPTY] 0\n",
            "arthur 1\n",
            "tell 1\n",
            "sc 1\n",
            "##hwa 1\n",
            "##b 1\n",
            "switzerland 0\n",
            "[EMPTY] 0\n",
            "d 0\n",
            "##n 0\n",
            "##f 0\n",
            "[EMPTY] 0\n",
            "harry 1\n",
            "hi 1\n",
            "##nk 1\n",
            "##el 1\n",
            "united 0\n",
            "states 0\n",
            "[EMPTY] 0\n",
            "d 0\n",
            "##n 0\n",
            "##f 0\n"
          ],
          "name": "stdout"
        }
      ]
    },
    {
      "cell_type": "markdown",
      "metadata": {
        "id": "wjVk49fO6u8H"
      },
      "source": [
        "This looks OK! Be sure to check this, because the token type ids are critical for the performance of TAPAS.\n",
        "\n",
        "Let's create a PyTorch dataset and corresponding dataloader. Note the __getitem__ method here: in order to properly set the prev_labels token types, we must check whether a table-question pair is the first in a sequence or not. In case it is, we can just encode it. In case it isn't, we need to encode it together with the previous table-question pair.\n",
        "\n",
        "Note that this is not the most efficient approach, because we're effectively tokenizing each table-question pair twice when applied on the entire dataset (feel free to ping me a more efficient solution)."
      ]
    },
    {
      "cell_type": "code",
      "metadata": {
        "id": "C-n9vDTD1-k9"
      },
      "source": [
        "class TableDataset(torch.utils.data.Dataset):\n",
        "    def __init__(self, df, tokenizer):\n",
        "        self.df = df\n",
        "        self.tokenizer = tokenizer\n",
        "\n",
        "    def __getitem__(self, idx):\n",
        "        item = self.df.iloc[idx]\n",
        "        table = pd.read_csv(table_csv_path + item.table_file[9:]).astype(str) # TapasTokenizer expects the table data to be text only\n",
        "        if item.position != 0:\n",
        "          # use the previous table-question pair to correctly set the prev_labels token type ids\n",
        "          previous_item = self.df.iloc[idx-1]\n",
        "          encoding = self.tokenizer(table=table, \n",
        "                                    queries=[previous_item.question, item.question], \n",
        "                                    answer_coordinates=[previous_item.answer_coordinates, item.answer_coordinates], \n",
        "                                    answer_text=[previous_item.answer_text, item.answer_text],\n",
        "                                    padding=\"max_length\",\n",
        "                                    truncation=True,\n",
        "                                    return_tensors=\"pt\"\n",
        "          )\n",
        "          # use encodings of second table-question pair in the batch\n",
        "          encoding = {key: val[-1] for key, val in encoding.items()}\n",
        "        else:\n",
        "          # this means it's the first table-question pair in a sequence\n",
        "          encoding = self.tokenizer(table=table, \n",
        "                                    queries=item.question, \n",
        "                                    answer_coordinates=item.answer_coordinates, \n",
        "                                    answer_text=item.answer_text,\n",
        "                                    padding=\"max_length\",\n",
        "                                    truncation=True,\n",
        "                                    return_tensors=\"pt\"\n",
        "          )\n",
        "          # remove the batch dimension which the tokenizer adds \n",
        "          encoding = {key: val.squeeze(0) for key, val in encoding.items()}\n",
        "        return encoding\n",
        "\n",
        "    def __len__(self):\n",
        "        return len(self.df)\n",
        "\n",
        "train_dataset = TableDataset(df=data, tokenizer=tokenizer)\n",
        "train_dataloader = torch.utils.data.DataLoader(train_dataset, batch_size=2)"
      ],
      "execution_count": null,
      "outputs": []
    },
    {
      "cell_type": "code",
      "metadata": {
        "colab": {
          "base_uri": "https://localhost:8080/"
        },
        "id": "X4CHgnTzwfNp",
        "outputId": "66a2b6ab-6245-43d3-c95c-6761784c03a7"
      },
      "source": [
        "train_dataset[0][\"token_type_ids\"].shape"
      ],
      "execution_count": null,
      "outputs": [
        {
          "output_type": "execute_result",
          "data": {
            "text/plain": [
              "torch.Size([512, 7])"
            ]
          },
          "metadata": {
            "tags": []
          },
          "execution_count": 20
        }
      ]
    },
    {
      "cell_type": "code",
      "metadata": {
        "colab": {
          "base_uri": "https://localhost:8080/"
        },
        "id": "bZN1psdBy5_s",
        "outputId": "a934d9a6-459a-4276-82b1-da6c4e5d0c01"
      },
      "source": [
        "train_dataset[1][\"input_ids\"].shape"
      ],
      "execution_count": null,
      "outputs": [
        {
          "output_type": "execute_result",
          "data": {
            "text/plain": [
              "torch.Size([512])"
            ]
          },
          "metadata": {
            "tags": []
          },
          "execution_count": 21
        }
      ]
    },
    {
      "cell_type": "code",
      "metadata": {
        "id": "pHAyf85k_xQt"
      },
      "source": [
        "batch = next(iter(train_dataloader))"
      ],
      "execution_count": null,
      "outputs": []
    },
    {
      "cell_type": "code",
      "metadata": {
        "colab": {
          "base_uri": "https://localhost:8080/"
        },
        "id": "FoqySHh-_0JV",
        "outputId": "75973f07-de9e-43e3-f028-18df54856986"
      },
      "source": [
        "batch[\"input_ids\"].shape"
      ],
      "execution_count": null,
      "outputs": [
        {
          "output_type": "execute_result",
          "data": {
            "text/plain": [
              "torch.Size([2, 512])"
            ]
          },
          "metadata": {
            "tags": []
          },
          "execution_count": 23
        }
      ]
    },
    {
      "cell_type": "code",
      "metadata": {
        "colab": {
          "base_uri": "https://localhost:8080/"
        },
        "id": "g5pjJCCT_53N",
        "outputId": "f533251b-8361-42ec-f885-d14757a55ecc"
      },
      "source": [
        "batch[\"token_type_ids\"].shape"
      ],
      "execution_count": null,
      "outputs": [
        {
          "output_type": "execute_result",
          "data": {
            "text/plain": [
              "torch.Size([2, 512, 7])"
            ]
          },
          "metadata": {
            "tags": []
          },
          "execution_count": 24
        }
      ]
    },
    {
      "cell_type": "markdown",
      "metadata": {
        "id": "xVb1-H-jAEoS"
      },
      "source": [
        "Let's decode the first table-question pair:"
      ]
    },
    {
      "cell_type": "code",
      "metadata": {
        "colab": {
          "base_uri": "https://localhost:8080/",
          "height": 101
        },
        "id": "1vfjT1JC_7zI",
        "outputId": "3293da9f-d383-4f7c-f6c4-cc11995d9e8c"
      },
      "source": [
        "tokenizer.decode(batch[\"input_ids\"][0])"
      ],
      "execution_count": null,
      "outputs": [
        {
          "output_type": "execute_result",
          "data": {
            "application/vnd.google.colaboratory.intrinsic+json": {
              "type": "string"
            },
            "text/plain": [
              "'[CLS] where are the players from? [SEP] pick player team position school 1 ben mcdonald baltimore orioles rhp louisiana state university 2 tyler houston atlanta braves c valley hs ( las vegas, nv ) 3 roger salkeld seattle mariners rhp saugus ( ca ) hs 4 jeff jackson philadelphia phillies of simeon hs ( chicago, il ) 5 donald harris texas rangers of texas tech university 6 paul coleman saint louis cardinals of frankston ( tx ) hs 7 frank thomas chicago white sox 1b auburn university 8 earl cunningham chicago cubs of lancaster ( sc ) hs 9 kyle abbott california angels lhp long beach state university 10 charles johnson montreal expos c westwood hs ( fort pierce, fl ) 11 calvin murray cleveland indians 3b w. t. white high school ( dallas, tx ) 12 jeff juden houston astros rhp salem ( ma ) hs 13 brent mayne kansas city royals c cal state fullerton 14 steve hosey san francisco giants of fresno state university 15 kiki jones los angeles dodgers rhp hillsborough hs ( tampa, fl ) 16 greg blosser boston red sox of sarasota ( fl ) hs 17 cal eldred milwaukee brewers rhp university of iowa 18 willie greene pittsburgh pirates ss jones county hs ( gray, ga ) 19 eddie zosky toronto blue jays ss fresno state university 20 scott bryant cincinnati reds of university of texas 21 greg gohr detroit tigers rhp santa clara university 22 tom goodwin los angeles dodgers of fresno state university 23 mo vaughn boston red sox 1b seton hall university 24 alan zinter new york mets c university of arizona 25 chuck knoblauch minnesota twins 2b texas a & m university 26 scott burrell seattle mariners rhp hamden ( ct ) hs [PAD] [PAD] [PAD] [PAD] [PAD] [PAD] [PAD] [PAD] [PAD] [PAD] [PAD] [PAD] [PAD] [PAD] [PAD] [PAD] [PAD] [PAD] [PAD] [PAD] [PAD] [PAD] [PAD] [PAD] [PAD] [PAD] [PAD] [PAD] [PAD] [PAD] [PAD] [PAD] [PAD] [PAD] [PAD] [PAD] [PAD] [PAD] [PAD] [PAD] [PAD] [PAD] [PAD] [PAD] [PAD] [PAD] [PAD] [PAD] [PAD] [PAD] [PAD] [PAD] [PAD] [PAD] [PAD] [PAD] [PAD] [PAD] [PAD] [PAD] [PAD] [PAD] [PAD] [PAD] [PAD] [PAD] [PAD] [PAD] [PAD] [PAD] [PAD] [PAD] [PAD] [PAD] [PAD] [PAD] [PAD] [PAD] [PAD] [PAD] [PAD] [PAD] [PAD] [PAD] [PAD] [PAD] [PAD] [PAD] [PAD] [PAD] [PAD] [PAD] [PAD] [PAD] [PAD] [PAD] [PAD] [PAD] [PAD] [PAD] [PAD] [PAD] [PAD] [PAD] [PAD] [PAD] [PAD] [PAD] [PAD] [PAD] [PAD] [PAD] [PAD] [PAD] [PAD] [PAD] [PAD] [PAD] [PAD] [PAD] [PAD] [PAD] [PAD] [PAD] [PAD] [PAD] [PAD] [PAD] [PAD] [PAD] [PAD] [PAD] [PAD] [PAD] [PAD] [PAD] [PAD] [PAD] [PAD] [PAD] [PAD] [PAD] [PAD] [PAD] [PAD] [PAD] [PAD] [PAD] [PAD] [PAD] [PAD] [PAD] [PAD] [PAD] [PAD] [PAD] [PAD] [PAD] [PAD] [PAD] [PAD] [PAD] [PAD] [PAD] [PAD] [PAD] [PAD] [PAD] [PAD] [PAD] [PAD] [PAD]'"
            ]
          },
          "metadata": {
            "tags": []
          },
          "execution_count": 25
        }
      ]
    },
    {
      "cell_type": "code",
      "metadata": {
        "id": "sujsp8o9DtsY"
      },
      "source": [
        "#first example should not have any prev_labels set\n",
        "assert batch[\"token_type_ids\"][0][:,3].sum() == 0"
      ],
      "execution_count": null,
      "outputs": []
    },
    {
      "cell_type": "markdown",
      "metadata": {
        "id": "EIeql5vfFI6s"
      },
      "source": [
        "Let's decode the second table-question pair and verify some more:"
      ]
    },
    {
      "cell_type": "code",
      "metadata": {
        "colab": {
          "base_uri": "https://localhost:8080/",
          "height": 101
        },
        "id": "WrNo_qMqFOzi",
        "outputId": "c807e0d1-3d9a-4f67-faf4-73ce53f0d9ec"
      },
      "source": [
        "tokenizer.decode(batch[\"input_ids\"][1])"
      ],
      "execution_count": null,
      "outputs": [
        {
          "output_type": "execute_result",
          "data": {
            "application/vnd.google.colaboratory.intrinsic+json": {
              "type": "string"
            },
            "text/plain": [
              "'[CLS] which player went to louisiana state university? [SEP] pick player team position school 1 ben mcdonald baltimore orioles rhp louisiana state university 2 tyler houston atlanta braves c valley hs ( las vegas, nv ) 3 roger salkeld seattle mariners rhp saugus ( ca ) hs 4 jeff jackson philadelphia phillies of simeon hs ( chicago, il ) 5 donald harris texas rangers of texas tech university 6 paul coleman saint louis cardinals of frankston ( tx ) hs 7 frank thomas chicago white sox 1b auburn university 8 earl cunningham chicago cubs of lancaster ( sc ) hs 9 kyle abbott california angels lhp long beach state university 10 charles johnson montreal expos c westwood hs ( fort pierce, fl ) 11 calvin murray cleveland indians 3b w. t. white high school ( dallas, tx ) 12 jeff juden houston astros rhp salem ( ma ) hs 13 brent mayne kansas city royals c cal state fullerton 14 steve hosey san francisco giants of fresno state university 15 kiki jones los angeles dodgers rhp hillsborough hs ( tampa, fl ) 16 greg blosser boston red sox of sarasota ( fl ) hs 17 cal eldred milwaukee brewers rhp university of iowa 18 willie greene pittsburgh pirates ss jones county hs ( gray, ga ) 19 eddie zosky toronto blue jays ss fresno state university 20 scott bryant cincinnati reds of university of texas 21 greg gohr detroit tigers rhp santa clara university 22 tom goodwin los angeles dodgers of fresno state university 23 mo vaughn boston red sox 1b seton hall university 24 alan zinter new york mets c university of arizona 25 chuck knoblauch minnesota twins 2b texas a & m university 26 scott burrell seattle mariners rhp hamden ( ct ) hs [PAD] [PAD] [PAD] [PAD] [PAD] [PAD] [PAD] [PAD] [PAD] [PAD] [PAD] [PAD] [PAD] [PAD] [PAD] [PAD] [PAD] [PAD] [PAD] [PAD] [PAD] [PAD] [PAD] [PAD] [PAD] [PAD] [PAD] [PAD] [PAD] [PAD] [PAD] [PAD] [PAD] [PAD] [PAD] [PAD] [PAD] [PAD] [PAD] [PAD] [PAD] [PAD] [PAD] [PAD] [PAD] [PAD] [PAD] [PAD] [PAD] [PAD] [PAD] [PAD] [PAD] [PAD] [PAD] [PAD] [PAD] [PAD] [PAD] [PAD] [PAD] [PAD] [PAD] [PAD] [PAD] [PAD] [PAD] [PAD] [PAD] [PAD] [PAD] [PAD] [PAD] [PAD] [PAD] [PAD] [PAD] [PAD] [PAD] [PAD] [PAD] [PAD] [PAD] [PAD] [PAD] [PAD] [PAD] [PAD] [PAD] [PAD] [PAD] [PAD] [PAD] [PAD] [PAD] [PAD] [PAD] [PAD] [PAD] [PAD] [PAD] [PAD] [PAD] [PAD] [PAD] [PAD] [PAD] [PAD] [PAD] [PAD] [PAD] [PAD] [PAD] [PAD] [PAD] [PAD] [PAD] [PAD] [PAD] [PAD] [PAD] [PAD] [PAD] [PAD] [PAD] [PAD] [PAD] [PAD] [PAD] [PAD] [PAD] [PAD] [PAD] [PAD] [PAD] [PAD] [PAD] [PAD] [PAD] [PAD] [PAD] [PAD] [PAD] [PAD] [PAD] [PAD] [PAD] [PAD] [PAD] [PAD] [PAD] [PAD] [PAD] [PAD] [PAD] [PAD] [PAD] [PAD] [PAD] [PAD] [PAD] [PAD] [PAD] [PAD] [PAD] [PAD] [PAD] [PAD] [PAD] [PAD]'"
            ]
          },
          "metadata": {
            "tags": []
          },
          "execution_count": 27
        }
      ]
    },
    {
      "cell_type": "code",
      "metadata": {
        "colab": {
          "base_uri": "https://localhost:8080/"
        },
        "id": "9a1OToVqxNap",
        "outputId": "d9ab726d-da72-4fd8-f637-3982e8fb5033"
      },
      "source": [
        "assert batch[\"labels\"][0].sum() == batch[\"token_type_ids\"][1][:,3].sum()\n",
        "print(batch[\"token_type_ids\"][1][:,3].sum())"
      ],
      "execution_count": null,
      "outputs": [
        {
          "output_type": "stream",
          "text": [
            "tensor(132)\n"
          ],
          "name": "stdout"
        }
      ]
    },
    {
      "cell_type": "code",
      "metadata": {
        "colab": {
          "base_uri": "https://localhost:8080/"
        },
        "id": "x4PRdYvBE1k3",
        "outputId": "370f77c5-4f17-43de-b0ea-d5997e63b416"
      },
      "source": [
        "for id, prev_label in zip(batch[\"input_ids\"][1], batch[\"token_type_ids\"][1][:,3]):\n",
        "  if id != 0:\n",
        "    print(tokenizer.decode([id]), prev_label.item())"
      ],
      "execution_count": null,
      "outputs": [
        {
          "output_type": "stream",
          "text": [
            "[CLS] 0\n",
            "which 0\n",
            "player 0\n",
            "went 0\n",
            "to 0\n",
            "louisiana 0\n",
            "state 0\n",
            "university 0\n",
            "? 0\n",
            "[SEP] 0\n",
            "pick 0\n",
            "player 0\n",
            "team 0\n",
            "position 0\n",
            "school 0\n",
            "1 0\n",
            "ben 0\n",
            "mcdonald 0\n",
            "baltimore 0\n",
            "orioles 0\n",
            "r 0\n",
            "##hp 0\n",
            "louisiana 1\n",
            "state 1\n",
            "university 1\n",
            "2 0\n",
            "tyler 0\n",
            "houston 0\n",
            "atlanta 0\n",
            "braves 0\n",
            "c 0\n",
            "valley 1\n",
            "hs 1\n",
            "( 1\n",
            "las 1\n",
            "vegas 1\n",
            ", 1\n",
            "n 1\n",
            "##v 1\n",
            ") 1\n",
            "3 0\n",
            "roger 0\n",
            "sal 0\n",
            "##kel 0\n",
            "##d 0\n",
            "seattle 0\n",
            "mariners 0\n",
            "r 0\n",
            "##hp 0\n",
            "sa 1\n",
            "##ug 1\n",
            "##us 1\n",
            "( 1\n",
            "ca 1\n",
            ") 1\n",
            "hs 1\n",
            "4 0\n",
            "jeff 0\n",
            "jackson 0\n",
            "philadelphia 0\n",
            "phillies 0\n",
            "of 0\n",
            "simeon 1\n",
            "hs 1\n",
            "( 1\n",
            "chicago 1\n",
            ", 1\n",
            "il 1\n",
            ") 1\n",
            "5 0\n",
            "donald 0\n",
            "harris 0\n",
            "texas 0\n",
            "rangers 0\n",
            "of 0\n",
            "texas 1\n",
            "tech 1\n",
            "university 1\n",
            "6 0\n",
            "paul 0\n",
            "coleman 0\n",
            "saint 0\n",
            "louis 0\n",
            "cardinals 0\n",
            "of 0\n",
            "franks 1\n",
            "##ton 1\n",
            "( 1\n",
            "tx 1\n",
            ") 1\n",
            "hs 1\n",
            "7 0\n",
            "frank 0\n",
            "thomas 0\n",
            "chicago 0\n",
            "white 0\n",
            "sox 0\n",
            "1b 0\n",
            "auburn 1\n",
            "university 1\n",
            "8 0\n",
            "earl 0\n",
            "cunningham 0\n",
            "chicago 0\n",
            "cubs 0\n",
            "of 0\n",
            "lancaster 1\n",
            "( 1\n",
            "sc 1\n",
            ") 1\n",
            "hs 1\n",
            "9 0\n",
            "kyle 0\n",
            "abbott 0\n",
            "california 0\n",
            "angels 0\n",
            "l 0\n",
            "##hp 0\n",
            "long 1\n",
            "beach 1\n",
            "state 1\n",
            "university 1\n",
            "10 0\n",
            "charles 0\n",
            "johnson 0\n",
            "montreal 0\n",
            "expo 0\n",
            "##s 0\n",
            "c 0\n",
            "westwood 1\n",
            "hs 1\n",
            "( 1\n",
            "fort 1\n",
            "pierce 1\n",
            ", 1\n",
            "fl 1\n",
            ") 1\n",
            "11 0\n",
            "calvin 0\n",
            "murray 0\n",
            "cleveland 0\n",
            "indians 0\n",
            "3 0\n",
            "##b 0\n",
            "w 1\n",
            ". 1\n",
            "t 1\n",
            ". 1\n",
            "white 1\n",
            "high 1\n",
            "school 1\n",
            "( 1\n",
            "dallas 1\n",
            ", 1\n",
            "tx 1\n",
            ") 1\n",
            "12 0\n",
            "jeff 0\n",
            "jude 0\n",
            "##n 0\n",
            "houston 0\n",
            "astros 0\n",
            "r 0\n",
            "##hp 0\n",
            "salem 1\n",
            "( 1\n",
            "ma 1\n",
            ") 1\n",
            "hs 1\n",
            "13 0\n",
            "brent 0\n",
            "may 0\n",
            "##ne 0\n",
            "kansas 0\n",
            "city 0\n",
            "royals 0\n",
            "c 0\n",
            "cal 1\n",
            "state 1\n",
            "fuller 1\n",
            "##ton 1\n",
            "14 0\n",
            "steve 0\n",
            "hose 0\n",
            "##y 0\n",
            "san 0\n",
            "francisco 0\n",
            "giants 0\n",
            "of 0\n",
            "fresno 1\n",
            "state 1\n",
            "university 1\n",
            "15 0\n",
            "ki 0\n",
            "##ki 0\n",
            "jones 0\n",
            "los 0\n",
            "angeles 0\n",
            "dodgers 0\n",
            "r 0\n",
            "##hp 0\n",
            "hillsborough 1\n",
            "hs 1\n",
            "( 1\n",
            "tampa 1\n",
            ", 1\n",
            "fl 1\n",
            ") 1\n",
            "16 0\n",
            "greg 0\n",
            "b 0\n",
            "##los 0\n",
            "##ser 0\n",
            "boston 0\n",
            "red 0\n",
            "sox 0\n",
            "of 0\n",
            "sara 1\n",
            "##so 1\n",
            "##ta 1\n",
            "( 1\n",
            "fl 1\n",
            ") 1\n",
            "hs 1\n",
            "17 0\n",
            "cal 0\n",
            "el 0\n",
            "##dre 0\n",
            "##d 0\n",
            "milwaukee 0\n",
            "brewers 0\n",
            "r 0\n",
            "##hp 0\n",
            "university 1\n",
            "of 1\n",
            "iowa 1\n",
            "18 0\n",
            "willie 0\n",
            "greene 0\n",
            "pittsburgh 0\n",
            "pirates 0\n",
            "ss 0\n",
            "jones 1\n",
            "county 1\n",
            "hs 1\n",
            "( 1\n",
            "gray 1\n",
            ", 1\n",
            "ga 1\n",
            ") 1\n",
            "19 0\n",
            "eddie 0\n",
            "z 0\n",
            "##os 0\n",
            "##ky 0\n",
            "toronto 0\n",
            "blue 0\n",
            "jays 0\n",
            "ss 0\n",
            "fresno 1\n",
            "state 1\n",
            "university 1\n",
            "20 0\n",
            "scott 0\n",
            "bryant 0\n",
            "cincinnati 0\n",
            "reds 0\n",
            "of 0\n",
            "university 1\n",
            "of 1\n",
            "texas 1\n",
            "21 0\n",
            "greg 0\n",
            "go 0\n",
            "##hr 0\n",
            "detroit 0\n",
            "tigers 0\n",
            "r 0\n",
            "##hp 0\n",
            "santa 1\n",
            "clara 1\n",
            "university 1\n",
            "22 0\n",
            "tom 0\n",
            "goodwin 0\n",
            "los 0\n",
            "angeles 0\n",
            "dodgers 0\n",
            "of 0\n",
            "fresno 1\n",
            "state 1\n",
            "university 1\n",
            "23 0\n",
            "mo 0\n",
            "vaughn 0\n",
            "boston 0\n",
            "red 0\n",
            "sox 0\n",
            "1b 0\n",
            "seton 1\n",
            "hall 1\n",
            "university 1\n",
            "24 0\n",
            "alan 0\n",
            "z 0\n",
            "##int 0\n",
            "##er 0\n",
            "new 0\n",
            "york 0\n",
            "mets 0\n",
            "c 0\n",
            "university 1\n",
            "of 1\n",
            "arizona 1\n",
            "25 0\n",
            "chuck 0\n",
            "knob 0\n",
            "##lau 0\n",
            "##ch 0\n",
            "minnesota 0\n",
            "twins 0\n",
            "2 0\n",
            "##b 0\n",
            "texas 1\n",
            "a 1\n",
            "& 1\n",
            "m 1\n",
            "university 1\n",
            "26 0\n",
            "scott 0\n",
            "burr 0\n",
            "##ell 0\n",
            "seattle 0\n",
            "mariners 0\n",
            "r 0\n",
            "##hp 0\n",
            "ham 1\n",
            "##den 1\n",
            "( 1\n",
            "ct 1\n",
            ") 1\n",
            "hs 1\n"
          ],
          "name": "stdout"
        }
      ]
    },
    {
      "cell_type": "markdown",
      "metadata": {
        "id": "cAem9QnIxoKb"
      },
      "source": [
        "## Define the model\n",
        "\n",
        "Here we initialize the model with a pre-trained base and randomly initialized cell selection head, and move it to the GPU (if available).\n",
        "\n",
        "Note that the `google/tapas-base` checkpoint has (by default) an SQA configuration, so we don't need to specify any additional hyperparameters."
      ]
    },
    {
      "cell_type": "code",
      "metadata": {
        "colab": {
          "base_uri": "https://localhost:8080/",
          "height": 368
        },
        "id": "_OsPodbiDliR",
        "outputId": "9cd1c4c8-64ed-4788-f853-04ec78cf166a"
      },
      "source": [
        "from transformers import TapasForQuestionAnswering\n",
        "\n",
        "model = TapasForQuestionAnswering.from_pretrained(\"google/tapas-base\")\n",
        "device = torch.device(\"cuda\" if torch.cuda.is_available() else \"cpu\")\n",
        "\n",
        "model.to(device)"
      ],
      "execution_count": null,
      "outputs": [
        {
          "output_type": "error",
          "ename": "OSError",
          "evalue": "ignored",
          "traceback": [
            "\u001b[0;31m---------------------------------------------------------------------------\u001b[0m",
            "\u001b[0;31mOSError\u001b[0m                                   Traceback (most recent call last)",
            "\u001b[0;32m<ipython-input-30-e5b1eae35fa5>\u001b[0m in \u001b[0;36m<module>\u001b[0;34m()\u001b[0m\n\u001b[0;32m----> 1\u001b[0;31m \u001b[0;32mfrom\u001b[0m \u001b[0mtransformers\u001b[0m \u001b[0;32mimport\u001b[0m \u001b[0mTapasForQuestionAnswering\u001b[0m\u001b[0;34m\u001b[0m\u001b[0;34m\u001b[0m\u001b[0m\n\u001b[0m\u001b[1;32m      2\u001b[0m \u001b[0;34m\u001b[0m\u001b[0m\n\u001b[1;32m      3\u001b[0m \u001b[0mmodel\u001b[0m \u001b[0;34m=\u001b[0m \u001b[0mTapasForQuestionAnswering\u001b[0m\u001b[0;34m.\u001b[0m\u001b[0mfrom_pretrained\u001b[0m\u001b[0;34m(\u001b[0m\u001b[0;34m\"google/tapas-base\"\u001b[0m\u001b[0;34m)\u001b[0m\u001b[0;34m\u001b[0m\u001b[0;34m\u001b[0m\u001b[0m\n\u001b[1;32m      4\u001b[0m \u001b[0mdevice\u001b[0m \u001b[0;34m=\u001b[0m \u001b[0mtorch\u001b[0m\u001b[0;34m.\u001b[0m\u001b[0mdevice\u001b[0m\u001b[0;34m(\u001b[0m\u001b[0;34m\"cuda\"\u001b[0m \u001b[0;32mif\u001b[0m \u001b[0mtorch\u001b[0m\u001b[0;34m.\u001b[0m\u001b[0mcuda\u001b[0m\u001b[0;34m.\u001b[0m\u001b[0mis_available\u001b[0m\u001b[0;34m(\u001b[0m\u001b[0;34m)\u001b[0m \u001b[0;32melse\u001b[0m \u001b[0;34m\"cpu\"\u001b[0m\u001b[0;34m)\u001b[0m\u001b[0;34m\u001b[0m\u001b[0;34m\u001b[0m\u001b[0m\n\u001b[1;32m      5\u001b[0m \u001b[0;34m\u001b[0m\u001b[0m\n",
            "\u001b[0;32m/usr/lib/python3.7/importlib/_bootstrap.py\u001b[0m in \u001b[0;36m_handle_fromlist\u001b[0;34m(module, fromlist, import_, recursive)\u001b[0m\n",
            "\u001b[0;32m/usr/local/lib/python3.7/dist-packages/transformers/__init__.py\u001b[0m in \u001b[0;36m__getattr__\u001b[0;34m(self, name)\u001b[0m\n\u001b[1;32m   2578\u001b[0m             \u001b[0;32mif\u001b[0m \u001b[0mname\u001b[0m \u001b[0;34m==\u001b[0m \u001b[0;34m\"__version__\"\u001b[0m\u001b[0;34m:\u001b[0m\u001b[0;34m\u001b[0m\u001b[0;34m\u001b[0m\u001b[0m\n\u001b[1;32m   2579\u001b[0m                 \u001b[0;32mreturn\u001b[0m \u001b[0m__version__\u001b[0m\u001b[0;34m\u001b[0m\u001b[0;34m\u001b[0m\u001b[0m\n\u001b[0;32m-> 2580\u001b[0;31m             \u001b[0;32mreturn\u001b[0m \u001b[0msuper\u001b[0m\u001b[0;34m(\u001b[0m\u001b[0;34m)\u001b[0m\u001b[0;34m.\u001b[0m\u001b[0m__getattr__\u001b[0m\u001b[0;34m(\u001b[0m\u001b[0mname\u001b[0m\u001b[0;34m)\u001b[0m\u001b[0;34m\u001b[0m\u001b[0;34m\u001b[0m\u001b[0m\n\u001b[0m\u001b[1;32m   2581\u001b[0m \u001b[0;34m\u001b[0m\u001b[0m\n\u001b[1;32m   2582\u001b[0m     \u001b[0msys\u001b[0m\u001b[0;34m.\u001b[0m\u001b[0mmodules\u001b[0m\u001b[0;34m[\u001b[0m\u001b[0m__name__\u001b[0m\u001b[0;34m]\u001b[0m \u001b[0;34m=\u001b[0m \u001b[0m_LazyModule\u001b[0m\u001b[0;34m(\u001b[0m\u001b[0m__name__\u001b[0m\u001b[0;34m,\u001b[0m \u001b[0m_import_structure\u001b[0m\u001b[0;34m)\u001b[0m\u001b[0;34m\u001b[0m\u001b[0;34m\u001b[0m\u001b[0m\n",
            "\u001b[0;32m/usr/local/lib/python3.7/dist-packages/transformers/file_utils.py\u001b[0m in \u001b[0;36m__getattr__\u001b[0;34m(self, name)\u001b[0m\n\u001b[1;32m   1667\u001b[0m         \u001b[0;32melif\u001b[0m \u001b[0mname\u001b[0m \u001b[0;32min\u001b[0m \u001b[0mself\u001b[0m\u001b[0;34m.\u001b[0m\u001b[0m_class_to_module\u001b[0m\u001b[0;34m.\u001b[0m\u001b[0mkeys\u001b[0m\u001b[0;34m(\u001b[0m\u001b[0;34m)\u001b[0m\u001b[0;34m:\u001b[0m\u001b[0;34m\u001b[0m\u001b[0;34m\u001b[0m\u001b[0m\n\u001b[1;32m   1668\u001b[0m             \u001b[0mmodule\u001b[0m \u001b[0;34m=\u001b[0m \u001b[0mself\u001b[0m\u001b[0;34m.\u001b[0m\u001b[0m_get_module\u001b[0m\u001b[0;34m(\u001b[0m\u001b[0mself\u001b[0m\u001b[0;34m.\u001b[0m\u001b[0m_class_to_module\u001b[0m\u001b[0;34m[\u001b[0m\u001b[0mname\u001b[0m\u001b[0;34m]\u001b[0m\u001b[0;34m)\u001b[0m\u001b[0;34m\u001b[0m\u001b[0;34m\u001b[0m\u001b[0m\n\u001b[0;32m-> 1669\u001b[0;31m             \u001b[0mvalue\u001b[0m \u001b[0;34m=\u001b[0m \u001b[0mgetattr\u001b[0m\u001b[0;34m(\u001b[0m\u001b[0mmodule\u001b[0m\u001b[0;34m,\u001b[0m \u001b[0mname\u001b[0m\u001b[0;34m)\u001b[0m\u001b[0;34m\u001b[0m\u001b[0;34m\u001b[0m\u001b[0m\n\u001b[0m\u001b[1;32m   1670\u001b[0m         \u001b[0;32melse\u001b[0m\u001b[0;34m:\u001b[0m\u001b[0;34m\u001b[0m\u001b[0;34m\u001b[0m\u001b[0m\n\u001b[1;32m   1671\u001b[0m             \u001b[0;32mraise\u001b[0m \u001b[0mAttributeError\u001b[0m\u001b[0;34m(\u001b[0m\u001b[0;34mf\"module {self.__name__} has no attribute {name}\"\u001b[0m\u001b[0;34m)\u001b[0m\u001b[0;34m\u001b[0m\u001b[0;34m\u001b[0m\u001b[0m\n",
            "\u001b[0;32m/usr/local/lib/python3.7/dist-packages/transformers/file_utils.py\u001b[0m in \u001b[0;36m__getattr__\u001b[0;34m(self, name)\u001b[0m\n\u001b[1;32m   1666\u001b[0m             \u001b[0mvalue\u001b[0m \u001b[0;34m=\u001b[0m \u001b[0mself\u001b[0m\u001b[0;34m.\u001b[0m\u001b[0m_get_module\u001b[0m\u001b[0;34m(\u001b[0m\u001b[0mname\u001b[0m\u001b[0;34m)\u001b[0m\u001b[0;34m\u001b[0m\u001b[0;34m\u001b[0m\u001b[0m\n\u001b[1;32m   1667\u001b[0m         \u001b[0;32melif\u001b[0m \u001b[0mname\u001b[0m \u001b[0;32min\u001b[0m \u001b[0mself\u001b[0m\u001b[0;34m.\u001b[0m\u001b[0m_class_to_module\u001b[0m\u001b[0;34m.\u001b[0m\u001b[0mkeys\u001b[0m\u001b[0;34m(\u001b[0m\u001b[0;34m)\u001b[0m\u001b[0;34m:\u001b[0m\u001b[0;34m\u001b[0m\u001b[0;34m\u001b[0m\u001b[0m\n\u001b[0;32m-> 1668\u001b[0;31m             \u001b[0mmodule\u001b[0m \u001b[0;34m=\u001b[0m \u001b[0mself\u001b[0m\u001b[0;34m.\u001b[0m\u001b[0m_get_module\u001b[0m\u001b[0;34m(\u001b[0m\u001b[0mself\u001b[0m\u001b[0;34m.\u001b[0m\u001b[0m_class_to_module\u001b[0m\u001b[0;34m[\u001b[0m\u001b[0mname\u001b[0m\u001b[0;34m]\u001b[0m\u001b[0;34m)\u001b[0m\u001b[0;34m\u001b[0m\u001b[0;34m\u001b[0m\u001b[0m\n\u001b[0m\u001b[1;32m   1669\u001b[0m             \u001b[0mvalue\u001b[0m \u001b[0;34m=\u001b[0m \u001b[0mgetattr\u001b[0m\u001b[0;34m(\u001b[0m\u001b[0mmodule\u001b[0m\u001b[0;34m,\u001b[0m \u001b[0mname\u001b[0m\u001b[0;34m)\u001b[0m\u001b[0;34m\u001b[0m\u001b[0;34m\u001b[0m\u001b[0m\n\u001b[1;32m   1670\u001b[0m         \u001b[0;32melse\u001b[0m\u001b[0;34m:\u001b[0m\u001b[0;34m\u001b[0m\u001b[0;34m\u001b[0m\u001b[0m\n",
            "\u001b[0;32m/usr/local/lib/python3.7/dist-packages/transformers/models/tapas/__init__.py\u001b[0m in \u001b[0;36m_get_module\u001b[0;34m(self, module_name)\u001b[0m\n\u001b[1;32m     64\u001b[0m \u001b[0;34m\u001b[0m\u001b[0m\n\u001b[1;32m     65\u001b[0m         \u001b[0;32mdef\u001b[0m \u001b[0m_get_module\u001b[0m\u001b[0;34m(\u001b[0m\u001b[0mself\u001b[0m\u001b[0;34m,\u001b[0m \u001b[0mmodule_name\u001b[0m\u001b[0;34m:\u001b[0m \u001b[0mstr\u001b[0m\u001b[0;34m)\u001b[0m\u001b[0;34m:\u001b[0m\u001b[0;34m\u001b[0m\u001b[0;34m\u001b[0m\u001b[0m\n\u001b[0;32m---> 66\u001b[0;31m             \u001b[0;32mreturn\u001b[0m \u001b[0mimportlib\u001b[0m\u001b[0;34m.\u001b[0m\u001b[0mimport_module\u001b[0m\u001b[0;34m(\u001b[0m\u001b[0;34m\".\"\u001b[0m \u001b[0;34m+\u001b[0m \u001b[0mmodule_name\u001b[0m\u001b[0;34m,\u001b[0m \u001b[0mself\u001b[0m\u001b[0;34m.\u001b[0m\u001b[0m__name__\u001b[0m\u001b[0;34m)\u001b[0m\u001b[0;34m\u001b[0m\u001b[0;34m\u001b[0m\u001b[0m\n\u001b[0m\u001b[1;32m     67\u001b[0m \u001b[0;34m\u001b[0m\u001b[0m\n\u001b[1;32m     68\u001b[0m     \u001b[0msys\u001b[0m\u001b[0;34m.\u001b[0m\u001b[0mmodules\u001b[0m\u001b[0;34m[\u001b[0m\u001b[0m__name__\u001b[0m\u001b[0;34m]\u001b[0m \u001b[0;34m=\u001b[0m \u001b[0m_LazyModule\u001b[0m\u001b[0;34m(\u001b[0m\u001b[0m__name__\u001b[0m\u001b[0;34m,\u001b[0m \u001b[0m_import_structure\u001b[0m\u001b[0;34m)\u001b[0m\u001b[0;34m\u001b[0m\u001b[0;34m\u001b[0m\u001b[0m\n",
            "\u001b[0;32m/usr/lib/python3.7/importlib/__init__.py\u001b[0m in \u001b[0;36mimport_module\u001b[0;34m(name, package)\u001b[0m\n\u001b[1;32m    125\u001b[0m                 \u001b[0;32mbreak\u001b[0m\u001b[0;34m\u001b[0m\u001b[0;34m\u001b[0m\u001b[0m\n\u001b[1;32m    126\u001b[0m             \u001b[0mlevel\u001b[0m \u001b[0;34m+=\u001b[0m \u001b[0;36m1\u001b[0m\u001b[0;34m\u001b[0m\u001b[0;34m\u001b[0m\u001b[0m\n\u001b[0;32m--> 127\u001b[0;31m     \u001b[0;32mreturn\u001b[0m \u001b[0m_bootstrap\u001b[0m\u001b[0;34m.\u001b[0m\u001b[0m_gcd_import\u001b[0m\u001b[0;34m(\u001b[0m\u001b[0mname\u001b[0m\u001b[0;34m[\u001b[0m\u001b[0mlevel\u001b[0m\u001b[0;34m:\u001b[0m\u001b[0;34m]\u001b[0m\u001b[0;34m,\u001b[0m \u001b[0mpackage\u001b[0m\u001b[0;34m,\u001b[0m \u001b[0mlevel\u001b[0m\u001b[0;34m)\u001b[0m\u001b[0;34m\u001b[0m\u001b[0;34m\u001b[0m\u001b[0m\n\u001b[0m\u001b[1;32m    128\u001b[0m \u001b[0;34m\u001b[0m\u001b[0m\n\u001b[1;32m    129\u001b[0m \u001b[0;34m\u001b[0m\u001b[0m\n",
            "\u001b[0;32m/usr/local/lib/python3.7/dist-packages/transformers/models/tapas/modeling_tapas.py\u001b[0m in \u001b[0;36m<module>\u001b[0;34m()\u001b[0m\n\u001b[1;32m     49\u001b[0m \u001b[0;31m# soft dependency\u001b[0m\u001b[0;34m\u001b[0m\u001b[0;34m\u001b[0m\u001b[0;34m\u001b[0m\u001b[0m\n\u001b[1;32m     50\u001b[0m \u001b[0;32mif\u001b[0m \u001b[0mis_scatter_available\u001b[0m\u001b[0;34m(\u001b[0m\u001b[0;34m)\u001b[0m\u001b[0;34m:\u001b[0m\u001b[0;34m\u001b[0m\u001b[0;34m\u001b[0m\u001b[0m\n\u001b[0;32m---> 51\u001b[0;31m     \u001b[0;32mfrom\u001b[0m \u001b[0mtorch_scatter\u001b[0m \u001b[0;32mimport\u001b[0m \u001b[0mscatter\u001b[0m\u001b[0;34m\u001b[0m\u001b[0;34m\u001b[0m\u001b[0m\n\u001b[0m\u001b[1;32m     52\u001b[0m \u001b[0;34m\u001b[0m\u001b[0m\n\u001b[1;32m     53\u001b[0m \u001b[0mlogger\u001b[0m \u001b[0;34m=\u001b[0m \u001b[0mlogging\u001b[0m\u001b[0;34m.\u001b[0m\u001b[0mget_logger\u001b[0m\u001b[0;34m(\u001b[0m\u001b[0m__name__\u001b[0m\u001b[0;34m)\u001b[0m\u001b[0;34m\u001b[0m\u001b[0;34m\u001b[0m\u001b[0m\n",
            "\u001b[0;32m/usr/local/lib/python3.7/dist-packages/torch_scatter/__init__.py\u001b[0m in \u001b[0;36m<module>\u001b[0;34m()\u001b[0m\n\u001b[1;32m     10\u001b[0m     \u001b[0;32mfor\u001b[0m \u001b[0mlibrary\u001b[0m \u001b[0;32min\u001b[0m \u001b[0;34m[\u001b[0m\u001b[0;34m'_version'\u001b[0m\u001b[0;34m,\u001b[0m \u001b[0;34m'_scatter'\u001b[0m\u001b[0;34m,\u001b[0m \u001b[0;34m'_segment_csr'\u001b[0m\u001b[0;34m,\u001b[0m \u001b[0;34m'_segment_coo'\u001b[0m\u001b[0;34m]\u001b[0m\u001b[0;34m:\u001b[0m\u001b[0;34m\u001b[0m\u001b[0;34m\u001b[0m\u001b[0m\n\u001b[1;32m     11\u001b[0m         torch.ops.load_library(importlib.machinery.PathFinder().find_spec(\n\u001b[0;32m---> 12\u001b[0;31m             library, [osp.dirname(__file__)]).origin)\n\u001b[0m\u001b[1;32m     13\u001b[0m \u001b[0;32mexcept\u001b[0m \u001b[0mAttributeError\u001b[0m \u001b[0;32mas\u001b[0m \u001b[0me\u001b[0m\u001b[0;34m:\u001b[0m\u001b[0;34m\u001b[0m\u001b[0;34m\u001b[0m\u001b[0m\n\u001b[1;32m     14\u001b[0m     \u001b[0;32mif\u001b[0m \u001b[0mos\u001b[0m\u001b[0;34m.\u001b[0m\u001b[0mgetenv\u001b[0m\u001b[0;34m(\u001b[0m\u001b[0;34m'BUILD_DOCS'\u001b[0m\u001b[0;34m,\u001b[0m \u001b[0;34m'0'\u001b[0m\u001b[0;34m)\u001b[0m \u001b[0;34m!=\u001b[0m \u001b[0;34m'1'\u001b[0m\u001b[0;34m:\u001b[0m\u001b[0;34m\u001b[0m\u001b[0;34m\u001b[0m\u001b[0m\n",
            "\u001b[0;32m/usr/local/lib/python3.7/dist-packages/torch/_ops.py\u001b[0m in \u001b[0;36mload_library\u001b[0;34m(self, path)\u001b[0m\n\u001b[1;32m    102\u001b[0m             \u001b[0;31m# static (global) initialization code in order to register custom\u001b[0m\u001b[0;34m\u001b[0m\u001b[0;34m\u001b[0m\u001b[0;34m\u001b[0m\u001b[0m\n\u001b[1;32m    103\u001b[0m             \u001b[0;31m# operators with the JIT.\u001b[0m\u001b[0;34m\u001b[0m\u001b[0;34m\u001b[0m\u001b[0;34m\u001b[0m\u001b[0m\n\u001b[0;32m--> 104\u001b[0;31m             \u001b[0mctypes\u001b[0m\u001b[0;34m.\u001b[0m\u001b[0mCDLL\u001b[0m\u001b[0;34m(\u001b[0m\u001b[0mpath\u001b[0m\u001b[0;34m)\u001b[0m\u001b[0;34m\u001b[0m\u001b[0;34m\u001b[0m\u001b[0m\n\u001b[0m\u001b[1;32m    105\u001b[0m         \u001b[0mself\u001b[0m\u001b[0;34m.\u001b[0m\u001b[0mloaded_libraries\u001b[0m\u001b[0;34m.\u001b[0m\u001b[0madd\u001b[0m\u001b[0;34m(\u001b[0m\u001b[0mpath\u001b[0m\u001b[0;34m)\u001b[0m\u001b[0;34m\u001b[0m\u001b[0;34m\u001b[0m\u001b[0m\n\u001b[1;32m    106\u001b[0m \u001b[0;34m\u001b[0m\u001b[0m\n",
            "\u001b[0;32m/usr/lib/python3.7/ctypes/__init__.py\u001b[0m in \u001b[0;36m__init__\u001b[0;34m(self, name, mode, handle, use_errno, use_last_error)\u001b[0m\n\u001b[1;32m    362\u001b[0m \u001b[0;34m\u001b[0m\u001b[0m\n\u001b[1;32m    363\u001b[0m         \u001b[0;32mif\u001b[0m \u001b[0mhandle\u001b[0m \u001b[0;32mis\u001b[0m \u001b[0;32mNone\u001b[0m\u001b[0;34m:\u001b[0m\u001b[0;34m\u001b[0m\u001b[0;34m\u001b[0m\u001b[0m\n\u001b[0;32m--> 364\u001b[0;31m             \u001b[0mself\u001b[0m\u001b[0;34m.\u001b[0m\u001b[0m_handle\u001b[0m \u001b[0;34m=\u001b[0m \u001b[0m_dlopen\u001b[0m\u001b[0;34m(\u001b[0m\u001b[0mself\u001b[0m\u001b[0;34m.\u001b[0m\u001b[0m_name\u001b[0m\u001b[0;34m,\u001b[0m \u001b[0mmode\u001b[0m\u001b[0;34m)\u001b[0m\u001b[0;34m\u001b[0m\u001b[0;34m\u001b[0m\u001b[0m\n\u001b[0m\u001b[1;32m    365\u001b[0m         \u001b[0;32melse\u001b[0m\u001b[0;34m:\u001b[0m\u001b[0;34m\u001b[0m\u001b[0;34m\u001b[0m\u001b[0m\n\u001b[1;32m    366\u001b[0m             \u001b[0mself\u001b[0m\u001b[0;34m.\u001b[0m\u001b[0m_handle\u001b[0m \u001b[0;34m=\u001b[0m \u001b[0mhandle\u001b[0m\u001b[0;34m\u001b[0m\u001b[0;34m\u001b[0m\u001b[0m\n",
            "\u001b[0;31mOSError\u001b[0m: /usr/local/lib/python3.7/dist-packages/torch_scatter/_scatter.so: undefined symbol: _ZNK3c104Type14isSubtypeOfExtESt10shared_ptrIS0_EPSo"
          ]
        }
      ]
    },
    {
      "cell_type": "markdown",
      "metadata": {
        "id": "dtvkIFkCzdsg"
      },
      "source": [
        "## Training the model\n",
        "\n",
        "Let's fine-tune the model in well-known PyTorch fashion:"
      ]
    },
    {
      "cell_type": "code",
      "metadata": {
        "id": "HyEZVmbdzWV9"
      },
      "source": [
        "from transformers import AdamW\n",
        "\n",
        "optimizer = AdamW(model.parameters(), lr=5e-5)\n",
        "\n",
        "for epoch in range(10):  # loop over the dataset multiple times\n",
        "   print(\"Epoch:\", epoch)\n",
        "   for idx, batch in enumerate(train_dataloader):\n",
        "        # get the inputs;\n",
        "        input_ids = batch[\"input_ids\"].to(device)\n",
        "        attention_mask = batch[\"attention_mask\"].to(device)\n",
        "        token_type_ids = batch[\"token_type_ids\"].to(device)\n",
        "        labels = batch[\"labels\"].to(device)\n",
        "        \n",
        "        # zero the parameter gradients\n",
        "        optimizer.zero_grad()\n",
        "        # forward + backward + optimize\n",
        "        outputs = model(input_ids=input_ids, attention_mask=attention_mask, token_type_ids=token_type_ids,\n",
        "                       labels=labels)\n",
        "        loss = outputs.loss\n",
        "        print(\"Loss:\", loss.item())\n",
        "        loss.backward()\n",
        "        optimizer.step()"
      ],
      "execution_count": null,
      "outputs": []
    },
    {
      "cell_type": "markdown",
      "metadata": {
        "id": "kmugNHCN20QF"
      },
      "source": [
        "## Inference\n",
        "\n",
        "As SQA is a bit different due to its conversational nature, we need to run every training example of the a batch one by one through the model (sequentially), overwriting the `prev_labels` token types (which were created by the tokenizer) by the answer predicted by the model. It is based on the [following code](https://github.com/google-research/tapas/blob/f458b6624b8aa75961a0ab78e9847355022940d3/tapas/experiments/prediction_utils.py#L92) from the official implementation:"
      ]
    },
    {
      "cell_type": "code",
      "metadata": {
        "id": "MhJwoaSy26PD"
      },
      "source": [
        "import collections\n",
        "import numpy as np\n",
        "\n",
        "def compute_prediction_sequence(model, data, device):\n",
        "  \"\"\"Computes predictions using model's answers to the previous questions.\"\"\"\n",
        "  \n",
        "  # prepare data\n",
        "  input_ids = data[\"input_ids\"].to(device)\n",
        "  attention_mask = data[\"attention_mask\"].to(device)\n",
        "  token_type_ids = data[\"token_type_ids\"].to(device)\n",
        "\n",
        "  all_logits = []\n",
        "  prev_answers = None\n",
        "\n",
        "  num_batch = data[\"input_ids\"].shape[0]\n",
        "  \n",
        "  for idx in range(num_batch):\n",
        "    \n",
        "    if prev_answers is not None:\n",
        "        coords_to_answer = prev_answers[idx]\n",
        "        # Next, set the label ids predicted by the model\n",
        "        prev_label_ids_example = token_type_ids_example[:,3] # shape (seq_len,)\n",
        "        model_label_ids = np.zeros_like(prev_label_ids_example.cpu().numpy()) # shape (seq_len,)\n",
        "\n",
        "        # for each token in the sequence:\n",
        "        token_type_ids_example = token_type_ids[idx] # shape (seq_len, 7)\n",
        "        for i in range(model_label_ids.shape[0]):\n",
        "          segment_id = token_type_ids_example[:,0].tolist()[i]\n",
        "          col_id = token_type_ids_example[:,1].tolist()[i] - 1\n",
        "          row_id = token_type_ids_example[:,2].tolist()[i] - 1\n",
        "          if row_id >= 0 and col_id >= 0 and segment_id == 1:\n",
        "            model_label_ids[i] = int(coords_to_answer[(col_id, row_id)])\n",
        "\n",
        "        # set the prev label ids of the example (shape (1, seq_len) )\n",
        "        token_type_ids_example[:,3] = torch.from_numpy(model_label_ids).type(torch.long).to(device)   \n",
        "\n",
        "    prev_answers = {}\n",
        "    # get the example\n",
        "    input_ids_example = input_ids[idx] # shape (seq_len,)\n",
        "    attention_mask_example = attention_mask[idx] # shape (seq_len,)\n",
        "    token_type_ids_example = token_type_ids[idx] # shape (seq_len, 7)\n",
        "    # forward pass to obtain the logits\n",
        "    outputs = model(input_ids=input_ids_example.unsqueeze(0), \n",
        "                    attention_mask=attention_mask_example.unsqueeze(0), \n",
        "                    token_type_ids=token_type_ids_example.unsqueeze(0))\n",
        "    logits = outputs.logits\n",
        "    all_logits.append(logits)\n",
        "\n",
        "    # convert logits to probabilities (which are of shape (1, seq_len))\n",
        "    dist_per_token = torch.distributions.Bernoulli(logits=logits)\n",
        "    probabilities = dist_per_token.probs * attention_mask_example.type(torch.float32).to(dist_per_token.probs.device) \n",
        "\n",
        "    # Compute average probability per cell, aggregating over tokens.\n",
        "    # Dictionary maps coordinates to a list of one or more probabilities\n",
        "    coords_to_probs = collections.defaultdict(list)\n",
        "    prev_answers = {}\n",
        "    for i, p in enumerate(probabilities.squeeze().tolist()):\n",
        "      segment_id = token_type_ids_example[:,0].tolist()[i]\n",
        "      col = token_type_ids_example[:,1].tolist()[i] - 1\n",
        "      row = token_type_ids_example[:,2].tolist()[i] - 1\n",
        "      if col >= 0 and row >= 0 and segment_id == 1:\n",
        "        coords_to_probs[(col, row)].append(p)\n",
        "\n",
        "    # Next, map cell coordinates to 1 or 0 (depending on whether the mean prob of all cell tokens is > 0.5)\n",
        "    coords_to_answer = {}\n",
        "    for key in coords_to_probs:\n",
        "      coords_to_answer[key] = np.array(coords_to_probs[key]).mean() > 0.5\n",
        "    prev_answers[idx+1] = coords_to_answer\n",
        "    \n",
        "  logits_batch = torch.cat(tuple(all_logits), 0)\n",
        "  \n",
        "  return logits_batch"
      ],
      "execution_count": null,
      "outputs": []
    },
    {
      "cell_type": "code",
      "metadata": {
        "id": "jflxDE_BfVg9"
      },
      "source": [
        "data = {'Actors': [\"Brad Pitt\", \"Leonardo Di Caprio\", \"George Clooney\"], \n",
        "        'Age': [\"56\", \"45\", \"59\"],\n",
        "        'Number of movies': [\"87\", \"53\", \"69\"],\n",
        "        'Date of birth': [\"7 february 1967\", \"10 june 1996\", \"28 november 1967\"]}\n",
        "queries = [\"How many movies has George Clooney played in?\", \"How old is he?\", \"What's his date of birth?\"]\n",
        "\n",
        "table = pd.DataFrame.from_dict(data)\n",
        "\n",
        "inputs = tokenizer(table=table, queries=queries, padding='max_length', return_tensors=\"pt\")\n",
        "logits = compute_prediction_sequence(model, inputs, device)"
      ],
      "execution_count": null,
      "outputs": []
    },
    {
      "cell_type": "markdown",
      "metadata": {
        "id": "k_a_Y-rDq__o"
      },
      "source": [
        "Finally, we can use the handy `convert_logits_to_predictions` function of `TapasTokenizer` to convert the logits into predicted coordinates, and print out the result:"
      ]
    },
    {
      "cell_type": "code",
      "metadata": {
        "id": "5fAcNOVsqoVD"
      },
      "source": [
        "predicted_answer_coordinates, = tokenizer.convert_logits_to_predictions(inputs, logits.cpu().detach())"
      ],
      "execution_count": null,
      "outputs": []
    },
    {
      "cell_type": "code",
      "metadata": {
        "id": "QP4AHMxFujhV"
      },
      "source": [
        "# handy helper function in case inference on Pandas dataframe\n",
        "answers = []\n",
        "for coordinates in predicted_answer_coordinates:\n",
        "  if len(coordinates) == 1:\n",
        "    # only a single cell:\n",
        "    answers.append(table.iat[coordinates[0]])\n",
        "  else:\n",
        "    # multiple cells\n",
        "    cell_values = []\n",
        "    for coordinate in coordinates:\n",
        "      cell_values.append(table.iat[coordinate])\n",
        "    answers.append(\", \".join(cell_values))\n",
        "\n",
        "display(table)\n",
        "print(\"\")\n",
        "for query, answer in zip(queries, answers):\n",
        "  print(query)\n",
        "  print(\"Predicted answer: \" + answer)"
      ],
      "execution_count": null,
      "outputs": []
    },
    {
      "cell_type": "markdown",
      "metadata": {
        "id": "6L0KBaPjG7uj"
      },
      "source": [
        "Note that the results here are not correct, that's obvious since we only trained on 28 examples and tested it on an entire different example. In reality, you should train on the entire dataset. The result of this is the `google/tapas-base-finetuned-sqa` checkpoint."
      ]
    }
  ]
}