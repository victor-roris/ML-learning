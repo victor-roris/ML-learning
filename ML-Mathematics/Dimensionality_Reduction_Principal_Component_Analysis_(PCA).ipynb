{
  "nbformat": 4,
  "nbformat_minor": 0,
  "metadata": {
    "colab": {
      "name": "Dimensionality Reduction - Principal Component Analysis (PCA).ipynb",
      "provenance": [],
      "toc_visible": true,
      "authorship_tag": "ABX9TyPP4+sDx5C10+7fY5Up1hZo",
      "include_colab_link": true
    },
    "kernelspec": {
      "name": "python3",
      "display_name": "Python 3"
    },
    "language_info": {
      "name": "python"
    }
  },
  "cells": [
    {
      "cell_type": "markdown",
      "metadata": {
        "id": "view-in-github",
        "colab_type": "text"
      },
      "source": [
        "<a href=\"https://colab.research.google.com/github/victor-roris/ML-learning/blob/master/ML-Mathematics/Dimensionality_Reduction_Principal_Component_Analysis_(PCA).ipynb\" target=\"_parent\"><img src=\"https://colab.research.google.com/assets/colab-badge.svg\" alt=\"Open In Colab\"/></a>"
      ]
    },
    {
      "cell_type": "markdown",
      "metadata": {
        "id": "SglRHpX6UQck"
      },
      "source": [
        "# Principal Component Analysis\n",
        "\n",
        "Original source: [link](https://towardsdatascience.com/principal-component-analysis-for-dimensionality-reduction-115a3d157bad)\n",
        "\n",
        "Dimensionality reduction is way to reduce the complexity of a model and avoid overfitting. There are two main categories of dimensionality reduction:\n",
        "\n",
        " - feature selection: we select a subset of the original features\n",
        " - feature extraction: we derive information from the feature set to construct a new feature subspace.\n",
        "\n",
        "**Principal Component Analysis (PCA)** is an unsupervised linear transformation technique that is prominently used for **feature extraction** and dimensionality reduction.\n",
        "\n",
        "PCA helps us to identify patterns in data based on the correlation between features. In a nutshell, PCA aims to find the directions of maximum variance in high-dimensional data and projects it onto a new subspace with equal or fewer dimensions than the original one.\n",
        "\n",
        "The orthogonal axes (principal components) of the new subspace can be interpreted as the directions of maximum variance given the constraint that the new feature axes are orthogonal to each other,  as illustrated in the following figure:\n",
        "\n",
        "![components](https://miro.medium.com/max/375/1*zh1GxZ4BPCOPFmTxreVFdw.jpeg)\n",
        "\n",
        "In PCA dimensionality reduction, we construct a `d x k`–dimensional transformation matrix W that allows us to map a sample vector `x` onto a new `k`–dimensional feature subspace that has fewer dimensions than the original `d`–dimensional feature space\n",
        "\n",
        "![equation1](https://miro.medium.com/max/182/1*ytEHO-Wjos_ugY2LffXEyg.png)\n",
        "\n",
        "As a result of transforming the original d-dimensional data onto this new k-dimensional subspace (typically k ≪ d), the first principal component will have the largest possible variance, and all consequent principal components will have the largest variance given the constraint that these components are uncorrelated (orthogonal) to the other principal components — even if the input features are correlated, the resulting principal components will be mutually orthogonal (uncorrelated).\n",
        "\n",
        "Note that the PCA directions are highly sensitive to data scaling, and we need to standardize the features prior to PCA\n",
        "\n",
        "PCA approach:\n",
        " 1. Standardize the d-dimensional dataset.\n",
        " 2. Construct the covariance matrix.\n",
        " 3. Decompose the covariance matrix into its eigenvectors and eigenvalues.\n",
        " 4. Sort the eigenvalues by decreasing order to rank the corresponding eigenvectors.\n",
        " 5. Select k eigenvectors which correspond to the k largest eigenvalues, where k is the dimensionality of the new feature subspace (k ≤ d).\n",
        " 6. Construct a projection matrix W from the “top” k eigenvectors.\n",
        " 7. Transform the d-dimensional input dataset X using the projection matrix W to obtain the new k-dimensional feature subspace.\n"
      ]
    },
    {
      "cell_type": "markdown",
      "metadata": {
        "id": "-rIhALggWtUl"
      },
      "source": [
        "## PCA Implementation: Inner mathematics"
      ]
    },
    {
      "cell_type": "code",
      "metadata": {
        "id": "rtcKSApD3a8q"
      },
      "source": [
        "k = 2 # Dimension of the new feature subspace"
      ],
      "execution_count": 2,
      "outputs": []
    },
    {
      "cell_type": "markdown",
      "metadata": {
        "id": "TaVKHaB-XVzG"
      },
      "source": [
        "### Load input data"
      ]
    },
    {
      "cell_type": "code",
      "metadata": {
        "colab": {
          "base_uri": "https://localhost:8080/",
          "height": 227
        },
        "id": "kn0lvtZdXDv-",
        "outputId": "df9ba2fb-d41a-4fbd-a3f6-0e8f0ac35a56"
      },
      "source": [
        "import pandas as pd\n",
        "\n",
        "df_wine = pd.read_csv('https://archive.ics.uci.edu/ml/'\n",
        "                      'machine-learning-databases/wine/wine.data',\n",
        "                      header=None)\n",
        "\n",
        "print(f\"Number of entries : {len(df_wine)}\")\n",
        "print(f\"Number of columns : {len(df_wine.columns)}\")\n",
        "df_wine.head()"
      ],
      "execution_count": 3,
      "outputs": [
        {
          "output_type": "stream",
          "text": [
            "Number of entries : 178\n",
            "Number of columns : 14\n"
          ],
          "name": "stdout"
        },
        {
          "output_type": "execute_result",
          "data": {
            "text/html": [
              "<div>\n",
              "<style scoped>\n",
              "    .dataframe tbody tr th:only-of-type {\n",
              "        vertical-align: middle;\n",
              "    }\n",
              "\n",
              "    .dataframe tbody tr th {\n",
              "        vertical-align: top;\n",
              "    }\n",
              "\n",
              "    .dataframe thead th {\n",
              "        text-align: right;\n",
              "    }\n",
              "</style>\n",
              "<table border=\"1\" class=\"dataframe\">\n",
              "  <thead>\n",
              "    <tr style=\"text-align: right;\">\n",
              "      <th></th>\n",
              "      <th>0</th>\n",
              "      <th>1</th>\n",
              "      <th>2</th>\n",
              "      <th>3</th>\n",
              "      <th>4</th>\n",
              "      <th>5</th>\n",
              "      <th>6</th>\n",
              "      <th>7</th>\n",
              "      <th>8</th>\n",
              "      <th>9</th>\n",
              "      <th>10</th>\n",
              "      <th>11</th>\n",
              "      <th>12</th>\n",
              "      <th>13</th>\n",
              "    </tr>\n",
              "  </thead>\n",
              "  <tbody>\n",
              "    <tr>\n",
              "      <th>0</th>\n",
              "      <td>1</td>\n",
              "      <td>14.23</td>\n",
              "      <td>1.71</td>\n",
              "      <td>2.43</td>\n",
              "      <td>15.6</td>\n",
              "      <td>127</td>\n",
              "      <td>2.80</td>\n",
              "      <td>3.06</td>\n",
              "      <td>0.28</td>\n",
              "      <td>2.29</td>\n",
              "      <td>5.64</td>\n",
              "      <td>1.04</td>\n",
              "      <td>3.92</td>\n",
              "      <td>1065</td>\n",
              "    </tr>\n",
              "    <tr>\n",
              "      <th>1</th>\n",
              "      <td>1</td>\n",
              "      <td>13.20</td>\n",
              "      <td>1.78</td>\n",
              "      <td>2.14</td>\n",
              "      <td>11.2</td>\n",
              "      <td>100</td>\n",
              "      <td>2.65</td>\n",
              "      <td>2.76</td>\n",
              "      <td>0.26</td>\n",
              "      <td>1.28</td>\n",
              "      <td>4.38</td>\n",
              "      <td>1.05</td>\n",
              "      <td>3.40</td>\n",
              "      <td>1050</td>\n",
              "    </tr>\n",
              "    <tr>\n",
              "      <th>2</th>\n",
              "      <td>1</td>\n",
              "      <td>13.16</td>\n",
              "      <td>2.36</td>\n",
              "      <td>2.67</td>\n",
              "      <td>18.6</td>\n",
              "      <td>101</td>\n",
              "      <td>2.80</td>\n",
              "      <td>3.24</td>\n",
              "      <td>0.30</td>\n",
              "      <td>2.81</td>\n",
              "      <td>5.68</td>\n",
              "      <td>1.03</td>\n",
              "      <td>3.17</td>\n",
              "      <td>1185</td>\n",
              "    </tr>\n",
              "    <tr>\n",
              "      <th>3</th>\n",
              "      <td>1</td>\n",
              "      <td>14.37</td>\n",
              "      <td>1.95</td>\n",
              "      <td>2.50</td>\n",
              "      <td>16.8</td>\n",
              "      <td>113</td>\n",
              "      <td>3.85</td>\n",
              "      <td>3.49</td>\n",
              "      <td>0.24</td>\n",
              "      <td>2.18</td>\n",
              "      <td>7.80</td>\n",
              "      <td>0.86</td>\n",
              "      <td>3.45</td>\n",
              "      <td>1480</td>\n",
              "    </tr>\n",
              "    <tr>\n",
              "      <th>4</th>\n",
              "      <td>1</td>\n",
              "      <td>13.24</td>\n",
              "      <td>2.59</td>\n",
              "      <td>2.87</td>\n",
              "      <td>21.0</td>\n",
              "      <td>118</td>\n",
              "      <td>2.80</td>\n",
              "      <td>2.69</td>\n",
              "      <td>0.39</td>\n",
              "      <td>1.82</td>\n",
              "      <td>4.32</td>\n",
              "      <td>1.04</td>\n",
              "      <td>2.93</td>\n",
              "      <td>735</td>\n",
              "    </tr>\n",
              "  </tbody>\n",
              "</table>\n",
              "</div>"
            ],
            "text/plain": [
              "   0      1     2     3     4    5   ...    8     9     10    11    12    13\n",
              "0   1  14.23  1.71  2.43  15.6  127  ...  0.28  2.29  5.64  1.04  3.92  1065\n",
              "1   1  13.20  1.78  2.14  11.2  100  ...  0.26  1.28  4.38  1.05  3.40  1050\n",
              "2   1  13.16  2.36  2.67  18.6  101  ...  0.30  2.81  5.68  1.03  3.17  1185\n",
              "3   1  14.37  1.95  2.50  16.8  113  ...  0.24  2.18  7.80  0.86  3.45  1480\n",
              "4   1  13.24  2.59  2.87  21.0  118  ...  0.39  1.82  4.32  1.04  2.93   735\n",
              "\n",
              "[5 rows x 14 columns]"
            ]
          },
          "metadata": {
            "tags": []
          },
          "execution_count": 3
        }
      ]
    },
    {
      "cell_type": "markdown",
      "metadata": {
        "id": "l4i5PrqeXcuB"
      },
      "source": [
        "Split into training and test datasets"
      ]
    },
    {
      "cell_type": "code",
      "metadata": {
        "id": "P8SmyMTyXLMw"
      },
      "source": [
        "from sklearn.model_selection import train_test_split\n",
        "from sklearn.preprocessing import StandardScaler\n",
        "\n",
        "# split into training and testing sets\n",
        "X, y = df_wine.iloc[:, 1:].values, df_wine.iloc[:, 0].values\n",
        "X_train, X_test, y_train, y_test = train_test_split(\n",
        "    X, y, test_size=0.3,\n",
        "    stratify=y, random_state=0\n",
        ")"
      ],
      "execution_count": 4,
      "outputs": []
    },
    {
      "cell_type": "code",
      "metadata": {
        "colab": {
          "base_uri": "https://localhost:8080/"
        },
        "id": "2o328w3QX3Pv",
        "outputId": "a92eb850-eca0-4e61-c52c-cff2449bfd7c"
      },
      "source": [
        "print(f\"Number of entries in the training dataset : {X_train.shape[0]}\")\n",
        "print(f\"Number of entries in the testing dataset : {X_test.shape[0]}\")\n",
        "\n",
        "print(f\"Dimensionality of each input vector {X_train.shape[1]}\")"
      ],
      "execution_count": 5,
      "outputs": [
        {
          "output_type": "stream",
          "text": [
            "Number of entries in the training dataset : 124\n",
            "Number of entries in the testing dataset : 54\n",
            "Dimensionality of each input vector 13\n"
          ],
          "name": "stdout"
        }
      ]
    },
    {
      "cell_type": "markdown",
      "metadata": {
        "id": "DL2TOBXDXrh-"
      },
      "source": [
        "### Standardize the data"
      ]
    },
    {
      "cell_type": "code",
      "metadata": {
        "id": "NZdk9IyUXhGy"
      },
      "source": [
        "# standardize the features\n",
        "sc = StandardScaler()\n",
        "X_train_std = sc.fit_transform(X_train)\n",
        "X_test_std = sc.transform(X_test)"
      ],
      "execution_count": 6,
      "outputs": []
    },
    {
      "cell_type": "markdown",
      "metadata": {
        "id": "b89Et6GzY739"
      },
      "source": [
        "### Construct the covariance matrix\n",
        "\n",
        "covariance between two features x<sub>j</sub> and x<sub>t</sub> (I changed the index k of the image by t because k term is the final dimension of th PCA too)\n",
        "\n",
        "![equation2](https://miro.medium.com/max/195/1*zsJQIL5ZnHRxxqxz0OxntQ.png)\n",
        "\n",
        "Where, μ<sub>j</sub> and μ<sub>t</sub> are the sample means of features j and k, respectively.\n",
        "\n",
        "A positive covariance between two features indicates that the features increase or decrease together, whereas a negative covariance indicates that the features vary in opposite directions. \n"
      ]
    },
    {
      "cell_type": "code",
      "metadata": {
        "colab": {
          "base_uri": "https://localhost:8080/"
        },
        "id": "8PISGXZebyoe",
        "outputId": "92adde30-dcd4-4fa5-860e-5b955e2f388d"
      },
      "source": [
        "# Feature Index\n",
        "j = 0\n",
        "t = 1\n",
        "\n",
        "# Assert dimensionality\n",
        "assert j < X_train_std.shape[1], \"There arent enought features\"\n",
        "assert t < X_train_std.shape[1], \"There arent enought features\"\n",
        "\n",
        "# Feature values\n",
        "j_feature_std_values = X_train_std[:, j]\n",
        "t_feature_std_values = X_train_std[:, t]\n",
        "\n",
        "# Sample means\n",
        "nu_j = sum(j_feature_std_values)/len(j_feature_std_values)\n",
        "nu_t = sum(t_feature_std_values)/len(t_feature_std_values)\n",
        "\n",
        "# Covariance\n",
        "n = len(X_train_std)\n",
        "sigma_jt = sum([(j_feature_std_values[i]-nu_j)*(t_feature_std_values[i]-nu_t) for i in range(n)])/n\n",
        "\n",
        "print(f\"Covariance between the features {j}-{t} = {sigma_jt}\")"
      ],
      "execution_count": 8,
      "outputs": [
        {
          "output_type": "stream",
          "text": [
            "Covariance between the features 0-1 = 0.06655446263030922\n"
          ],
          "name": "stdout"
        }
      ]
    },
    {
      "cell_type": "markdown",
      "metadata": {
        "id": "BOdkdR9pdwSu"
      },
      "source": [
        "The covariance matrix of three features can then be written as follows:\n",
        "\n",
        "![covariance matrix](https://miro.medium.com/max/123/1*vyx57OmdL9HXraN-AkBSEw.png)"
      ]
    },
    {
      "cell_type": "code",
      "metadata": {
        "colab": {
          "base_uri": "https://localhost:8080/"
        },
        "id": "VAZ7ZcDlXyXV",
        "outputId": "997ca0bc-90bc-455e-fcbe-80fd499c1b73"
      },
      "source": [
        "import numpy as np\n",
        "\n",
        "cov_mat = np.cov(X_train_std.T)\n",
        "\n",
        "print(f\"Dimensionality of the covariance matrix: {cov_mat.shape}\")\n",
        "\n",
        "print(\"Covariance of the first feature with the rest of features:\")\n",
        "cov_mat[0,:]"
      ],
      "execution_count": 9,
      "outputs": [
        {
          "output_type": "stream",
          "text": [
            "Dimensionality of the covariance matrix: (13, 13)\n",
            "Covariance of the first feature with the rest of features:\n"
          ],
          "name": "stdout"
        },
        {
          "output_type": "execute_result",
          "data": {
            "text/plain": [
              "array([ 1.00813008,  0.06709556,  0.17405351, -0.35439069,  0.26374703,\n",
              "        0.29079481,  0.21835807, -0.08111974,  0.10436705,  0.54282846,\n",
              "        0.05893536, -0.01797029,  0.6415292 ])"
            ]
          },
          "metadata": {
            "tags": []
          },
          "execution_count": 9
        }
      ]
    },
    {
      "cell_type": "markdown",
      "metadata": {
        "id": "dISVUx-CeHei"
      },
      "source": [
        "### Decompose the covariance matrix into its eigenvectors and eigenvalues"
      ]
    },
    {
      "cell_type": "markdown",
      "metadata": {
        "id": "cqjW6M3XbQQW"
      },
      "source": [
        "The eigenvectors of the covariance matrix represent the principal components (the directions of maximum variance), whereas the corresponding eigenvalues will define their magnitude. "
      ]
    },
    {
      "cell_type": "code",
      "metadata": {
        "colab": {
          "base_uri": "https://localhost:8080/"
        },
        "id": "zj-99EaQYfrY",
        "outputId": "6bfc91f1-c18d-4807-b482-b4f9e4da2854"
      },
      "source": [
        "eigen_vals, eigen_vecs = np.linalg.eig(cov_mat)\n",
        "\n",
        "print(f\"Shape eigen_vals vector (one val by feature) : {eigen_vals.shape}\")\n",
        "print(f\"Shape eigen_vecs matrix (n_feature values by feature): {eigen_vecs.shape}\")"
      ],
      "execution_count": 10,
      "outputs": [
        {
          "output_type": "stream",
          "text": [
            "Shape eigen_vals vector (one val by feature) : (13,)\n",
            "Shape eigen_vecs matrix (n_feature values by feature): (13, 13)\n"
          ],
          "name": "stdout"
        }
      ]
    },
    {
      "cell_type": "markdown",
      "metadata": {
        "id": "3H_CVvpJzXxH"
      },
      "source": [
        "\n",
        "An eigenvector v satisfies the following condition:\n",
        "\n",
        "![eigenvector](https://miro.medium.com/max/53/1*noDBksvur0Y3mi0zeyy9dg.png)\n",
        "\n",
        "Here, λ is a scalar: the eigenvalue."
      ]
    },
    {
      "cell_type": "code",
      "metadata": {
        "id": "n6D41DEazXEt"
      },
      "source": [
        "# Check this condition (how?)"
      ],
      "execution_count": 11,
      "outputs": []
    },
    {
      "cell_type": "markdown",
      "metadata": {
        "id": "4OZwkDpCztqR"
      },
      "source": [
        "### Sort the eigenvalues by decreasing order to rank the corresponding eigenvectors"
      ]
    },
    {
      "cell_type": "markdown",
      "metadata": {
        "id": "GyuqYKm41f3u"
      },
      "source": [
        "#### Review: Total and Explained Variance\n",
        "Since we want to reduce the dimensionality of our dataset by compressing it onto a new feature subspace, we only select the subset of the eigenvectors (principal components) that contains most of the information (variance). The eigenvalues define the magnitude of the eigenvectors, so we have to sort the eigenvalues by decreasing magnitude; we are interested in the top k eigenvectors based on the values of their corresponding eigenvalues.\n",
        "\n",
        "Before we collect those k most informative eigenvectors, let’s plot the variance explained ratios of the eigenvalues.\n",
        "\n",
        "The variance explained ratio of an eigenvalue λ<sbu>j</sub> is:\n",
        "\n",
        "![acu variance](https://miro.medium.com/max/49/1*e3Ud73T1QZaock4MBb-lMw.png)"
      ]
    },
    {
      "cell_type": "code",
      "metadata": {
        "colab": {
          "base_uri": "https://localhost:8080/"
        },
        "id": "1yy4LuEV04hQ",
        "outputId": "8d91907f-da51-40dd-a79d-1747ec3e1cc1"
      },
      "source": [
        "# calculate cumulative sum of explained variances\n",
        "tot = sum(eigen_vals)\n",
        "var_exp = [(i / tot) for i in sorted(eigen_vals, reverse=True)]\n",
        "\n",
        "var_exp"
      ],
      "execution_count": 12,
      "outputs": [
        {
          "output_type": "execute_result",
          "data": {
            "text/plain": [
              "[0.3695146859960764,\n",
              " 0.18434927059884182,\n",
              " 0.11815159094596973,\n",
              " 0.07334251763785458,\n",
              " 0.06422107821731668,\n",
              " 0.05051724484907655,\n",
              " 0.03954653891241447,\n",
              " 0.026439183169220025,\n",
              " 0.02389319259185293,\n",
              " 0.016296137737251012,\n",
              " 0.013800211221948418,\n",
              " 0.011722262443085956,\n",
              " 0.00820608567909139]"
            ]
          },
          "metadata": {
            "tags": []
          },
          "execution_count": 12
        }
      ]
    },
    {
      "cell_type": "markdown",
      "metadata": {
        "id": "2fr9ymME1GPN"
      },
      "source": [
        "Using the NumPy cumsum function, we can then calculate the cumulative sum of explained variances"
      ]
    },
    {
      "cell_type": "code",
      "metadata": {
        "colab": {
          "base_uri": "https://localhost:8080/"
        },
        "id": "u8FTMkyr1DE8",
        "outputId": "64174342-bb4d-40e6-9656-e10dd69aa524"
      },
      "source": [
        "cum_var_exp = np.cumsum(var_exp) # cumulative sum of explained variances\n",
        "\n",
        "cum_var_exp"
      ],
      "execution_count": 13,
      "outputs": [
        {
          "output_type": "execute_result",
          "data": {
            "text/plain": [
              "array([0.36951469, 0.55386396, 0.67201555, 0.74535807, 0.80957914,\n",
              "       0.86009639, 0.89964293, 0.92608211, 0.9499753 , 0.96627144,\n",
              "       0.98007165, 0.99179391, 1.        ])"
            ]
          },
          "metadata": {
            "tags": []
          },
          "execution_count": 13
        }
      ]
    },
    {
      "cell_type": "markdown",
      "metadata": {
        "id": "lgBM0qaM1WDk"
      },
      "source": [
        "Plot"
      ]
    },
    {
      "cell_type": "code",
      "metadata": {
        "colab": {
          "base_uri": "https://localhost:8080/",
          "height": 279
        },
        "id": "vV6-h4-eiErf",
        "outputId": "e7387c14-58b8-44bf-96d2-4e7f58c74781"
      },
      "source": [
        "import matplotlib.pyplot as plt\n",
        "\n",
        "# plot explained variances\n",
        "plt.bar(range(1,14), var_exp, alpha=0.5,\n",
        "        align='center', label='individual explained variance')\n",
        "plt.step(range(1,14), cum_var_exp, where='mid',\n",
        "         label='cumulative explained variance')\n",
        "plt.ylabel('Explained variance ratio')\n",
        "plt.xlabel('Principal component index')\n",
        "plt.legend(loc='best')\n",
        "plt.show()"
      ],
      "execution_count": 14,
      "outputs": [
        {
          "output_type": "display_data",
          "data": {
            "image/png": "[encoded data removed]",
            "text/plain": [
              "<Figure size 432x288 with 1 Axes>"
            ]
          },
          "metadata": {
            "tags": [],
            "needs_background": "light"
          }
        }
      ]
    },
    {
      "cell_type": "markdown",
      "metadata": {
        "id": "PxI8pzsE1SW2"
      },
      "source": [
        "The resulting plot indicates that the first principal component alone accounts for approximately 40% of the variance. Also, we can see that the first two principal components combined explain almost 60% of the variance in the dataset.\n"
      ]
    },
    {
      "cell_type": "markdown",
      "metadata": {
        "id": "2Hf8LH-C1lSR"
      },
      "source": [
        "#### Sort\n",
        "\n",
        "Sort the eigenpairs by decreasing order of the eigenvalues:"
      ]
    },
    {
      "cell_type": "code",
      "metadata": {
        "id": "vL1Sl3uJiHX-"
      },
      "source": [
        "# Make a list of (eigenvalue, eigenvector) tuples\n",
        "eigen_pairs = [(np.abs(eigen_vals[i]), eigen_vecs[:, i]) for i in range(len(eigen_vals))]\n",
        "\n",
        "# Sort the (eigenvalue, eigenvector) tuples from high to low\n",
        "eigen_pairs.sort(key=lambda k: k[0], reverse=True)"
      ],
      "execution_count": 15,
      "outputs": []
    },
    {
      "cell_type": "code",
      "metadata": {
        "colab": {
          "base_uri": "https://localhost:8080/"
        },
        "id": "zn6q0PWpwviC",
        "outputId": "0edc49de-3b8a-4ab1-f725-3c9225abb374"
      },
      "source": [
        "print(f\"Higher eigenvalue : {eigen_pairs[0][0]}\")\n",
        "print(f\" -> Associated eigenverctor (1x{len(eigen_pairs[0][1])}) : {eigen_pairs[0][1]}\")"
      ],
      "execution_count": 16,
      "outputs": [
        {
          "output_type": "stream",
          "text": [
            "Higher eigenvalue : 4.842745315655892\n",
            " -> Associated eigenverctor (1x13) : [-0.13724218  0.24724326 -0.02545159  0.20694508 -0.15436582 -0.39376952\n",
            " -0.41735106  0.30572896 -0.30668347  0.07554066 -0.32613263 -0.36861022\n",
            " -0.29669651]\n"
          ],
          "name": "stdout"
        }
      ]
    },
    {
      "cell_type": "markdown",
      "metadata": {
        "id": "2VuqDdSg2fu9"
      },
      "source": [
        "### Select k eigenvectors which correspond to the k largest eigenvalues, where k is the dimensionality of the new feature subspace (k ≤ d)\n",
        "\n",
        "Next, we collect the k eigenvectors that correspond to the k largest eigenvalues. That means the k stronger directions (axes in the space)."
      ]
    },
    {
      "cell_type": "code",
      "metadata": {
        "colab": {
          "base_uri": "https://localhost:8080/"
        },
        "id": "1PusAdW45rF4",
        "outputId": "b4fe5b19-31d1-4117-a586-2ad96c367189"
      },
      "source": [
        "print(f\"New dimensionality k = {k}\")"
      ],
      "execution_count": 17,
      "outputs": [
        {
          "output_type": "stream",
          "text": [
            "New dimensionality k = 2\n"
          ],
          "name": "stdout"
        }
      ]
    },
    {
      "cell_type": "code",
      "metadata": {
        "colab": {
          "base_uri": "https://localhost:8080/"
        },
        "id": "d_SPATIY30g3",
        "outputId": "0dcf8beb-2bca-4525-fca3-6818947af891"
      },
      "source": [
        "k_eigenvec = [eigen_pairs[i][1][:, np.newaxis] for i in range(k)]\n",
        "\n",
        "print(f\"Number of considered eigen_vecs to the new subspace k= {len(k_eigenvec)}\")\n",
        "print(f\"Number of entries by eing_vecs (same as original dimensionality) = {len(k_eigenvec[0])}\")"
      ],
      "execution_count": 18,
      "outputs": [
        {
          "output_type": "stream",
          "text": [
            "Number of considered eigen_vecs to the new subspace k= 2\n",
            "Number of entries by eing_vecs (same as original dimensionality) = 13\n"
          ],
          "name": "stdout"
        }
      ]
    },
    {
      "cell_type": "markdown",
      "metadata": {
        "id": "pMvM51PsSImv"
      },
      "source": [
        "### Construct a projection matrix W from the “top” k eigenvectors\n",
        "\n",
        "With the k stronger eigen vectors we generate a projection matrix"
      ]
    },
    {
      "cell_type": "code",
      "metadata": {
        "colab": {
          "base_uri": "https://localhost:8080/"
        },
        "id": "QwUkF9PvSMKU",
        "outputId": "f63c24d5-069a-4f1e-acc1-bd2caa47d0a3"
      },
      "source": [
        "w = np.hstack(k_eigenvec)\n",
        "print(f'Matrix W {w.shape}:\\n', w)"
      ],
      "execution_count": 19,
      "outputs": [
        {
          "output_type": "stream",
          "text": [
            "Matrix W (13, 2):\n",
            " [[-0.13724218  0.50303478]\n",
            " [ 0.24724326  0.16487119]\n",
            " [-0.02545159  0.24456476]\n",
            " [ 0.20694508 -0.11352904]\n",
            " [-0.15436582  0.28974518]\n",
            " [-0.39376952  0.05080104]\n",
            " [-0.41735106 -0.02287338]\n",
            " [ 0.30572896  0.09048885]\n",
            " [-0.30668347  0.00835233]\n",
            " [ 0.07554066  0.54977581]\n",
            " [-0.32613263 -0.20716433]\n",
            " [-0.36861022 -0.24902536]\n",
            " [-0.29669651  0.38022942]]\n"
          ],
          "name": "stdout"
        }
      ]
    },
    {
      "cell_type": "markdown",
      "metadata": {
        "id": "anMXmoZMUfrc"
      },
      "source": [
        "### Transform the d-dimensional input dataset X using the projection matrix W to obtain the new k-dimensional feature subspace"
      ]
    },
    {
      "cell_type": "markdown",
      "metadata": {
        "id": "9suoLsCj5mD7"
      },
      "source": [
        "By executing the preceding code, we have created a 13 x k -dimensional projection matrix W from the top k eigenvectors.\n",
        "\n",
        "Using the projection matrix, we can now transform a sample x (represented as a 1 x 13-dimensional row vector) onto the PCA subspace (the principal components one and two) obtaining x′, now a two-dimensional sample vector consisting of two new features:\n",
        "\n",
        "![vector transf](https://miro.medium.com/max/59/1*nuYZrTF8trabAfJq-3wVcA.png)"
      ]
    },
    {
      "cell_type": "code",
      "metadata": {
        "colab": {
          "base_uri": "https://localhost:8080/"
        },
        "id": "bMHY2Ff1yKiN",
        "outputId": "02362e43-7928-4b97-a21c-22b160920d9a"
      },
      "source": [
        "pos = 0\n",
        "\n",
        "x = X_train_std[pos]\n",
        "\n",
        "print(f'Example x from the {pos} entry : {x}')\n",
        "\n",
        "# Transform the x to the new PCA subspace\n",
        "x_new = x.dot(w)\n",
        "\n",
        "print(f\"Representation of x in the new {k}-d subspace : {x_new}\")"
      ],
      "execution_count": 20,
      "outputs": [
        {
          "output_type": "stream",
          "text": [
            "Example x from the 0 entry : [ 0.71225893  2.22048673 -0.13025864  0.05962872 -0.50432733 -0.52831584\n",
            " -1.24000033  0.84118003 -1.05215112 -0.29218864 -0.20017028 -0.82164144\n",
            " -0.62946362]\n",
            "Representation of x in the new 2-d subspace : [2.38299011 0.45458499]\n"
          ],
          "name": "stdout"
        }
      ]
    },
    {
      "cell_type": "markdown",
      "metadata": {
        "id": "o3M1K7PaUsbs"
      },
      "source": [
        "Similarly, we can transform all the original dataset"
      ]
    },
    {
      "cell_type": "code",
      "metadata": {
        "colab": {
          "base_uri": "https://localhost:8080/"
        },
        "id": "offfRJPAQpUU",
        "outputId": "8bd2e1b0-bdb7-425b-8942-1640f06035d0"
      },
      "source": [
        "X_train_pca = X_train_std.dot(w)\n",
        "\n",
        "print(\"New representation of the 10 first examples\")\n",
        "X_train_pca[0:10]"
      ],
      "execution_count": 21,
      "outputs": [
        {
          "output_type": "stream",
          "text": [
            "New representation of the 10 first examples\n"
          ],
          "name": "stdout"
        },
        {
          "output_type": "execute_result",
          "data": {
            "text/plain": [
              "array([[ 2.38299011,  0.45458499],\n",
              "       [-1.96578183,  1.65376939],\n",
              "       [-2.53907598,  1.02909066],\n",
              "       [-1.43010776,  0.6024011 ],\n",
              "       [ 3.14147227,  0.66214979],\n",
              "       [ 0.50253552, -2.08907131],\n",
              "       [ 0.04867722, -2.27536044],\n",
              "       [ 2.47888989, -0.08603318],\n",
              "       [ 2.01900259, -1.3538719 ],\n",
              "       [ 0.75156583, -2.55367947]])"
            ]
          },
          "metadata": {
            "tags": []
          },
          "execution_count": 21
        }
      ]
    },
    {
      "cell_type": "markdown",
      "metadata": {
        "id": "aQ7KD2BP3qWD"
      },
      "source": [
        "### Visualization\n",
        "\n",
        "If the k selected we can represent it in a 2D plotting"
      ]
    },
    {
      "cell_type": "code",
      "metadata": {
        "colab": {
          "base_uri": "https://localhost:8080/",
          "height": 279
        },
        "id": "0A1NkyQSyQsH",
        "outputId": "ff16bc57-30be-4f5c-a7f7-58ce523ccadb"
      },
      "source": [
        "if k == 2:\n",
        "  colors = ['r', 'b', 'g']\n",
        "  markers = ['s', 'x', 'o']\n",
        "  for l, c, m in zip(np.unique(y_train), colors, markers):\n",
        "      plt.scatter(X_train_pca[y_train==l, 0], \n",
        "                  X_train_pca[y_train==l, 1], \n",
        "                  c=c, label=l, marker=m) \n",
        "  plt.xlabel('PC 1')\n",
        "  plt.ylabel('PC 2')\n",
        "  plt.legend(loc='lower left')\n",
        "  plt.show()"
      ],
      "execution_count": 22,
      "outputs": [
        {
          "output_type": "display_data",
          "data": {
            "image/png": "[encoded data removed]",
            "text/plain": [
              "<Figure size 432x288 with 1 Axes>"
            ]
          },
          "metadata": {
            "tags": [],
            "needs_background": "light"
          }
        }
      ]
    },
    {
      "cell_type": "markdown",
      "metadata": {
        "id": "AeJMGfELVYDB"
      },
      "source": [
        "As we can see in the resulting plot, the data is more spread along the x-axis — the first principal component — than the second principal component (y-axis), which is consistent with the explained variance ratio plot that we created previously. However, we can intuitively see that a linear classifier will likely be able to separate the classes well."
      ]
    },
    {
      "cell_type": "markdown",
      "metadata": {
        "id": "bR-7WzFopaAA"
      },
      "source": [
        "## PCA in scikit-learn\n",
        "\n",
        "Scikit-Learn includes a direct PCA transformation."
      ]
    },
    {
      "cell_type": "code",
      "metadata": {
        "id": "4GOb-nvaVNVq"
      },
      "source": [
        "from sklearn.decomposition import PCA\n",
        "\n",
        "# intialize pca \n",
        "pca = PCA(n_components=k)\n",
        "\n",
        "# fit and transform data\n",
        "X_train_pca = pca.fit_transform(X_train_std)\n",
        "X_test_pca = pca.transform(X_test_std)"
      ],
      "execution_count": 25,
      "outputs": []
    },
    {
      "cell_type": "code",
      "metadata": {
        "colab": {
          "base_uri": "https://localhost:8080/"
        },
        "id": "QEKT03eaqYgD",
        "outputId": "16808481-8fea-4fc8-89ef-70f58c82a32f"
      },
      "source": [
        "print(\"New representation of the 10 first examples\")\n",
        "X_train_pca[0:10]"
      ],
      "execution_count": 27,
      "outputs": [
        {
          "output_type": "stream",
          "text": [
            "New representation of the 10 first examples\n"
          ],
          "name": "stdout"
        },
        {
          "output_type": "execute_result",
          "data": {
            "text/plain": [
              "array([[ 2.38299011,  0.45458499],\n",
              "       [-1.96578183,  1.65376939],\n",
              "       [-2.53907598,  1.02909066],\n",
              "       [-1.43010776,  0.6024011 ],\n",
              "       [ 3.14147227,  0.66214979],\n",
              "       [ 0.50253552, -2.08907131],\n",
              "       [ 0.04867722, -2.27536044],\n",
              "       [ 2.47888989, -0.08603318],\n",
              "       [ 2.01900259, -1.3538719 ],\n",
              "       [ 0.75156583, -2.55367947]])"
            ]
          },
          "metadata": {
            "tags": []
          },
          "execution_count": 27
        }
      ]
    },
    {
      "cell_type": "markdown",
      "metadata": {
        "id": "_i8jvKassBmo"
      },
      "source": [
        "Visualization"
      ]
    },
    {
      "cell_type": "code",
      "metadata": {
        "colab": {
          "base_uri": "https://localhost:8080/",
          "height": 279
        },
        "id": "AUjyEpsbpyHm",
        "outputId": "436e5e96-97c8-4a5d-c102-85cb296b67f3"
      },
      "source": [
        "from sklearn.linear_model import LogisticRegression\n",
        "from matplotlib.colors import ListedColormap\n",
        "\n",
        "def plot_decision_regions(X, y, classifier, resolution=0.02):\n",
        "    # setup marker generator and color map\n",
        "    markers = ('s', 'x', 'o', '^', 'v')\n",
        "    colors = ('red', 'blue', 'lightgreen', 'gray', 'cyan')\n",
        "    cmap = ListedColormap(colors[:len(np.unique(y))])\n",
        "\n",
        "    # plot the decision surface\n",
        "    x1_min, x1_max = X[:, 0].min() - 1, X[:, 0].max() + 1\n",
        "    x2_min, x2_max = X[:, 1].min() - 1, X[:, 1].max() + 1\n",
        "    xx1, xx2 = np.meshgrid(np.arange(x1_min, x1_max, resolution),\n",
        "                           np.arange(x2_min, x2_max, resolution))\n",
        "    Z = classifier.predict(np.array([xx1.ravel(), xx2.ravel()]).T)\n",
        "    Z = Z.reshape(xx1.shape)\n",
        "    plt.contourf(xx1, xx2, Z, alpha=0.4, cmap=cmap)\n",
        "    plt.xlim(xx1.min(), xx1.max())\n",
        "    plt.ylim(xx2.min(), xx2.max())\n",
        "\n",
        "    # plot class samples\n",
        "    for idx, cl in enumerate(np.unique(y)):\n",
        "        plt.scatter(x=X[y == cl, 0], \n",
        "                    y=X[y == cl, 1],\n",
        "                    alpha=0.6, \n",
        "                    c=[cmap(idx)],\n",
        "                    edgecolor='black',\n",
        "                    marker=markers[idx], \n",
        "                    label=cl)# plot decision regions for training set\n",
        "\n",
        "if k == 2:\n",
        "\n",
        "  lr = LogisticRegression(multi_class='auto', solver='liblinear')\n",
        "  lr.fit(X_train_pca, y_train)\n",
        "  plot_decision_regions(X_train_pca, y_train, classifier=lr)\n",
        "  plt.xlabel('PC 1')\n",
        "  plt.ylabel('PC 2')\n",
        "  plt.legend(loc='lower left')\n",
        "  plt.show()"
      ],
      "execution_count": 24,
      "outputs": [
        {
          "output_type": "display_data",
          "data": {
            "image/png": "[encoded data removed]",
            "text/plain": [
              "<Figure size 432x288 with 1 Axes>"
            ]
          },
          "metadata": {
            "tags": [],
            "needs_background": "light"
          }
        }
      ]
    },
    {
      "cell_type": "code",
      "metadata": {
        "id": "AzcrASbOqC0k"
      },
      "source": [
        ""
      ],
      "execution_count": null,
      "outputs": []
    }
  ]
}