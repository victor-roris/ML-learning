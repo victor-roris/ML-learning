{
  "nbformat": 4,
  "nbformat_minor": 0,
  "metadata": {
    "colab": {
      "name": "Learning to Rank.ipynb",
      "provenance": [],
      "collapsed_sections": [],
      "toc_visible": true,
      "authorship_tag": "ABX9TyOI4YakAbrPlSb60+qDmxwp",
      "include_colab_link": true
    },
    "kernelspec": {
      "name": "python3",
      "display_name": "Python 3"
    },
    "language_info": {
      "name": "python"
    }
  },
  "cells": [
    {
      "cell_type": "markdown",
      "metadata": {
        "id": "view-in-github",
        "colab_type": "text"
      },
      "source": [
        "<a href=\"https://colab.research.google.com/github/victor-roris/ML-learning/blob/master/Ranking/Learning_to_Rank.ipynb\" target=\"_parent\"><img src=\"https://colab.research.google.com/assets/colab-badge.svg\" alt=\"Open In Colab\"/></a>"
      ]
    },
    {
      "cell_type": "markdown",
      "metadata": {
        "id": "gIHmhf7Ho7Ei"
      },
      "source": [
        "# Learning to Rank\n",
        "\n",
        "Adaptation from: [link](https://github.com/ogrisel/notebooks/blob/master/Learning%20to%20Rank.ipynb)\n",
        "\n",
        "In this notebook, we analyse ranking technologies. We are going to review the common function to measure the success of the predicted ranker (DCG). Moreover, we present some basic ranking models. In particular, we analyse the ranking process using regressors and convert classifiers in rankers.\n",
        "\n",
        "For more information: \n",
        " - [Ranking with Linear models](https://opensourceconnections.com/blog/2017/04/01/learning-to-rank-linear-models/)\n",
        " - [Learning to Rank datasets and software](http://arogozhnikov.github.io/2015/06/26/learning-to-rank-software-datasets.html)\n",
        " - [Learning to Rank article](https://arxiv.org/pdf/1501.05132.pdf)"
      ]
    },
    {
      "cell_type": "markdown",
      "metadata": {
        "id": "8mVrzTpkA3aX"
      },
      "source": [
        "## Imports"
      ]
    },
    {
      "cell_type": "code",
      "metadata": {
        "colab": {
          "base_uri": "https://localhost:8080/"
        },
        "id": "Dsu5Gfo-1Isj",
        "outputId": "bc16fff2-b72f-451a-8218-62377daf3621"
      },
      "source": [
        "%matplotlib inline\n",
        "from os.path import expanduser, join\n",
        "from time import time\n",
        "import numpy as np\n",
        "import matplotlib.pyplot as plt\n",
        "\n",
        "from sklearn.metrics import r2_score\n",
        "\n",
        "from sklearn.externals import joblib"
      ],
      "execution_count": 1,
      "outputs": [
        {
          "output_type": "stream",
          "text": [
            "/usr/local/lib/python3.7/dist-packages/sklearn/externals/joblib/__init__.py:15: FutureWarning: sklearn.externals.joblib is deprecated in 0.21 and will be removed in 0.23. Please import this functionality directly from joblib, which can be installed with: pip install joblib. If this warning is raised when loading pickled models, you may need to re-serialize those models with scikit-learn 0.21+.\n",
            "  warnings.warn(msg, category=FutureWarning)\n"
          ],
          "name": "stderr"
        }
      ]
    },
    {
      "cell_type": "markdown",
      "metadata": {
        "id": "jXRe5x2OA5iy"
      },
      "source": [
        "## Load dataset\n",
        "\n",
        "To run the ranker training and testing we are going to use the [MSLR-WEB10K](http://research.microsoft.com/en-us/projects/mslr/) dataset. In particular, we use the library catboost that give us access to the dataset easily."
      ]
    },
    {
      "cell_type": "code",
      "metadata": {
        "id": "exhtf_4h1YZZ"
      },
      "source": [
        "!pip install catboost"
      ],
      "execution_count": null,
      "outputs": []
    },
    {
      "cell_type": "code",
      "metadata": {
        "id": "HyOx32cB1JZO"
      },
      "source": [
        "from catboost.datasets import msrank_10k\n",
        "train_df, test_df = msrank_10k()\n",
        "\n",
        "X_train = train_df.drop([0, 1], axis=1).values\n",
        "y_train = train_df[0].values\n",
        "queries_train = train_df[1].values\n",
        "\n",
        "X_test = test_df.drop([0, 1], axis=1).values\n",
        "y_test = test_df[0].values\n",
        "queries_test = test_df[1].values"
      ],
      "execution_count": 4,
      "outputs": []
    },
    {
      "cell_type": "code",
      "metadata": {
        "colab": {
          "base_uri": "https://localhost:8080/"
        },
        "id": "RTC5qaJL1XHG",
        "outputId": "e5f0173b-a11a-4983-ffb0-f2c5f077a989"
      },
      "source": [
        "# Shape of the training dataset\n",
        "X_train.shape"
      ],
      "execution_count": 5,
      "outputs": [
        {
          "output_type": "execute_result",
          "data": {
            "text/plain": [
              "(10000, 136)"
            ]
          },
          "metadata": {
            "tags": []
          },
          "execution_count": 5
        }
      ]
    },
    {
      "cell_type": "code",
      "metadata": {
        "colab": {
          "base_uri": "https://localhost:8080/"
        },
        "id": "XRtTgWLG1nIq",
        "outputId": "b1ce5298-fb19-4a78-8013-4b77d3337db3"
      },
      "source": [
        "# Datatype of the values in the training dataset\n",
        "X_train.dtype"
      ],
      "execution_count": 6,
      "outputs": [
        {
          "output_type": "execute_result",
          "data": {
            "text/plain": [
              "dtype('float64')"
            ]
          },
          "metadata": {
            "tags": []
          },
          "execution_count": 6
        }
      ]
    },
    {
      "cell_type": "code",
      "metadata": {
        "id": "sWei9Sqj0_Pm",
        "colab": {
          "base_uri": "https://localhost:8080/"
        },
        "outputId": "04f017e4-c923-466f-9821-3c242a49188e"
      },
      "source": [
        "# Total size in bytes\n",
        "(X_train.nbytes + X_test.nbytes) / 1e6"
      ],
      "execution_count": 7,
      "outputs": [
        {
          "output_type": "execute_result",
          "data": {
            "text/plain": [
              "21.76"
            ]
          },
          "metadata": {
            "tags": []
          },
          "execution_count": 7
        }
      ]
    },
    {
      "cell_type": "code",
      "metadata": {
        "id": "5Qk5FaTr0_Pm",
        "colab": {
          "base_uri": "https://localhost:8080/"
        },
        "outputId": "a196fca1-3f72-4017-8942-be587df97e07"
      },
      "source": [
        "# total number of search results\n",
        "len(X_train) + len(X_test)"
      ],
      "execution_count": 8,
      "outputs": [
        {
          "output_type": "execute_result",
          "data": {
            "text/plain": [
              "20000"
            ]
          },
          "metadata": {
            "tags": []
          },
          "execution_count": 8
        }
      ]
    },
    {
      "cell_type": "code",
      "metadata": {
        "id": "UBHvaq830_Pm",
        "colab": {
          "base_uri": "https://localhost:8080/"
        },
        "outputId": "1eaf306a-7982-4a74-a083-ccb381626f11"
      },
      "source": [
        "# total number of queries\n",
        "len(np.unique(queries_train)) + len(np.unique(queries_test))"
      ],
      "execution_count": 152,
      "outputs": [
        {
          "output_type": "execute_result",
          "data": {
            "text/plain": [
              "175"
            ]
          },
          "metadata": {
            "tags": []
          },
          "execution_count": 152
        }
      ]
    },
    {
      "cell_type": "markdown",
      "metadata": {
        "id": "V6f8dKgq2f9u"
      },
      "source": [
        "### Sanity check\n",
        "\n",
        "We generate a version of the dataset balanced."
      ]
    },
    {
      "cell_type": "code",
      "metadata": {
        "id": "PNIfgQID1q1s"
      },
      "source": [
        "def balance_irrelevant(X, y, qid, seed=None):\n",
        "    \"\"\"Subsample the zero-scored entries\"\"\"\n",
        "    rng = np.random.RandomState(seed)\n",
        "    unique_qid = np.unique(qid)\n",
        "    final_mask = np.ones(shape=y.shape, dtype=np.bool)\n",
        "    for this_qid in unique_qid:\n",
        "        this_mask = qid == this_qid\n",
        "        this_y = y[this_mask]\n",
        "        relevant = this_y >= 2\n",
        "        ratio = float(np.mean(relevant))\n",
        "        if ratio > 0.5:\n",
        "            # already balanced\n",
        "            continue\n",
        "            \n",
        "        final_mask[this_mask] = np.logical_or(\n",
        "            relevant, np.random.random(len(this_y)) > 0.7) \n",
        "    return X[final_mask], y[final_mask], qid[final_mask]\n",
        "\n",
        "X_balanced, y_balanced, qid_balanced = balance_irrelevant(X_train, y_train, queries_train)"
      ],
      "execution_count": 11,
      "outputs": []
    },
    {
      "cell_type": "code",
      "metadata": {
        "colab": {
          "base_uri": "https://localhost:8080/"
        },
        "id": "Mh2ZnZwk2I3w",
        "outputId": "35332b76-86cf-47c6-aba8-f2eacbeeb437"
      },
      "source": [
        "print(len(X_train))\n",
        "print(len(X_balanced))"
      ],
      "execution_count": 12,
      "outputs": [
        {
          "output_type": "stream",
          "text": [
            "10000\n",
            "4085\n"
          ],
          "name": "stdout"
        }
      ]
    },
    {
      "cell_type": "markdown",
      "metadata": {
        "id": "FsilFTqV0_Pq"
      },
      "source": [
        "## Quantifying ranking success with NDCG\n",
        "\n",
        "In this section we analyse a strategy to measure the success of the ranking produced by the model. In particular, we use DCG as measure method. Furthermore, we present some ranking models (regressors)."
      ]
    },
    {
      "cell_type": "markdown",
      "metadata": {
        "id": "sFtRN2jc55yE"
      },
      "source": [
        "### Calculations of Normalized DGC (NDGC)\n",
        "\n",
        "Discounted cumulative gain (DCG) is a measure of ranking quality.\n",
        "\n",
        "Two assumptions are made in using DCG and its related measures.\n",
        "\n",
        "- Highly relevant documents are more useful when appearing earlier in a search engine result list (have higher ranks)\n",
        "- Highly relevant documents are more useful than marginally relevant documents, which are in turn more useful than non-relevant documents.\n",
        "\n",
        "More info and equations: https://en.wikipedia.org/wiki/Discounted_cumulative_gain"
      ]
    },
    {
      "cell_type": "code",
      "metadata": {
        "id": "1RWopHku0_Pq"
      },
      "source": [
        "def dcg(relevances, rank=10):\n",
        "    \"\"\"Discounted cumulative gain at rank (DCG)\"\"\"\n",
        "    relevances = np.asarray(relevances)[:rank]\n",
        "    n_relevances = len(relevances)\n",
        "    if n_relevances == 0:\n",
        "        return 0.\n",
        "\n",
        "    discounts = np.log2(np.arange(n_relevances) + 2)\n",
        "    return np.sum(relevances / discounts)\n",
        " \n",
        " \n",
        "def ndcg(relevances, rank=10):\n",
        "    \"\"\"Normalized discounted cumulative gain (NDGC)\"\"\"\n",
        "\n",
        "    # Best dcg (relevances sorted by position, high relevance at the top and lower at the bottom)\n",
        "    best_dcg = dcg(sorted(relevances, reverse=True), rank)\n",
        "    if best_dcg == 0:\n",
        "        return 0.\n",
        "    \n",
        "    # Normalized DCG: DCG of predicted relevances / best dcg\n",
        "    return dcg(relevances, rank) / best_dcg"
      ],
      "execution_count": 18,
      "outputs": []
    },
    {
      "cell_type": "markdown",
      "metadata": {
        "id": "L5FPjdwy3oDV"
      },
      "source": [
        "Examples: We calculate the ndcg of some obtained relevances order."
      ]
    },
    {
      "cell_type": "code",
      "metadata": {
        "id": "3pAyU1R60_Pq",
        "colab": {
          "base_uri": "https://localhost:8080/"
        },
        "outputId": "c74f4876-d739-468c-878e-734f9bddc243"
      },
      "source": [
        "# Similar to the best order of relevances\n",
        "ndcg([2, 4, 0, 1, 1, 0, 0], rank=5)"
      ],
      "execution_count": 20,
      "outputs": [
        {
          "output_type": "execute_result",
          "data": {
            "text/plain": [
              "0.8625300399291566"
            ]
          },
          "metadata": {
            "tags": []
          },
          "execution_count": 20
        }
      ]
    },
    {
      "cell_type": "code",
      "metadata": {
        "id": "3ReWBBZO0_Pr",
        "colab": {
          "base_uri": "https://localhost:8080/"
        },
        "outputId": "baea3c02-fc0b-43fe-a2b7-be196d2c32fb"
      },
      "source": [
        "# No very similar to the best order of relevances\n",
        "ndcg([0, 0, 0, 1, 1, 2, 4], rank=5)"
      ],
      "execution_count": 21,
      "outputs": [
        {
          "output_type": "execute_result",
          "data": {
            "text/plain": [
              "0.13201850690866795"
            ]
          },
          "metadata": {
            "tags": []
          },
          "execution_count": 21
        }
      ]
    },
    {
      "cell_type": "code",
      "metadata": {
        "id": "9lMpjD1A0_Pr",
        "colab": {
          "base_uri": "https://localhost:8080/"
        },
        "outputId": "1a70b9ab-42cb-4a15-bf01-40f74440bf7c"
      },
      "source": [
        "# Worst order of relevances\n",
        "ndcg([0, 0, 0, 1, 1, 2, 4], rank=3)"
      ],
      "execution_count": 16,
      "outputs": [
        {
          "output_type": "execute_result",
          "data": {
            "text/plain": [
              "0.0"
            ]
          },
          "metadata": {
            "tags": []
          },
          "execution_count": 16
        }
      ]
    },
    {
      "cell_type": "code",
      "metadata": {
        "id": "7-Btnz_K0_Pr",
        "colab": {
          "base_uri": "https://localhost:8080/"
        },
        "outputId": "18abfe4f-6379-4f5f-935e-e11ed7f848d1"
      },
      "source": [
        "# Best order of relevances\n",
        "ndcg([4, 2, 1, 1, 0, 0, 0], rank=5)"
      ],
      "execution_count": 17,
      "outputs": [
        {
          "output_type": "execute_result",
          "data": {
            "text/plain": [
              "1.0"
            ]
          },
          "metadata": {
            "tags": []
          },
          "execution_count": 17
        }
      ]
    },
    {
      "cell_type": "markdown",
      "metadata": {
        "id": "Zp6IaBe06CUC"
      },
      "source": [
        "### Mean NDCG\n",
        "\n",
        "Calculate the mean value of NDCG for a list of predicted relevances"
      ]
    },
    {
      "cell_type": "code",
      "metadata": {
        "id": "oXriOiUp0_Pr",
        "colab": {
          "base_uri": "https://localhost:8080/"
        },
        "outputId": "7133ae75-8734-4e1b-ddf9-bc4493e22d7b"
      },
      "source": [
        "def mean_ndcg(y_true, y_pred, query_ids, rank=10):\n",
        "    y_true = np.asarray(y_true)\n",
        "    y_pred = np.asarray(y_pred)\n",
        "    query_ids = np.asarray(query_ids)\n",
        "    # assume query_ids are sorted\n",
        "    ndcg_scores = []\n",
        "    previous_qid = query_ids[0]\n",
        "    previous_loc = 0\n",
        "    for loc, qid in enumerate(query_ids):\n",
        "        if previous_qid != qid:\n",
        "            chunk = slice(previous_loc, loc)\n",
        "            ranked_relevances = y_true[chunk][np.argsort(y_pred[chunk])[::-1]]\n",
        "            ndcg_scores.append(ndcg(ranked_relevances, rank=rank))\n",
        "            previous_loc = loc\n",
        "        previous_qid = qid\n",
        "\n",
        "    chunk = slice(previous_loc, loc + 1)\n",
        "    ranked_relevances = y_true[chunk][np.argsort(y_pred[chunk])[::-1]]\n",
        "    ndcg_scores.append(ndcg(ranked_relevances, rank=rank))\n",
        "    return np.mean(ndcg_scores)\n",
        "\n",
        "\n",
        "mean_ndcg([4, 3, 1, 4, 3], [4, 0, 1, 4, 2], [0, 0, 0, 2, 2], rank=10)"
      ],
      "execution_count": 22,
      "outputs": [
        {
          "output_type": "execute_result",
          "data": {
            "text/plain": [
              "0.9795191506818377"
            ]
          },
          "metadata": {
            "tags": []
          },
          "execution_count": 22
        }
      ]
    },
    {
      "cell_type": "markdown",
      "metadata": {
        "id": "pJqubWYu6a4x"
      },
      "source": [
        "## Ranking models"
      ]
    },
    {
      "cell_type": "markdown",
      "metadata": {
        "id": "HlpsDOSAHNat"
      },
      "source": [
        "### Common evaluation functions "
      ]
    },
    {
      "cell_type": "code",
      "metadata": {
        "id": "Qi7tfD2O0_Ps"
      },
      "source": [
        "def print_evaluation(model, X, y, qid):\n",
        "    tic = time()\n",
        "    y_predicted = model.predict(X)\n",
        "    prediction_time = time() - tic\n",
        "    print(\"Prediction time: {:.3f}s\".format(prediction_time))\n",
        "    print(\"NDCG@5 score: {:.3f}\".format(\n",
        "    mean_ndcg(y, y_predicted, qid, rank=5)))\n",
        "    print(\"NDCG@10 score: {:.3f}\".format(\n",
        "    mean_ndcg(y, y_predicted, qid, rank=10)))\n",
        "    print(\"NDCG score: {:.3f}\".format(\n",
        "    mean_ndcg(y, y_predicted, qid, rank=None)))\n",
        "    print(\"R2 score: {:.3f}\".format(r2_score(y, y_predicted)))"
      ],
      "execution_count": 30,
      "outputs": []
    },
    {
      "cell_type": "code",
      "metadata": {
        "id": "S-H9wK1L0_Ps"
      },
      "source": [
        "def plot_ndcg_by_trees(model, X, y, qid, rank=10):\n",
        "    max_n_trees = len(model.estimators_)\n",
        "    scores = []\n",
        "    \n",
        "    if hasattr(model, 'staged_predict'):\n",
        "        # stage-wise score computation for boosted ensembles\n",
        "        n_trees = np.arange(max_n_trees) + 1\n",
        "        for y_predicted in model.staged_predict(X):\n",
        "            scores.append(mean_ndcg(y, y_predicted, qid, rank=10))\n",
        "    else:\n",
        "        # assume forest-type of tree ensemble: use a log scale to speedup\n",
        "        # the computation\n",
        "        # XXX: partial predictions could be reused\n",
        "        n_trees = np.logspace(0, np.log10(max_n_trees), 10).astype(int)\n",
        "        for j, n in enumerate(n_trees):\n",
        "            y_predicted = sub_ensemble(model, n).predict(X)\n",
        "            scores.append(mean_ndcg(y, y_predicted, qid, rank=rank))\n",
        "            \n",
        "    plt.plot(n_trees, scores)\n",
        "    plt.xlabel(\"Number of trees\")\n",
        "    plt.ylabel(\"Average NDCG@%d\" % rank)\n",
        "    _ = plt.title(\"Impact of the number of trees\")"
      ],
      "execution_count": 36,
      "outputs": []
    },
    {
      "cell_type": "code",
      "metadata": {
        "id": "B5fnXF_S9xX9"
      },
      "source": [
        "def plot_importances(model):\n",
        "    #plot the importances #\n",
        "    importances = model.feature_importances_\n",
        "    std = np.std([tree.feature_importances_ for tree in model.estimators_],\n",
        "                axis=0)\n",
        "    indices = np.argsort(importances)[::-1][:20]\n",
        "\n",
        "    plt.figure(figsize=(14,10))\n",
        "    plt.title(\"Feature importances\")\n",
        "    plt.bar(range(len(indices)), importances[indices],\n",
        "          color=\"b\", yerr=std[indices], align=\"center\")\n",
        "    plt.xticks(range(len(indices)), indices)\n",
        "    plt.xlim([-1, len(indices)])\n",
        "    plt.show()"
      ],
      "execution_count": 40,
      "outputs": []
    },
    {
      "cell_type": "markdown",
      "metadata": {
        "id": "KTIFgSOv0_P1"
      },
      "source": [
        "### Baseline Linear Regression model\n",
        "\n",
        "Comparing with different optimizers and input scaling"
      ]
    },
    {
      "cell_type": "code",
      "metadata": {
        "id": "hhOjlPAnLVAf"
      },
      "source": [
        "from sklearn.linear_model import LinearRegression"
      ],
      "execution_count": null,
      "outputs": []
    },
    {
      "cell_type": "code",
      "metadata": {
        "id": "uBjwhR1d0_P1",
        "colab": {
          "base_uri": "https://localhost:8080/"
        },
        "outputId": "cd216902-651a-43c6-af46-0d40f740b461"
      },
      "source": [
        "%time lr = LinearRegression().fit(X_train, y_train)"
      ],
      "execution_count": 87,
      "outputs": [
        {
          "output_type": "stream",
          "text": [
            "CPU times: user 149 ms, sys: 44.1 ms, total: 193 ms\n",
            "Wall time: 156 ms\n"
          ],
          "name": "stdout"
        }
      ]
    },
    {
      "cell_type": "code",
      "metadata": {
        "id": "mCyBZAfA0_P1",
        "colab": {
          "base_uri": "https://localhost:8080/"
        },
        "outputId": "790ef28b-2589-4b9a-fede-663bcf3ebdb2"
      },
      "source": [
        "%time y_test_lr = lr.predict(X_test)"
      ],
      "execution_count": 88,
      "outputs": [
        {
          "output_type": "stream",
          "text": [
            "CPU times: user 3.04 ms, sys: 994 µs, total: 4.04 ms\n",
            "Wall time: 6.46 ms\n"
          ],
          "name": "stdout"
        }
      ]
    },
    {
      "cell_type": "code",
      "metadata": {
        "id": "vDI5jWt_0_P1",
        "colab": {
          "base_uri": "https://localhost:8080/"
        },
        "outputId": "27af5633-3237-4735-9beb-a073762520ae"
      },
      "source": [
        "print_evaluation(lr, X_test, y_test, queries_test)"
      ],
      "execution_count": 90,
      "outputs": [
        {
          "output_type": "stream",
          "text": [
            "Prediction time: 0.007s\n",
            "NDCG@5 score: 0.399\n",
            "NDCG@10 score: 0.425\n",
            "NDCG score: 0.719\n",
            "R2 score: 0.046\n"
          ],
          "name": "stdout"
        }
      ]
    },
    {
      "cell_type": "markdown",
      "metadata": {
        "id": "0bj_6K200_P2"
      },
      "source": [
        "Evaluate overfitting by comparing with training set:"
      ]
    },
    {
      "cell_type": "code",
      "metadata": {
        "id": "Qn3dim_20_P2",
        "colab": {
          "base_uri": "https://localhost:8080/"
        },
        "outputId": "05d1033b-8bb9-4ccc-91a9-8338c2d8a8af"
      },
      "source": [
        "print_evaluation(lr, X_train, y_train, queries_test)"
      ],
      "execution_count": 92,
      "outputs": [
        {
          "output_type": "stream",
          "text": [
            "Prediction time: 0.012s\n",
            "NDCG@5 score: 0.561\n",
            "NDCG@10 score: 0.561\n",
            "NDCG score: 0.803\n",
            "R2 score: 0.172\n"
          ],
          "name": "stdout"
        }
      ]
    },
    {
      "cell_type": "markdown",
      "metadata": {
        "id": "mcHKSXJ_0_P2"
      },
      "source": [
        "Let's evaluate the impact of imput feature normalization:"
      ]
    },
    {
      "cell_type": "code",
      "metadata": {
        "id": "ypvtZqi50_P2",
        "colab": {
          "base_uri": "https://localhost:8080/"
        },
        "outputId": "c9198341-a0cb-4080-d3c9-b09ff70e4dd9"
      },
      "source": [
        "%%time\n",
        "\n",
        "nlr = LinearRegression(normalize=True).fit(X_train, y_train)"
      ],
      "execution_count": 93,
      "outputs": [
        {
          "output_type": "stream",
          "text": [
            "CPU times: user 162 ms, sys: 18 ms, total: 180 ms\n",
            "Wall time: 111 ms\n"
          ],
          "name": "stdout"
        }
      ]
    },
    {
      "cell_type": "code",
      "metadata": {
        "id": "gk1t2bos0_P2",
        "colab": {
          "base_uri": "https://localhost:8080/"
        },
        "outputId": "605c724c-aeca-46f4-ae16-a95b1e0b92b1"
      },
      "source": [
        "print_evaluation(nlr, X_test, y_test, queries_test)"
      ],
      "execution_count": 94,
      "outputs": [
        {
          "output_type": "stream",
          "text": [
            "Prediction time: 0.010s\n",
            "NDCG@5 score: 0.408\n",
            "NDCG@10 score: 0.433\n",
            "NDCG score: 0.721\n",
            "R2 score: 0.036\n"
          ],
          "name": "stdout"
        }
      ]
    },
    {
      "cell_type": "markdown",
      "metadata": {
        "id": "MBUXwZMHXORj"
      },
      "source": [
        "Now, we test with the balanced dataset"
      ]
    },
    {
      "cell_type": "code",
      "metadata": {
        "id": "GlcDuDk40_P3",
        "colab": {
          "base_uri": "https://localhost:8080/"
        },
        "outputId": "4917687f-942f-4e54-a3d3-c8f476aea47d"
      },
      "source": [
        "%%time\n",
        "\n",
        "nlr = LinearRegression(normalize=True).fit(X_balanced, y_balanced)"
      ],
      "execution_count": 95,
      "outputs": [
        {
          "output_type": "stream",
          "text": [
            "CPU times: user 67.7 ms, sys: 19.1 ms, total: 86.7 ms\n",
            "Wall time: 62 ms\n"
          ],
          "name": "stdout"
        }
      ]
    },
    {
      "cell_type": "code",
      "metadata": {
        "id": "mHadD_xZ0_P3",
        "colab": {
          "base_uri": "https://localhost:8080/"
        },
        "outputId": "d26314d2-db44-45d6-ae49-0855c7d6af42"
      },
      "source": [
        "print_evaluation(nlr, X_test, y_test, queries_test)"
      ],
      "execution_count": 96,
      "outputs": [
        {
          "output_type": "stream",
          "text": [
            "Prediction time: 0.008s\n",
            "NDCG@5 score: 0.405\n",
            "NDCG@10 score: 0.423\n",
            "NDCG score: 0.719\n",
            "R2 score: -220.689\n"
          ],
          "name": "stdout"
        }
      ]
    },
    {
      "cell_type": "markdown",
      "metadata": {
        "id": "TTw0mvtvaJEa"
      },
      "source": [
        "Finally, scaled dataset and SGDRegressor. This model is a linear model fitted by minimizing a regularized empirical loss with SGD (Stochastic Gradient Descent)."
      ]
    },
    {
      "cell_type": "code",
      "metadata": {
        "id": "KHNbF7Nx0_P3"
      },
      "source": [
        "from sklearn.linear_model import SGDRegressor\n",
        "from sklearn.preprocessing import StandardScaler\n",
        "\n",
        "scaler = StandardScaler()\n",
        "X_train_scaled = scaler.fit_transform(X_train)\n",
        "X_test_scaled = scaler.transform(X_test)"
      ],
      "execution_count": 97,
      "outputs": []
    },
    {
      "cell_type": "code",
      "metadata": {
        "id": "o1zIOqDd0_P3",
        "colab": {
          "base_uri": "https://localhost:8080/"
        },
        "outputId": "77010c6d-1274-4c08-b8a7-c23ed3aa8fe5"
      },
      "source": [
        "%%time\n",
        "\n",
        "sgdlr = SGDRegressor(alpha=1e-7, learning_rate='constant', eta0=1e-5, max_iter=50).fit(X_train_scaled, y_train)"
      ],
      "execution_count": 99,
      "outputs": [
        {
          "output_type": "stream",
          "text": [
            "CPU times: user 177 ms, sys: 11 ms, total: 188 ms\n",
            "Wall time: 192 ms\n"
          ],
          "name": "stdout"
        }
      ]
    },
    {
      "cell_type": "code",
      "metadata": {
        "id": "sY7FDPxk0_P3",
        "colab": {
          "base_uri": "https://localhost:8080/"
        },
        "outputId": "092e8731-bc09-45f2-fc00-74ed40b85678"
      },
      "source": [
        "print_evaluation(sgdlr, X_test_scaled, y_test, queries_test)"
      ],
      "execution_count": 101,
      "outputs": [
        {
          "output_type": "stream",
          "text": [
            "Prediction time: 0.011s\n",
            "NDCG@5 score: 0.420\n",
            "NDCG@10 score: 0.438\n",
            "NDCG score: 0.725\n",
            "R2 score: 0.108\n"
          ],
          "name": "stdout"
        }
      ]
    },
    {
      "cell_type": "markdown",
      "metadata": {
        "id": "HKFkrxUB7AGJ"
      },
      "source": [
        "### Regression models "
      ]
    },
    {
      "cell_type": "markdown",
      "metadata": {
        "id": "He18IqLaIA0b"
      },
      "source": [
        "#### Linear Regression\n",
        "\n",
        "https://scikit-learn.org/stable/modules/generated/sklearn.linear_model.LinearRegression.html"
      ]
    },
    {
      "cell_type": "code",
      "metadata": {
        "colab": {
          "base_uri": "https://localhost:8080/"
        },
        "id": "QA0mbyzXIA0t",
        "outputId": "b43c2c84-7439-4a8c-95e8-493ce518bcb6"
      },
      "source": [
        "%%time\n",
        "\n",
        "from sklearn.linear_model import LinearRegression\n",
        "\n",
        "lr = LinearRegression()\n",
        "lr.fit(X_train, y_train)"
      ],
      "execution_count": 153,
      "outputs": [
        {
          "output_type": "stream",
          "text": [
            "CPU times: user 149 ms, sys: 14 ms, total: 163 ms\n",
            "Wall time: 94.8 ms\n"
          ],
          "name": "stdout"
        }
      ]
    },
    {
      "cell_type": "code",
      "metadata": {
        "colab": {
          "base_uri": "https://localhost:8080/"
        },
        "id": "wHg7HkimIA0u",
        "outputId": "8ec61f78-2a19-4e3c-ee36-9b36c6521604"
      },
      "source": [
        "print_evaluation(lr, X_test, y_test, queries_test)"
      ],
      "execution_count": 154,
      "outputs": [
        {
          "output_type": "stream",
          "text": [
            "Prediction time: 0.008s\n",
            "NDCG@5 score: 0.399\n",
            "NDCG@10 score: 0.425\n",
            "NDCG score: 0.719\n",
            "R2 score: 0.046\n"
          ],
          "name": "stdout"
        }
      ]
    },
    {
      "cell_type": "markdown",
      "metadata": {
        "id": "vze-ITxaiZ66"
      },
      "source": [
        "#### Extra Trees Regressor\n",
        "http://scikit-learn.org/stable/modules/generated/sklearn.ensemble.ExtraTreesRegressor.html"
      ]
    },
    {
      "cell_type": "code",
      "metadata": {
        "id": "wgDfHK4Q0_Pt",
        "colab": {
          "base_uri": "https://localhost:8080/"
        },
        "outputId": "ccbb46ee-10d5-4bcd-990e-6fd88ff98eba"
      },
      "source": [
        "%%time\n",
        "\n",
        "from sklearn.ensemble import ExtraTreesRegressor\n",
        "\n",
        "etr = ExtraTreesRegressor(n_estimators=200, min_samples_split=5, random_state=1, n_jobs=-1)\n",
        "etr.fit(X_train, y_train)"
      ],
      "execution_count": 24,
      "outputs": [
        {
          "output_type": "stream",
          "text": [
            "CPU times: user 52.3 s, sys: 66.2 ms, total: 52.4 s\n",
            "Wall time: 26.8 s\n"
          ],
          "name": "stdout"
        }
      ]
    },
    {
      "cell_type": "code",
      "metadata": {
        "id": "Siuas0ed0_Pt",
        "colab": {
          "base_uri": "https://localhost:8080/"
        },
        "outputId": "a6203bb1-a525-4fb7-fd15-03b07f240996"
      },
      "source": [
        "print_evaluation(etr, X_test, y_test, queries_test)"
      ],
      "execution_count": 32,
      "outputs": [
        {
          "output_type": "stream",
          "text": [
            "Prediction time: 0.412s\n",
            "NDCG@5 score: 0.450\n",
            "NDCG@10 score: 0.456\n",
            "NDCG score: 0.729\n",
            "R2 score: 0.093\n"
          ],
          "name": "stdout"
        }
      ]
    },
    {
      "cell_type": "code",
      "metadata": {
        "id": "6NaGRnjq0_Pu",
        "colab": {
          "base_uri": "https://localhost:8080/",
          "height": 606
        },
        "outputId": "45543059-c27e-49f6-bf59-dc4f6c2b5b48"
      },
      "source": [
        "plot_importances(etr)"
      ],
      "execution_count": 41,
      "outputs": [
        {
          "output_type": "display_data",
          "data": {
            "image/png": "[encoded data removed]",
            "text/plain": [
              "<Figure size 1008x720 with 1 Axes>"
            ]
          },
          "metadata": {
            "tags": [],
            "needs_background": "light"
          }
        }
      ]
    },
    {
      "cell_type": "markdown",
      "metadata": {
        "id": "ra0zUUun-U7H"
      },
      "source": [
        "#### RandomForestRegressor\n",
        "\n",
        "https://scikit-learn.org/stable/modules/generated/sklearn.ensemble.RandomForestRegressor.html"
      ]
    },
    {
      "cell_type": "markdown",
      "metadata": {
        "id": "IJdhVUn8_ntH"
      },
      "source": [
        "* Balanced dataset"
      ]
    },
    {
      "cell_type": "code",
      "metadata": {
        "id": "70mFf_jC0_Pu",
        "colab": {
          "base_uri": "https://localhost:8080/"
        },
        "outputId": "87a57bf0-8bd3-45b5-df52-534ec6e5c032"
      },
      "source": [
        "%%time\n",
        "\n",
        "from sklearn.ensemble import RandomForestRegressor\n",
        "\n",
        "rfr = RandomForestRegressor(n_estimators=200, min_samples_split=5, random_state=1, n_jobs=-1)\n",
        "rfr.fit(X_balanced, y_balanced)"
      ],
      "execution_count": 43,
      "outputs": [
        {
          "output_type": "stream",
          "text": [
            "CPU times: user 1min 3s, sys: 98.9 ms, total: 1min 3s\n",
            "Wall time: 32.7 s\n"
          ],
          "name": "stdout"
        }
      ]
    },
    {
      "cell_type": "code",
      "metadata": {
        "id": "u9EYzW-d0_Pu",
        "colab": {
          "base_uri": "https://localhost:8080/"
        },
        "outputId": "552dbe4a-0c92-43e9-f00c-82611f11cee8"
      },
      "source": [
        "print_evaluation(rfr, X_test, y_test, queries_test)"
      ],
      "execution_count": 44,
      "outputs": [
        {
          "output_type": "stream",
          "text": [
            "Prediction time: 0.317s\n",
            "NDCG@5 score: 0.456\n",
            "NDCG@10 score: 0.465\n",
            "NDCG score: 0.737\n",
            "R2 score: -0.092\n"
          ],
          "name": "stdout"
        }
      ]
    },
    {
      "cell_type": "code",
      "metadata": {
        "id": "cVjjmNZLBj9N"
      },
      "source": [
        "# plot_ndcg_by_trees(rfr, X_test, y_test, queries_test)"
      ],
      "execution_count": 60,
      "outputs": []
    },
    {
      "cell_type": "code",
      "metadata": {
        "colab": {
          "base_uri": "https://localhost:8080/",
          "height": 606
        },
        "id": "mExK6nEV-rQQ",
        "outputId": "3e91d873-48a2-49ae-8985-fc886a76b8b8"
      },
      "source": [
        "plot_importances(rfr)"
      ],
      "execution_count": 51,
      "outputs": [
        {
          "output_type": "display_data",
          "data": {
            "image/png": "[encoded data removed]",
            "text/plain": [
              "<Figure size 1008x720 with 1 Axes>"
            ]
          },
          "metadata": {
            "tags": [],
            "needs_background": "light"
          }
        }
      ]
    },
    {
      "cell_type": "markdown",
      "metadata": {
        "id": "-sOdPIGn_qso"
      },
      "source": [
        "* Raw dataset"
      ]
    },
    {
      "cell_type": "code",
      "metadata": {
        "id": "uHsbrMKB0_Pv",
        "colab": {
          "base_uri": "https://localhost:8080/"
        },
        "outputId": "40fb9374-6b38-4cdc-c72f-95b23603290d"
      },
      "source": [
        "%%time\n",
        "\n",
        "from sklearn.ensemble import RandomForestRegressor\n",
        "\n",
        "rfr2 = RandomForestRegressor(n_estimators=200, min_samples_split=5, random_state=1, n_jobs=-1)\n",
        "rfr2.fit(X_train, y_train)"
      ],
      "execution_count": 47,
      "outputs": [
        {
          "output_type": "stream",
          "text": [
            "CPU times: user 3min 8s, sys: 242 ms, total: 3min 8s\n",
            "Wall time: 1min 36s\n"
          ],
          "name": "stdout"
        }
      ]
    },
    {
      "cell_type": "code",
      "metadata": {
        "id": "nnDkv5WP0_Pv",
        "colab": {
          "base_uri": "https://localhost:8080/"
        },
        "outputId": "ad4ed2a1-0de6-4194-8bd8-d48d407be2b7"
      },
      "source": [
        "#rfr.set_params(n_jobs=-1)\n",
        "print_evaluation(rfr2, X_test, y_test, queries_test)"
      ],
      "execution_count": 48,
      "outputs": [
        {
          "output_type": "stream",
          "text": [
            "Prediction time: 0.411s\n",
            "NDCG@5 score: 0.494\n",
            "NDCG@10 score: 0.488\n",
            "NDCG score: 0.748\n",
            "R2 score: 0.114\n"
          ],
          "name": "stdout"
        }
      ]
    },
    {
      "cell_type": "code",
      "metadata": {
        "id": "43ucw4wOBgmQ"
      },
      "source": [
        "# plot_ndcg_by_trees(rfr2, X_test, y_test, queries_test)"
      ],
      "execution_count": 61,
      "outputs": []
    },
    {
      "cell_type": "code",
      "metadata": {
        "id": "lTrIsmzZ0_Pv",
        "colab": {
          "base_uri": "https://localhost:8080/",
          "height": 606
        },
        "outputId": "0b20a413-b920-430d-faa8-4216bcf9232a"
      },
      "source": [
        "plot_importances(rfr2)"
      ],
      "execution_count": 52,
      "outputs": [
        {
          "output_type": "display_data",
          "data": {
            "image/png": "[encoded data removed]",
            "text/plain": [
              "<Figure size 1008x720 with 1 Axes>"
            ]
          },
          "metadata": {
            "tags": [],
            "needs_background": "light"
          }
        }
      ]
    },
    {
      "cell_type": "markdown",
      "metadata": {
        "id": "qeIl1swk_66p"
      },
      "source": [
        "#### GradientBoostingRegressor\n",
        "\n",
        "https://scikit-learn.org/stable/modules/generated/sklearn.ensemble.GradientBoostingRegressor.html"
      ]
    },
    {
      "cell_type": "markdown",
      "metadata": {
        "id": "QcMUeIXWGWdA"
      },
      "source": [
        "* Basic configuration"
      ]
    },
    {
      "cell_type": "code",
      "metadata": {
        "id": "v_OtqHxS0_Pv",
        "colab": {
          "base_uri": "https://localhost:8080/"
        },
        "outputId": "4192827e-b418-4a39-c71e-5e8f629f2232"
      },
      "source": [
        "%%time\n",
        "\n",
        "from sklearn.ensemble import GradientBoostingRegressor\n",
        "\n",
        "gbr = GradientBoostingRegressor(n_estimators=200, random_state=1, verbose=1)\n",
        "gbr.fit(X_train, y_train)"
      ],
      "execution_count": 50,
      "outputs": [
        {
          "output_type": "stream",
          "text": [
            "      Iter       Train Loss   Remaining Time \n",
            "         1           0.6297           39.82s\n",
            "         2           0.6169           39.90s\n",
            "         3           0.6055           39.94s\n",
            "         4           0.5957           39.99s\n",
            "         5           0.5870           39.67s\n",
            "         6           0.5799           39.46s\n",
            "         7           0.5732           39.07s\n",
            "         8           0.5670           38.73s\n",
            "         9           0.5620           39.05s\n",
            "        10           0.5572           38.68s\n",
            "        20           0.5242           36.02s\n",
            "        30           0.5070           34.03s\n",
            "        40           0.4950           31.91s\n",
            "        50           0.4864           29.84s\n",
            "        60           0.4781           27.88s\n",
            "        70           0.4724           25.88s\n",
            "        80           0.4651           23.85s\n",
            "        90           0.4589           21.84s\n",
            "       100           0.4523           19.83s\n",
            "       200           0.4089            0.00s\n",
            "CPU times: user 39.4 s, sys: 56.7 ms, total: 39.5 s\n",
            "Wall time: 39.5 s\n"
          ],
          "name": "stdout"
        }
      ]
    },
    {
      "cell_type": "code",
      "metadata": {
        "id": "89gS8VbF0_Pv",
        "colab": {
          "base_uri": "https://localhost:8080/"
        },
        "outputId": "d453b8c9-69a9-4f99-be3a-58bc7a11fc08"
      },
      "source": [
        "print_evaluation(gbr, X_test, y_test, queries_test)"
      ],
      "execution_count": 54,
      "outputs": [
        {
          "output_type": "stream",
          "text": [
            "Prediction time: 0.058s\n",
            "NDCG@5 score: 0.468\n",
            "NDCG@10 score: 0.480\n",
            "NDCG score: 0.738\n",
            "R2 score: 0.137\n"
          ],
          "name": "stdout"
        }
      ]
    },
    {
      "cell_type": "code",
      "metadata": {
        "id": "hPM8JlS10_Pw",
        "colab": {
          "base_uri": "https://localhost:8080/",
          "height": 294
        },
        "outputId": "c571fccf-8abf-4ce2-d8ac-e44e5dcbe168"
      },
      "source": [
        "plot_ndcg_by_trees(gbr, X_test, y_test, queries_test)"
      ],
      "execution_count": 57,
      "outputs": [
        {
          "output_type": "display_data",
          "data": {
            "image/png": "[encoded data removed]",
            "text/plain": [
              "<Figure size 432x288 with 1 Axes>"
            ]
          },
          "metadata": {
            "tags": [],
            "needs_background": "light"
          }
        }
      ]
    },
    {
      "cell_type": "markdown",
      "metadata": {
        "id": "Jt7fB2QVB_wx"
      },
      "source": [
        "* Extended configuration"
      ]
    },
    {
      "cell_type": "code",
      "metadata": {
        "id": "_EqnGmd90_Pw",
        "colab": {
          "base_uri": "https://localhost:8080/"
        },
        "outputId": "e42fd856-b680-4266-ab31-b39fc1ac5b11"
      },
      "source": [
        "%%time\n",
        "\n",
        "from sklearn.ensemble import GradientBoostingRegressor\n",
        "\n",
        "gbr2 = GradientBoostingRegressor(n_estimators=300, max_depth=3,\n",
        "                                 learning_rate=0.1, loss='ls',\n",
        "                                 random_state=1, verbose=1)\n",
        "# gbr2.fit(X_dev, y_dev)\n",
        "gbr2.fit(X_train, y_train)"
      ],
      "execution_count": 62,
      "outputs": [
        {
          "output_type": "stream",
          "text": [
            "      Iter       Train Loss   Remaining Time \n",
            "         1           0.6297            1.01m\n",
            "         2           0.6169           59.82s\n",
            "         3           0.6055           59.36s\n",
            "         4           0.5957           58.71s\n",
            "         5           0.5870           58.35s\n",
            "         6           0.5799           58.21s\n",
            "         7           0.5732           58.03s\n",
            "         8           0.5670           58.22s\n",
            "         9           0.5620           58.03s\n",
            "        10           0.5572           57.78s\n",
            "        20           0.5242           55.44s\n",
            "        30           0.5070           53.38s\n",
            "        40           0.4950           51.28s\n",
            "        50           0.4864           49.22s\n",
            "        60           0.4781           47.29s\n",
            "        70           0.4724           45.27s\n",
            "        80           0.4651           43.31s\n",
            "        90           0.4589           41.31s\n",
            "       100           0.4523           39.29s\n",
            "       200           0.4089           19.54s\n",
            "       300           0.3728            0.00s\n",
            "CPU times: user 58.6 s, sys: 59 ms, total: 58.6 s\n",
            "Wall time: 58.5 s\n"
          ],
          "name": "stdout"
        }
      ]
    },
    {
      "cell_type": "code",
      "metadata": {
        "id": "CDK76UL40_Pw",
        "colab": {
          "base_uri": "https://localhost:8080/"
        },
        "outputId": "8788e70f-0df6-4063-9d97-cc01aa0c5855"
      },
      "source": [
        "print_evaluation(gbr2, X_test, y_test, queries_test)"
      ],
      "execution_count": 63,
      "outputs": [
        {
          "output_type": "stream",
          "text": [
            "Prediction time: 0.077s\n",
            "NDCG@5 score: 0.465\n",
            "NDCG@10 score: 0.479\n",
            "NDCG score: 0.737\n",
            "R2 score: 0.125\n"
          ],
          "name": "stdout"
        }
      ]
    },
    {
      "cell_type": "code",
      "metadata": {
        "id": "DT-33zXq0_Pw",
        "colab": {
          "base_uri": "https://localhost:8080/",
          "height": 294
        },
        "outputId": "00af4dfc-7d99-4dba-9c7b-b3499cede3c0"
      },
      "source": [
        "plot_ndcg_by_trees(gbr2, X_test, y_test, queries_test)"
      ],
      "execution_count": 64,
      "outputs": [
        {
          "output_type": "display_data",
          "data": {
            "image/png": "[encoded data removed]",
            "text/plain": [
              "<Figure size 432x288 with 1 Axes>"
            ]
          },
          "metadata": {
            "tags": [],
            "needs_background": "light"
          }
        }
      ]
    },
    {
      "cell_type": "code",
      "metadata": {
        "id": "cFWOqMzU0_Px",
        "colab": {
          "base_uri": "https://localhost:8080/"
        },
        "outputId": "d22d7a8d-61b2-4745-ad6c-b17185621ffe"
      },
      "source": [
        "print_evaluation(gbr2, X_train, y_train, queries_test)"
      ],
      "execution_count": 65,
      "outputs": [
        {
          "output_type": "stream",
          "text": [
            "Prediction time: 0.063s\n",
            "NDCG@5 score: 0.847\n",
            "NDCG@10 score: 0.826\n",
            "NDCG score: 0.913\n",
            "R2 score: 0.422\n"
          ],
          "name": "stdout"
        }
      ]
    },
    {
      "cell_type": "code",
      "metadata": {
        "id": "j2N7j4cNHhRQ"
      },
      "source": [
        "# plot_importances(gbr2)"
      ],
      "execution_count": 68,
      "outputs": []
    },
    {
      "cell_type": "markdown",
      "metadata": {
        "id": "js09or3YHkdK"
      },
      "source": [
        "#### LambdaMART\n",
        "\n",
        "Currently, `sklearn` doesn't have `LambdaMART` implementation. I use the `pyltr` implementation: https://github.com/jma127/pyltr "
      ]
    },
    {
      "cell_type": "code",
      "metadata": {
        "id": "epE0Y4oL0_Px"
      },
      "source": [
        "# %%time\n",
        "\n",
        "# from sklearn.ensemble import LambdaMART\n",
        "\n",
        "# lmart= LambdaMART(n_estimators=300, max_depth=3,\n",
        "#                   learning_rate=0.1, random_state=1, verbose=1)\n",
        "# lmart.fit(X_train, y_train, group=queries_train)"
      ],
      "execution_count": 76,
      "outputs": []
    },
    {
      "cell_type": "code",
      "metadata": {
        "colab": {
          "base_uri": "https://localhost:8080/"
        },
        "id": "sAJH0eXsNNPV",
        "outputId": "6ac23c52-be54-49fc-909b-f571cca29bbf"
      },
      "source": [
        "! pip install pyltr"
      ],
      "execution_count": 70,
      "outputs": [
        {
          "output_type": "stream",
          "text": [
            "Collecting pyltr\n",
            "  Downloading https://files.pythonhosted.org/packages/29/01/e7120dffc8bb40307002a51b85810ef714ee3faed260c416e9ae38feb282/pyltr-0.2.6-py3-none-any.whl\n",
            "Requirement already satisfied: scikit-learn in /usr/local/lib/python3.7/dist-packages (from pyltr) (0.22.2.post1)\n",
            "Requirement already satisfied: six in /usr/local/lib/python3.7/dist-packages (from pyltr) (1.15.0)\n",
            "Requirement already satisfied: scipy in /usr/local/lib/python3.7/dist-packages (from pyltr) (1.4.1)\n",
            "Requirement already satisfied: pandas in /usr/local/lib/python3.7/dist-packages (from pyltr) (1.1.5)\n",
            "Requirement already satisfied: numpy in /usr/local/lib/python3.7/dist-packages (from pyltr) (1.19.5)\n",
            "Requirement already satisfied: joblib>=0.11 in /usr/local/lib/python3.7/dist-packages (from scikit-learn->pyltr) (1.0.1)\n",
            "Requirement already satisfied: python-dateutil>=2.7.3 in /usr/local/lib/python3.7/dist-packages (from pandas->pyltr) (2.8.1)\n",
            "Requirement already satisfied: pytz>=2017.2 in /usr/local/lib/python3.7/dist-packages (from pandas->pyltr) (2018.9)\n",
            "Installing collected packages: pyltr\n",
            "Successfully installed pyltr-0.2.6\n"
          ],
          "name": "stdout"
        }
      ]
    },
    {
      "cell_type": "code",
      "metadata": {
        "id": "Y6vGZsnJRxQT"
      },
      "source": [
        "import warnings\n",
        "warnings.filterwarnings('ignore')"
      ],
      "execution_count": 74,
      "outputs": []
    },
    {
      "cell_type": "code",
      "metadata": {
        "colab": {
          "base_uri": "https://localhost:8080/"
        },
        "id": "p-7sLzwENTTt",
        "outputId": "dfec0b86-1c9e-4f53-b0cc-b82bbd13c196"
      },
      "source": [
        "import pyltr\n",
        "\n",
        "metric = pyltr.metrics.NDCG(k=10)\n",
        "\n",
        "# Only needed if you want to perform validation (early stopping & trimming)\n",
        "monitor = pyltr.models.monitors.ValidationMonitor(\n",
        "    X_test, y_test, queries_test, metric=metric, stop_after=250)\n",
        "\n",
        "lmart = pyltr.models.LambdaMART(\n",
        "    metric=metric,\n",
        "    n_estimators=1000,\n",
        "    learning_rate=0.02,\n",
        "    max_features=0.5,\n",
        "    query_subsample=0.5,\n",
        "    max_leaf_nodes=10,\n",
        "    min_samples_leaf=64,\n",
        "    verbose=1,\n",
        ")\n",
        "\n",
        "lmart.fit(X_train, y_train, queries_train, monitor=monitor)"
      ],
      "execution_count": 75,
      "outputs": [
        {
          "output_type": "stream",
          "text": [
            " Iter  Train score  OOB Improve    Remaining                           Monitor Output \n",
            "    1       0.0932       0.0830        5.22m      C:      0.1059 B:      0.1059 S:  0\n",
            "    2       0.2865       0.1236        5.83m      C:      0.1781 B:      0.1781 S:  0\n",
            "    3       0.3241       0.0862        5.79m      C:      0.2512 B:      0.2512 S:  0\n",
            "    4       0.3737       0.0239        5.88m      C:      0.2889 B:      0.2889 S:  0\n",
            "    5       0.3605       0.0104        5.98m      C:      0.2887 B:      0.2889 S:  1\n",
            "    6       0.3924       0.0119        5.96m      C:      0.3018 B:      0.3018 S:  0\n",
            "    7       0.3647       0.0033        6.00m      C:      0.3054 B:      0.3054 S:  0\n",
            "    8       0.4004       0.0207        6.00m      C:      0.3299 B:      0.3299 S:  0\n",
            "    9       0.4148      -0.0028        6.07m      C:      0.3346 B:      0.3346 S:  0\n",
            "   10       0.3846      -0.0114        6.05m      C:      0.3358 B:      0.3358 S:  0\n",
            "   15       0.4339       0.0064        6.11m      C:      0.3619 B:      0.3619 S:  0\n",
            "   20       0.4158      -0.0030        6.06m      C:      0.3675 B:      0.3675 S:  0\n",
            "   25       0.4441      -0.0035        6.03m      C:      0.3761 B:      0.3761 S:  0\n",
            "   30       0.4330      -0.0000        6.01m      C:      0.3751 B:      0.3761 S:  5\n",
            "   35       0.4511       0.0002        6.09m      C:      0.3862 B:      0.3862 S:  0\n",
            "   40       0.4523      -0.0008        6.09m      C:      0.3891 B:      0.3891 S:  0\n",
            "   45       0.4567      -0.0012        6.06m      C:      0.3845 B:      0.3896 S:  4\n",
            "   50       0.4310      -0.0012        6.03m      C:      0.3880 B:      0.3896 S:  9\n",
            "   60       0.4790      -0.0006        5.98m      C:      0.3958 B:      0.3979 S:  1\n",
            "   70       0.4563      -0.0027        5.96m      C:      0.3954 B:      0.3979 S: 11\n",
            "   80       0.4751      -0.0006        5.91m      C:      0.3969 B:      0.3979 S: 21\n",
            "   90       0.4684      -0.0007        5.83m      C:      0.3932 B:      0.3979 S: 31\n",
            "  100       0.5041      -0.0009        5.78m      C:      0.3972 B:      0.3989 S:  2\n",
            "  120       0.4761       0.0000        5.64m      C:      0.4014 B:      0.4049 S:  4\n",
            "  140       0.4880      -0.0002        5.53m      C:      0.4082 B:      0.4082 S:  0\n",
            "  160       0.4562       0.0003        5.41m      C:      0.4113 B:      0.4125 S:  5\n",
            "  180       0.5249       0.0007        5.28m      C:      0.4051 B:      0.4125 S: 25\n",
            "  200       0.5183      -0.0001        5.16m      C:      0.4104 B:      0.4125 S: 45\n",
            "  220       0.5108       0.0014        5.04m      C:      0.4144 B:      0.4148 S:  7\n",
            "  240       0.4983       0.0004        4.92m      C:      0.4150 B:      0.4161 S:  3\n",
            "  260       0.4988      -0.0001        4.81m      C:      0.4173 B:      0.4180 S:  5\n",
            "  280       0.5805       0.0003        4.69m      C:      0.4178 B:      0.4199 S:  5\n",
            "  300       0.5545      -0.0003        4.56m      C:      0.4128 B:      0.4199 S: 25\n",
            "  320       0.5117      -0.0004        4.44m      C:      0.4175 B:      0.4199 S: 45\n",
            "  340       0.5126      -0.0005        4.31m      C:      0.4198 B:      0.4206 S:  2\n",
            "  360       0.5602       0.0007        4.18m      C:      0.4242 B:      0.4242 S:  0\n",
            "  380       0.5724       0.0002        4.05m      C:      0.4230 B:      0.4242 S: 20\n",
            "  400       0.5609      -0.0007        3.92m      C:      0.4213 B:      0.4242 S: 40\n",
            "  420       0.5122      -0.0020        3.79m      C:      0.4160 B:      0.4242 S: 60\n",
            "  440       0.5267       0.0008        3.66m      C:      0.4200 B:      0.4242 S: 80\n",
            "  460       0.5376      -0.0021        3.53m      C:      0.4192 B:      0.4242 S:100\n",
            "  480       0.5577      -0.0004        3.41m      C:      0.4152 B:      0.4242 S:120\n",
            "  500       0.5919      -0.0001        3.28m      C:      0.4127 B:      0.4242 S:140\n",
            "  550       0.5777       0.0001        2.95m      C:      0.4157 B:      0.4242 S:190\n",
            "  600       0.5280       0.0002        2.62m      C:      0.4122 B:      0.4242 S:240\n",
            "Early termination at iteration  609\n"
          ],
          "name": "stdout"
        },
        {
          "output_type": "execute_result",
          "data": {
            "text/plain": [
              "<pyltr.models.lambdamart.LambdaMART at 0x7f654698e3d0>"
            ]
          },
          "metadata": {
            "tags": []
          },
          "execution_count": 75
        }
      ]
    },
    {
      "cell_type": "code",
      "metadata": {
        "colab": {
          "base_uri": "https://localhost:8080/"
        },
        "id": "ioyg2gDUUb52",
        "outputId": "483ccfc7-7c0c-4719-8a0c-8f8487abf476"
      },
      "source": [
        "Epred = lmart.predict(X_test)\n",
        "print('Random ranking:', metric.calc_mean_random(queries_test, y_test))\n",
        "print('Our model:', metric.calc_mean(queries_test, y_test, Epred))"
      ],
      "execution_count": 84,
      "outputs": [
        {
          "output_type": "stream",
          "text": [
            "Random ranking: 0.19042482876980893\n",
            "Our model: 0.42415437423558716\n"
          ],
          "name": "stdout"
        }
      ]
    },
    {
      "cell_type": "code",
      "metadata": {
        "id": "z7ztU1zI0_Px",
        "colab": {
          "base_uri": "https://localhost:8080/"
        },
        "outputId": "67636382-aeb7-4e5e-a27b-f24d03dd606b"
      },
      "source": [
        "print_evaluation(lmart, X_test, y_test, queries_test)"
      ],
      "execution_count": 78,
      "outputs": [
        {
          "output_type": "stream",
          "text": [
            "Prediction time: 0.070s\n",
            "NDCG@5 score: 0.490\n",
            "NDCG@10 score: 0.494\n",
            "NDCG score: 0.741\n",
            "R2 score: -5.262\n"
          ],
          "name": "stdout"
        }
      ]
    },
    {
      "cell_type": "code",
      "metadata": {
        "id": "S4Cawe820_Px"
      },
      "source": [
        "# plot_ndcg_by_trees(lmart, X_test, y_test, queries_test)"
      ],
      "execution_count": 80,
      "outputs": []
    },
    {
      "cell_type": "markdown",
      "metadata": {
        "id": "ICRr4UAa0_P4"
      },
      "source": [
        "### Classification models to NDCG ranking reduction models"
      ]
    },
    {
      "cell_type": "markdown",
      "metadata": {
        "id": "0bGhZUHCdgd8"
      },
      "source": [
        "Custom class to generate a classification ranker from different models"
      ]
    },
    {
      "cell_type": "code",
      "metadata": {
        "id": "GFuZ1v5j0_P4"
      },
      "source": [
        "from sklearn.base import RegressorMixin\n",
        "from sklearn.preprocessing import StandardScaler\n",
        "from sklearn.base import clone\n",
        "\n",
        "def proba_to_relevance(probas):\n",
        "    \"\"\"MCRank-like reduction of classification proba to DCG predictions\"\"\"\n",
        "    rel = np.zeros(probas.shape[0], dtype=np.float32)\n",
        "    for i in range(probas.shape[1]):\n",
        "        rel += i * probas[:, i]\n",
        "    return rel\n",
        "        \n",
        "        \n",
        "class ClassificationRanker(RegressorMixin):\n",
        "    \n",
        "    def __init__(self, base_estimator=None):\n",
        "        self.base_estimator = base_estimator\n",
        "        \n",
        "    def fit(self, X, y):\n",
        "        self.estimator_ = clone(self.base_estimator)\n",
        "        self.scaler_ = StandardScaler()\n",
        "        X = self.scaler_.fit_transform(X)\n",
        "        self.estimator_.fit(X, y)\n",
        "        \n",
        "    def predict(self, X):\n",
        "        X_scaled = self.scaler_.transform(X)\n",
        "        probas = self.estimator_.predict_proba(X_scaled)\n",
        "        return proba_to_relevance(probas)"
      ],
      "execution_count": 115,
      "outputs": []
    },
    {
      "cell_type": "markdown",
      "metadata": {
        "id": "oLCMeKc0dr4T"
      },
      "source": [
        "#### LogisticRegression"
      ]
    },
    {
      "cell_type": "code",
      "metadata": {
        "id": "LNXBo6D90_P4",
        "colab": {
          "base_uri": "https://localhost:8080/"
        },
        "outputId": "28da9ff1-2405-42e4-a6d9-ab9e8e919242"
      },
      "source": [
        "%%time\n",
        "\n",
        "from sklearn.linear_model import LogisticRegression\n",
        "\n",
        "logr = ClassificationRanker(LogisticRegression(C=1000))\n",
        "logr.fit(X_train, y_train)"
      ],
      "execution_count": 116,
      "outputs": [
        {
          "output_type": "stream",
          "text": [
            "CPU times: user 2.31 s, sys: 841 ms, total: 3.15 s\n",
            "Wall time: 1.67 s\n"
          ],
          "name": "stdout"
        }
      ]
    },
    {
      "cell_type": "code",
      "metadata": {
        "id": "VP8RHedH0_P4",
        "colab": {
          "base_uri": "https://localhost:8080/"
        },
        "outputId": "21eb0a3c-c0d0-420b-98fe-4acd9916b5c7"
      },
      "source": [
        "print_evaluation(logr, X_test, y_test, queries_test)"
      ],
      "execution_count": 118,
      "outputs": [
        {
          "output_type": "stream",
          "text": [
            "Prediction time: 0.025s\n",
            "NDCG@5 score: 0.415\n",
            "NDCG@10 score: 0.438\n",
            "NDCG score: 0.727\n",
            "R2 score: 0.097\n"
          ],
          "name": "stdout"
        }
      ]
    },
    {
      "cell_type": "markdown",
      "metadata": {
        "id": "QNsZBaFNdu_H"
      },
      "source": [
        "#### SGDClassifier"
      ]
    },
    {
      "cell_type": "code",
      "metadata": {
        "id": "G9FD6xAc0_P5",
        "colab": {
          "base_uri": "https://localhost:8080/"
        },
        "outputId": "a1ad7b81-0a6b-49ba-c735-1aed5bbe9ccd"
      },
      "source": [
        "%%time\n",
        "\n",
        "from sklearn.linear_model import SGDClassifier\n",
        "\n",
        "sgdlogr = SGDClassifier(loss='modified_huber', alpha=1e-8, max_iter=200, learning_rate='constant', eta0=1e-6, n_jobs=-1)\n",
        "sgdlogrr = ClassificationRanker(sgdlogr)\n",
        "sgdlogrr.fit(X_train_scaled, y_train)"
      ],
      "execution_count": 119,
      "outputs": [
        {
          "output_type": "stream",
          "text": [
            "CPU times: user 3.16 s, sys: 12.9 ms, total: 3.17 s\n",
            "Wall time: 1.85 s\n"
          ],
          "name": "stdout"
        }
      ]
    },
    {
      "cell_type": "code",
      "metadata": {
        "id": "KUOkr2K_0_P5",
        "colab": {
          "base_uri": "https://localhost:8080/"
        },
        "outputId": "816cb6a4-f5c9-457d-ee84-b04c8a36a02a"
      },
      "source": [
        "print_evaluation(sgdlogrr, X_test_scaled, y_test, queries_test)"
      ],
      "execution_count": 120,
      "outputs": [
        {
          "output_type": "stream",
          "text": [
            "Prediction time: 0.030s\n",
            "NDCG@5 score: 0.410\n",
            "NDCG@10 score: 0.432\n",
            "NDCG score: 0.723\n",
            "R2 score: -0.246\n"
          ],
          "name": "stdout"
        }
      ]
    },
    {
      "cell_type": "markdown",
      "metadata": {
        "id": "JWctX06MdykV"
      },
      "source": [
        "#### RandomForestClassifier"
      ]
    },
    {
      "cell_type": "code",
      "metadata": {
        "id": "0tL3Dwdk0_P5",
        "colab": {
          "base_uri": "https://localhost:8080/"
        },
        "outputId": "20be80c9-a3a5-422a-91bf-01f8e83f275a"
      },
      "source": [
        "%%time\n",
        "\n",
        "from sklearn.ensemble import RandomForestClassifier\n",
        "\n",
        "rfc = RandomForestClassifier(n_estimators=200, max_features=20, min_samples_split=5,\n",
        "                            random_state=1, n_jobs=-1)\n",
        "rfr = ClassificationRanker(rfc)\n",
        "rfr.fit(X_train, y_train)"
      ],
      "execution_count": 121,
      "outputs": [
        {
          "output_type": "stream",
          "text": [
            "CPU times: user 28.9 s, sys: 288 ms, total: 29.2 s\n",
            "Wall time: 15 s\n"
          ],
          "name": "stdout"
        }
      ]
    },
    {
      "cell_type": "code",
      "metadata": {
        "id": "Bu1pvMft0_P5",
        "colab": {
          "base_uri": "https://localhost:8080/"
        },
        "outputId": "d360a243-2bd2-429c-bf3e-1df919cac05d"
      },
      "source": [
        "print_evaluation(rfr, X_test, y_test, queries_test)"
      ],
      "execution_count": 122,
      "outputs": [
        {
          "output_type": "stream",
          "text": [
            "Prediction time: 0.423s\n",
            "NDCG@5 score: 0.415\n",
            "NDCG@10 score: 0.444\n",
            "NDCG score: 0.724\n",
            "R2 score: 0.116\n"
          ],
          "name": "stdout"
        }
      ]
    },
    {
      "cell_type": "markdown",
      "metadata": {
        "id": "w7QRVMwhd2a_"
      },
      "source": [
        "#### GradientBoostingClassifier"
      ]
    },
    {
      "cell_type": "code",
      "metadata": {
        "id": "K7pfGdQg0_P5",
        "colab": {
          "base_uri": "https://localhost:8080/"
        },
        "outputId": "1c84b2e6-9e6f-470f-dad3-ad26a4819097"
      },
      "source": [
        "%%time\n",
        "\n",
        "from sklearn.ensemble import GradientBoostingClassifier\n",
        "\n",
        "gbc = GradientBoostingClassifier(n_estimators=100, random_state=1)\n",
        "gbr = ClassificationRanker(gbc)\n",
        "gbr.fit(X_train, y_train)"
      ],
      "execution_count": 123,
      "outputs": [
        {
          "output_type": "stream",
          "text": [
            "CPU times: user 1min 39s, sys: 109 ms, total: 1min 39s\n",
            "Wall time: 1min 39s\n"
          ],
          "name": "stdout"
        }
      ]
    },
    {
      "cell_type": "code",
      "metadata": {
        "id": "VWtsGubw0_P6",
        "colab": {
          "base_uri": "https://localhost:8080/"
        },
        "outputId": "3e994515-b99d-4279-c90c-cdcfb1c9044b"
      },
      "source": [
        "print_evaluation(gbr, X_test, y_test, queries_test)"
      ],
      "execution_count": 124,
      "outputs": [
        {
          "output_type": "stream",
          "text": [
            "Prediction time: 0.114s\n",
            "NDCG@5 score: 0.451\n",
            "NDCG@10 score: 0.465\n",
            "NDCG score: 0.736\n",
            "R2 score: 0.105\n"
          ],
          "name": "stdout"
        }
      ]
    },
    {
      "cell_type": "markdown",
      "metadata": {
        "id": "tPlQOG1ed84q"
      },
      "source": [
        "#### ExtraTreesClassifier"
      ]
    },
    {
      "cell_type": "code",
      "metadata": {
        "id": "rCD2UVMZ0_P6",
        "colab": {
          "base_uri": "https://localhost:8080/"
        },
        "outputId": "81db3264-32e8-4c18-b344-13c04205707e"
      },
      "source": [
        "%%time\n",
        "\n",
        "from sklearn.ensemble import ExtraTreesClassifier\n",
        "\n",
        "etc = ClassificationRanker(ExtraTreesClassifier(n_estimators=200, random_state=1, n_jobs=-1))\n",
        "etc.fit(X_train, y_train)"
      ],
      "execution_count": 125,
      "outputs": [
        {
          "output_type": "stream",
          "text": [
            "CPU times: user 7.82 s, sys: 332 ms, total: 8.15 s\n",
            "Wall time: 4.32 s\n"
          ],
          "name": "stdout"
        }
      ]
    },
    {
      "cell_type": "code",
      "metadata": {
        "id": "rvt0eYQG0_P6",
        "colab": {
          "base_uri": "https://localhost:8080/"
        },
        "outputId": "f5d80b6c-fd09-4f97-8772-c779f258c7d2"
      },
      "source": [
        "print_evaluation(etc, X_test, y_test, queries_test)"
      ],
      "execution_count": 126,
      "outputs": [
        {
          "output_type": "stream",
          "text": [
            "Prediction time: 0.518s\n",
            "NDCG@5 score: 0.402\n",
            "NDCG@10 score: 0.415\n",
            "NDCG score: 0.715\n",
            "R2 score: 0.084\n"
          ],
          "name": "stdout"
        }
      ]
    },
    {
      "cell_type": "markdown",
      "metadata": {
        "id": "lsTbxm-B0_P6"
      },
      "source": [
        "##Introspecting the distribution of relevance scores predictions"
      ]
    },
    {
      "cell_type": "markdown",
      "metadata": {
        "id": "wXs5d0BUn2Ok"
      },
      "source": [
        "Ranking labels:"
      ]
    },
    {
      "cell_type": "code",
      "metadata": {
        "colab": {
          "base_uri": "https://localhost:8080/"
        },
        "id": "xVTxka1j2fAW",
        "outputId": "a17b92e5-2e70-4639-9782-0d11672d2b9c"
      },
      "source": [
        "labels = set(y_test.astype(np.int))\n",
        "\n",
        "print(f\"Number of labels : {len(labels)}\")\n",
        "labels"
      ],
      "execution_count": 150,
      "outputs": [
        {
          "output_type": "stream",
          "text": [
            "Number of labels : 5\n"
          ],
          "name": "stdout"
        },
        {
          "output_type": "execute_result",
          "data": {
            "text/plain": [
              "{0, 1, 2, 3, 4}"
            ]
          },
          "metadata": {
            "tags": []
          },
          "execution_count": 150
        }
      ]
    },
    {
      "cell_type": "markdown",
      "metadata": {
        "id": "uM6dYZ590_P7"
      },
      "source": [
        "For the first 5 querys, count the number of results with rank 0, 1, 2, 3 or 4."
      ]
    },
    {
      "cell_type": "code",
      "metadata": {
        "id": "pbT-xDdU0_P7",
        "colab": {
          "base_uri": "https://localhost:8080/"
        },
        "outputId": "2b7708a1-7e93-4002-caa2-1ec84addea2e"
      },
      "source": [
        "unique_qids_test = np.unique(queries_test)\n",
        "for idx, qid in enumerate(unique_qids_test[:5]):\n",
        "    qids = y_test[queries_test == qid].astype(np.int)\n",
        "    print(f\"Query : {idx} - Distribution : {np.bincount(qids, minlength=5)}\")"
      ],
      "execution_count": 151,
      "outputs": [
        {
          "output_type": "stream",
          "text": [
            "Query : 0 - Distribution : [45 54 31  8  0]\n",
            "Query : 1 - Distribution : [59 25  8  2  0]\n",
            "Query : 2 - Distribution : [52 20  9  2  3]\n",
            "Query : 3 - Distribution : [97 45  2  2  2]\n",
            "Query : 4 - Distribution : [32 56 24  7  4]\n"
          ],
          "name": "stdout"
        }
      ]
    },
    {
      "cell_type": "markdown",
      "metadata": {
        "id": "PI59jU0fnpj6"
      },
      "source": [
        "### Plot relevances distribution"
      ]
    },
    {
      "cell_type": "code",
      "metadata": {
        "id": "jQLtmKLC0_P6"
      },
      "source": [
        "subset = np.random.permutation(y_test.shape[0])[:10000]"
      ],
      "execution_count": 127,
      "outputs": []
    },
    {
      "cell_type": "markdown",
      "metadata": {
        "id": "3oEFJPMpklPT"
      },
      "source": [
        "#### ExtraTreesRegressor"
      ]
    },
    {
      "cell_type": "code",
      "metadata": {
        "id": "7GqEFhVXj1aU"
      },
      "source": [
        "from sklearn.ensemble import ExtraTreesRegressor\n",
        "\n",
        "etr = ExtraTreesRegressor(n_estimators=200, min_samples_split=5, random_state=1, n_jobs=-1)\n",
        "etr.fit(X_train, y_train)\n",
        "y_test_etr = etr.predict(X_test)"
      ],
      "execution_count": 130,
      "outputs": []
    },
    {
      "cell_type": "code",
      "metadata": {
        "id": "658IblnN0_P7",
        "colab": {
          "base_uri": "https://localhost:8080/",
          "height": 311
        },
        "outputId": "b30c2ceb-8d14-43f4-c194-5ac2a9531db6"
      },
      "source": [
        "plt.title('Extra Trees predictions')\n",
        "plt.scatter(y_test[subset], y_test_etr[subset], alpha=0.1, s=100)\n",
        "plt.xlabel('True relevance')\n",
        "plt.ylabel('Predicted relevance')\n",
        "plt.ylim(-2, 5)\n",
        "plt.xlim(-2, 5)"
      ],
      "execution_count": 131,
      "outputs": [
        {
          "output_type": "execute_result",
          "data": {
            "text/plain": [
              "(-2.0, 5.0)"
            ]
          },
          "metadata": {
            "tags": []
          },
          "execution_count": 131
        },
        {
          "output_type": "display_data",
          "data": {
            "image/png": "[encoded data removed]",
            "text/plain": [
              "<Figure size 432x288 with 1 Axes>"
            ]
          },
          "metadata": {
            "tags": [],
            "needs_background": "light"
          }
        }
      ]
    },
    {
      "cell_type": "code",
      "metadata": {
        "id": "rbGYsPNC0_P7",
        "colab": {
          "base_uri": "https://localhost:8080/",
          "height": 284
        },
        "outputId": "042280cd-00c8-4195-f0c3-140e17434730"
      },
      "source": [
        "plt.hist(y_test, bins=5, alpha=.3, color='b', label='True relevance')\n",
        "plt.hist(y_test_etr, bins=5, alpha=.3, color='g', label='ET predicted relevance')\n",
        "plt.legend(loc='best')"
      ],
      "execution_count": 134,
      "outputs": [
        {
          "output_type": "execute_result",
          "data": {
            "text/plain": [
              "<matplotlib.legend.Legend at 0x7f6546e5a610>"
            ]
          },
          "metadata": {
            "tags": []
          },
          "execution_count": 134
        },
        {
          "output_type": "display_data",
          "data": {
            "image/png": "[encoded data removed]",
            "text/plain": [
              "<Figure size 432x288 with 1 Axes>"
            ]
          },
          "metadata": {
            "tags": [],
            "needs_background": "light"
          }
        }
      ]
    },
    {
      "cell_type": "markdown",
      "metadata": {
        "id": "AVO4c-XOkqFj"
      },
      "source": [
        "#### LinearRegression"
      ]
    },
    {
      "cell_type": "code",
      "metadata": {
        "id": "X2A2QfUdkhxf"
      },
      "source": [
        "from sklearn.linear_model import LinearRegression\n",
        "lr = LinearRegression().fit(X_train, y_train)\n",
        "y_test_lr = lr.predict(X_test)"
      ],
      "execution_count": 132,
      "outputs": []
    },
    {
      "cell_type": "code",
      "metadata": {
        "id": "Jj7bJV9_0_P7",
        "colab": {
          "base_uri": "https://localhost:8080/",
          "height": 311
        },
        "outputId": "8dbcf3d7-f66c-41de-978c-625bdedc73fc"
      },
      "source": [
        "plt.title('Linear Regression predictions')\n",
        "plt.scatter(y_test[subset], y_test_lr[subset], alpha=0.1, s=100)\n",
        "plt.xlabel('True relevance')\n",
        "plt.ylabel('Predicted relevance')\n",
        "plt.ylim(-2, 5)\n",
        "plt.xlim(-2, 5)"
      ],
      "execution_count": 133,
      "outputs": [
        {
          "output_type": "execute_result",
          "data": {
            "text/plain": [
              "(-2.0, 5.0)"
            ]
          },
          "metadata": {
            "tags": []
          },
          "execution_count": 133
        },
        {
          "output_type": "display_data",
          "data": {
            "image/png": "[encoded data removed]",
            "text/plain": [
              "<Figure size 432x288 with 1 Axes>"
            ]
          },
          "metadata": {
            "tags": [],
            "needs_background": "light"
          }
        }
      ]
    },
    {
      "cell_type": "code",
      "metadata": {
        "colab": {
          "base_uri": "https://localhost:8080/",
          "height": 281
        },
        "id": "8Bevv3y8lHoO",
        "outputId": "38b2071a-907a-408d-bee6-a9395e572493"
      },
      "source": [
        "plt.hist(y_test, bins=5, alpha=.3, color='b', label='True relevance')\n",
        "plt.hist(y_test_lr, bins=5, alpha=.3, color='g', label='LR predicted relevance')\n",
        "plt.legend(loc='best')"
      ],
      "execution_count": 136,
      "outputs": [
        {
          "output_type": "execute_result",
          "data": {
            "text/plain": [
              "<matplotlib.legend.Legend at 0x7f654380d610>"
            ]
          },
          "metadata": {
            "tags": []
          },
          "execution_count": 136
        },
        {
          "output_type": "display_data",
          "data": {
            "image/png": "[encoded data removed]",
            "text/plain": [
              "<Figure size 432x288 with 1 Axes>"
            ]
          },
          "metadata": {
            "tags": [],
            "needs_background": "light"
          }
        }
      ]
    },
    {
      "cell_type": "code",
      "metadata": {
        "id": "WKOEavNmml2R"
      },
      "source": [
        ""
      ],
      "execution_count": null,
      "outputs": []
    }
  ]
}