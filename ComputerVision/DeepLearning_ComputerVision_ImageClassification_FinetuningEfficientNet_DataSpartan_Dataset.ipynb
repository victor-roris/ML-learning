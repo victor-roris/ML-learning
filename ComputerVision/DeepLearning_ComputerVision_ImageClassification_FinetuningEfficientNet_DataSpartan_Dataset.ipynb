{
  "nbformat": 4,
  "nbformat_minor": 0,
  "metadata": {
    "colab": {
      "name": "DeepLearning_ComputerVision_ImageClassification_FinetuningEfficientNet_DataSpartan_Dataset.ipynb",
      "provenance": [],
      "collapsed_sections": [],
      "toc_visible": true,
      "include_colab_link": true
    },
    "kernelspec": {
      "display_name": "Python 3",
      "language": "python",
      "name": "python3"
    },
    "language_info": {
      "codemirror_mode": {
        "name": "ipython",
        "version": 3
      },
      "file_extension": ".py",
      "mimetype": "text/x-python",
      "name": "python",
      "nbconvert_exporter": "python",
      "pygments_lexer": "ipython3",
      "version": "3.7.0"
    },
    "accelerator": "GPU"
  },
  "cells": [
    {
      "cell_type": "markdown",
      "metadata": {
        "id": "view-in-github",
        "colab_type": "text"
      },
      "source": [
        "<a href=\"https://colab.research.google.com/github/victor-roris/ML-learning/blob/master/ComputerVision/DeepLearning_ComputerVision_ImageClassification_FinetuningEfficientNet_DataSpartan_Dataset.ipynb\" target=\"_parent\"><img src=\"https://colab.research.google.com/assets/colab-badge.svg\" alt=\"Open In Colab\"/></a>"
      ]
    },
    {
      "cell_type": "markdown",
      "metadata": {
        "colab_type": "text",
        "id": "3BpdB-Zp34oa"
      },
      "source": [
        "# MultiLabel Image Classification via fine-tuning with EfficientNet\n",
        "\n",
        "In this notebook we generate a model via finetuning EfficientNet to classify images of figure (from a non public dataset).\n",
        "\n",
        "Adapted from [link](https://keras.io/examples/vision/image_classification_efficientnet_fine_tuning/)"
      ]
    },
    {
      "cell_type": "markdown",
      "metadata": {
        "id": "j8RjwqGZOSJ0",
        "colab_type": "text"
      },
      "source": [
        "## Introduction"
      ]
    },
    {
      "cell_type": "markdown",
      "metadata": {
        "id": "teWm7AdAOepP",
        "colab_type": "text"
      },
      "source": [
        "### What is EfficientNet?"
      ]
    },
    {
      "cell_type": "markdown",
      "metadata": {
        "colab_type": "text",
        "id": "Xe4sqoIL34oc"
      },
      "source": [
        "EfficientNet, first introduced in [Tan and Le, 2019](https://arxiv.org/abs/1905.11946)\n",
        "is among the most efficient models (i.e. requiring least FLOPS for inference)\n",
        "that reaches State-of-the-Art accuracy on both\n",
        "imagenet and common image classification transfer learning tasks.\n",
        "\n",
        "The smallest base model is similar to [MnasNet](https://arxiv.org/abs/1807.11626), which\n",
        "reached near-SOTA with a significantly smaller model. By introducing a heuristic way to\n",
        "scale the model, EfficientNet provides a family of models (B0 to B7) that represents a\n",
        "good combination of efficiency and accuracy on a variety of scales. Such a scaling\n",
        "heuristics (compound-scaling, details see\n",
        "[Tan and Le, 2019](https://arxiv.org/abs/1905.11946)) allows the\n",
        "efficiency-oriented base model (B0) to surpass models at every scale, while avoiding\n",
        "extensive grid-search of hyperparameters.\n",
        "\n",
        "A summary of the latest updates on the model is available at\n",
        "[here](https://github.com/tensorflow/tpu/tree/master/models/official/efficientnet), where various\n",
        "augmentation schemes and semi-supervised learning approaches are applied to further\n",
        "improve the imagenet performance of the models. These extensions of the model can be used\n",
        "by updating weights without changing model architecture."
      ]
    },
    {
      "cell_type": "markdown",
      "metadata": {
        "id": "7xy8ca3GOgkb",
        "colab_type": "text"
      },
      "source": [
        "### B0 to B7 variants of EfficientNet"
      ]
    },
    {
      "cell_type": "markdown",
      "metadata": {
        "id": "fC9jxdvlOXnh",
        "colab_type": "text"
      },
      "source": [
        "*(This section provides some details on \"compound scaling\", and can be skipped\n",
        "if you're only interested in using the models)*\n",
        "\n",
        "Based on the [original paper](https://arxiv.org/abs/1905.11946) people may have the\n",
        "impression that EfficientNet is a continuous family of models created by arbitrarily\n",
        "choosing scaling factor in as Eq.(3) of the paper.  However, choice of resolution,\n",
        "depth and width are also restricted by many factors:\n",
        "\n",
        "- Resolution: Resolutions not divisible by 8, 16, etc. cause zero-padding near boundaries\n",
        "of some layers which wastes computational resources. This especially applies to smaller\n",
        "variants of the model, hence the input resolution for B0 and B1 are chosen as 224 and\n",
        "240.\n",
        "\n",
        "- Depth and width: The building blocks of EfficientNet demands channel size to be\n",
        "multiples of 8.\n",
        "\n",
        "- Resource limit: Memory limitation may bottleneck resolution when depth\n",
        "and width can still increase. In such a situation, increasing depth and/or\n",
        "width but keep resolution can still improve performance.\n",
        "\n",
        "As a result, the depth, width and resolution of each variant of the EfficientNet models\n",
        "are hand-picked and proven to produce good results, though they may be significantly\n",
        "off from the compound scaling formula.\n",
        "Therefore, the keras implementation (detailed below) only provide these 8 models, B0 to B7,\n",
        "instead of allowing arbitray choice of width / depth / resolution parameters."
      ]
    },
    {
      "cell_type": "markdown",
      "metadata": {
        "id": "YekkxYUbOxiI",
        "colab_type": "text"
      },
      "source": [
        "### Keras implementation of EfficientNet"
      ]
    },
    {
      "cell_type": "markdown",
      "metadata": {
        "id": "IT5ekQk2Ottx",
        "colab_type": "text"
      },
      "source": [
        "\n",
        "\n",
        "An implementation of EfficientNet B0 to B7 has been shipped with tf.keras since TF2.3. To\n",
        "use EfficientNetB0 for classifying 1000 classes of images from imagenet, run:\n",
        "\n",
        "```python\n",
        "from tensorflow.keras.applications import EfficientNetB0\n",
        "model = EfficientNetB0(weights='imagenet')\n",
        "```\n",
        "\n",
        "This model takes input images of shape (224, 224, 3), and the input data should range\n",
        "[0, 255]. Normalization is included as part of the model.\n",
        "\n",
        "Because training EfficientNet on ImageNet takes a tremendous amount of resources and\n",
        "several techniques that are not a part of the model architecture itself. Hence the Keras\n",
        "implementation by default loads pre-trained weights obtained via training with\n",
        "[AutoAugment](https://arxiv.org/abs/1805.09501).\n",
        "\n",
        "For B0 to B7 base models, the input shapes are different. Here is a list of input shape\n",
        "expected for each model:\n",
        "\n",
        "| Base model | resolution|\n",
        "|----------------|-----|\n",
        "| EfficientNetB0 | 224 |\n",
        "| EfficientNetB1 | 240 |\n",
        "| EfficientNetB2 | 260 |\n",
        "| EfficientNetB3 | 300 |\n",
        "| EfficientNetB4 | 380 |\n",
        "| EfficientNetB5 | 456 |\n",
        "| EfficientNetB6 | 528 |\n",
        "| EfficientNetB7 | 600 |\n",
        "\n",
        "When the model is intended for transfer learning, the Keras implementation\n",
        "provides a option to remove the top layers:\n",
        "```\n",
        "model = EfficientNetB0(include_top=False, weights='imagenet')\n",
        "```\n",
        "This option excludes the final `Dense` layer that turns 1280 features on the penultimate\n",
        "layer into prediction of the 1000 ImageNet classes. Replacing the top layer with custom\n",
        "layers allows using EfficientNet as a feature extractor in a transfer learning workflow.\n",
        "\n",
        "Another argument in the model constructor worth noticing is `drop_connect_rate` which controls\n",
        "the dropout rate responsible for [stochastic depth](https://arxiv.org/abs/1603.09382).\n",
        "This parameter serves as a toggle for extra regularization in finetuning, but does not\n",
        "affect loaded weights. For example, when stronger regularization is desired, try:\n",
        "\n",
        "```python\n",
        "model = EfficientNetB0(weights='imagenet', drop_connect_rate=0.4)\n",
        "```\n",
        "The default value is 0.2."
      ]
    },
    {
      "cell_type": "markdown",
      "metadata": {
        "id": "jcPDh7oN5eDA",
        "colab_type": "text"
      },
      "source": [
        "\n",
        "## Use of EfficientNetB0 for figure/photo prediction\n",
        "\n",
        "EfficientNet is capable of a wide range of image classification tasks.\n",
        "This makes it a good model for transfer learning.\n",
        "\n",
        "In this notebook we apply the model to classify images of figure (from a **non public dataset**)."
      ]
    },
    {
      "cell_type": "code",
      "metadata": {
        "id": "pcNvRDg46dCR",
        "colab_type": "code",
        "colab": {
          "base_uri": "https://localhost:8080/",
          "height": 35
        },
        "outputId": "69930d44-4e0c-4fa5-c57f-17be428d3958"
      },
      "source": [
        "import os\n",
        "import matplotlib.pyplot as plt\n",
        "import cv2\n",
        "import numpy as np\n",
        "\n",
        "\n",
        "from keras.preprocessing.image import ImageDataGenerator\n",
        "from tensorflow.keras import layers\n",
        "\n",
        "from IPython.display import clear_output\n",
        "import warnings\n",
        "warnings.filterwarnings('ignore')"
      ],
      "execution_count": 1,
      "outputs": [
        {
          "output_type": "stream",
          "text": [
            "Using TensorFlow backend.\n"
          ],
          "name": "stderr"
        }
      ]
    },
    {
      "cell_type": "markdown",
      "metadata": {
        "colab_type": "text",
        "id": "XKuLln3q34oj"
      },
      "source": [
        "## Setup\n",
        "\n",
        "This example requires TensorFlow 2.3 or above.\n",
        "\n",
        "To use TPU, the TPU runtime must match current running TensorFlow\n",
        "version. If there is a mismatch, try:\n",
        "\n",
        "```python\n",
        "from cloud_tpu_client import Client\n",
        "c = Client()\n",
        "c.configure_tpu_version(tf.__version__, restart_type=\"always\")\n",
        "```"
      ]
    },
    {
      "cell_type": "code",
      "metadata": {
        "id": "4625RnJk6DeA",
        "colab_type": "code",
        "colab": {}
      },
      "source": [
        "!pip install tensorflow==2.3\n",
        "clear_output()"
      ],
      "execution_count": 2,
      "outputs": []
    },
    {
      "cell_type": "code",
      "metadata": {
        "id": "_I07wYOdRQZH",
        "colab_type": "code",
        "colab": {
          "base_uri": "https://localhost:8080/",
          "height": 35
        },
        "outputId": "3f471768-ec6b-48f9-a0fa-212104d95fda"
      },
      "source": [
        "print(f\"If this import fails you need restart environment\")\n",
        "from tensorflow.keras.applications import EfficientNetB0"
      ],
      "execution_count": 28,
      "outputs": [
        {
          "output_type": "stream",
          "text": [
            "If this import fails you need restart environment\n"
          ],
          "name": "stdout"
        }
      ]
    },
    {
      "cell_type": "code",
      "metadata": {
        "colab_type": "code",
        "id": "ta6M91yP34ok",
        "colab": {
          "base_uri": "https://localhost:8080/",
          "height": 53
        },
        "outputId": "232c6aa2-38c1-4c01-e8e7-81ce0e6344d6"
      },
      "source": [
        "import tensorflow as tf\n",
        "\n",
        "try:\n",
        "    tpu = tf.distribute.cluster_resolver.TPUClusterResolver()  # TPU detection\n",
        "    print(\"Running on TPU \", tpu.cluster_spec().as_dict()[\"worker\"])\n",
        "    tf.config.experimental_connect_to_cluster(tpu)\n",
        "    tf.tpu.experimental.initialize_tpu_system(tpu)\n",
        "    strategy = tf.distribute.experimental.TPUStrategy(tpu)\n",
        "except ValueError:\n",
        "    print(\"Not connected to a TPU runtime. Using CPU/GPU strategy\")\n",
        "    strategy = tf.distribute.MirroredStrategy()\n"
      ],
      "execution_count": 2,
      "outputs": [
        {
          "output_type": "stream",
          "text": [
            "Not connected to a TPU runtime. Using CPU/GPU strategy\n",
            "INFO:tensorflow:Using MirroredStrategy with devices ('/job:localhost/replica:0/task:0/device:GPU:0',)\n"
          ],
          "name": "stdout"
        }
      ]
    },
    {
      "cell_type": "markdown",
      "metadata": {
        "id": "tiao4dYVXcmN",
        "colab_type": "text"
      },
      "source": [
        "## Dataset"
      ]
    },
    {
      "cell_type": "markdown",
      "metadata": {
        "id": "5QFpjNQ6Xh08",
        "colab_type": "text"
      },
      "source": [
        "### Download"
      ]
    },
    {
      "cell_type": "code",
      "metadata": {
        "id": "t4a7OYEvXlmD",
        "colab_type": "code",
        "colab": {
          "base_uri": "https://localhost:8080/",
          "height": 55
        },
        "outputId": "9ee63e9f-bd03-4b0a-ed06-3fbbb9874e24"
      },
      "source": [
        "from google.colab import drive\n",
        "drive.mount('/content/drive')"
      ],
      "execution_count": 3,
      "outputs": [
        {
          "output_type": "stream",
          "text": [
            "Drive already mounted at /content/drive; to attempt to forcibly remount, call drive.mount(\"/content/drive\", force_remount=True).\n"
          ],
          "name": "stdout"
        }
      ]
    },
    {
      "cell_type": "code",
      "metadata": {
        "id": "otv0Ec1UXp4w",
        "colab_type": "code",
        "colab": {}
      },
      "source": [
        "dataset_folderpath = \"/content/input\""
      ],
      "execution_count": 4,
      "outputs": []
    },
    {
      "cell_type": "code",
      "metadata": {
        "id": "E_3c3qe3X67p",
        "colab_type": "code",
        "colab": {}
      },
      "source": [
        "import os\n",
        "if os.path.isdir(dataset_folderpath):\n",
        "  !rm -R {dataset_folderpath}"
      ],
      "execution_count": 5,
      "outputs": []
    },
    {
      "cell_type": "code",
      "metadata": {
        "id": "ZOYiT9cOX6bb",
        "colab_type": "code",
        "colab": {}
      },
      "source": [
        "from pathlib import Path\n",
        "def mkdir(sfolderpath):\n",
        "  folderpath = Path(sfolderpath)\n",
        "  folderpath.mkdir(parents=True, exist_ok=True)\n",
        "\n",
        "mkdir(dataset_folderpath)"
      ],
      "execution_count": 6,
      "outputs": []
    },
    {
      "cell_type": "code",
      "metadata": {
        "id": "jhwAqo5WX53Q",
        "colab_type": "code",
        "colab": {
          "base_uri": "https://localhost:8080/",
          "height": 35
        },
        "outputId": "b9aea6a8-7f89-404e-b633-9cec7629a5a0"
      },
      "source": [
        "!tar -xvf /content/drive/My\\ Drive/DATASPARTAN/PROYECTOS/AI-DOCUMENTS/SEGMENTATION/DSFigureDataset.tar.gz -C {dataset_folderpath}\n",
        "\n",
        "clear_output()\n",
        "\n",
        "!ls {dataset_folderpath}"
      ],
      "execution_count": 7,
      "outputs": [
        {
          "output_type": "stream",
          "text": [
            "raw  setup.py\n"
          ],
          "name": "stdout"
        }
      ]
    },
    {
      "cell_type": "markdown",
      "metadata": {
        "id": "M1sXkQ3gYRbC",
        "colab_type": "text"
      },
      "source": [
        "### Split train, val and test dataset"
      ]
    },
    {
      "cell_type": "markdown",
      "metadata": {
        "id": "JGJDMvRYYnbk",
        "colab_type": "text"
      },
      "source": [
        "The `zip` contains a script to generate the ml dataset"
      ]
    },
    {
      "cell_type": "code",
      "metadata": {
        "id": "lz1o6rq2X5TF",
        "colab_type": "code",
        "colab": {
          "base_uri": "https://localhost:8080/",
          "height": 1000
        },
        "outputId": "b3619405-6d6c-4de6-d449-6195fd5e1a08"
      },
      "source": [
        "% cd {dataset_folderpath}\n",
        "!python setup.py\n",
        "\n",
        "%cd /content/"
      ],
      "execution_count": 8,
      "outputs": [
        {
          "output_type": "stream",
          "text": [
            "/content/input\n",
            "Number of classes : 20\n",
            "['VennDiagram', 'AreaGraph', 'BubbleChart', 'RadarPlot', 'PersonPhoto', 'TreeDiagram', 'LineGraph', 'NetworkDiagram', 'Map', 'ScatterGraph', 'HorizontalBarGraph', 'GeneralPhoto', 'ParetoChart', 'GeneralFigure', 'Signatures', 'FlowChart', 'BoxPlot', 'Table', 'PieChart', 'VerticalBarGraph']\n",
            "VennDiagram: \n",
            "   > ntrain : 213\n",
            "   > nval : 88\n",
            "   > ntest : 4\n",
            "\n",
            "AreaGraph: \n",
            "   > ntrain : 157\n",
            "   > nval : 65\n",
            "   > ntest : 3\n",
            "\n",
            "BubbleChart: \n",
            "   > ntrain : 170\n",
            "   > nval : 70\n",
            "   > ntest : 3\n",
            "\n",
            "RadarPlot: \n",
            "   > ntrain : 160\n",
            "   > nval : 66\n",
            "   > ntest : 3\n",
            "\n",
            "PersonPhoto: \n",
            "   > ntrain : 160\n",
            "   > nval : 66\n",
            "   > ntest : 3\n",
            "\n",
            "TreeDiagram: \n",
            "   > ntrain : 164\n",
            "   > nval : 68\n",
            "   > ntest : 3\n",
            "\n",
            "LineGraph: \n",
            "   > ntrain : 156\n",
            "   > nval : 65\n",
            "   > ntest : 3\n",
            "\n",
            "NetworkDiagram: \n",
            "   > ntrain : 183\n",
            "   > nval : 76\n",
            "   > ntest : 3\n",
            "\n",
            "Map: \n",
            "   > ntrain : 271\n",
            "   > nval : 113\n",
            "   > ntest : 4\n",
            "\n",
            "ScatterGraph: \n",
            "   > ntrain : 146\n",
            "   > nval : 60\n",
            "   > ntest : 3\n",
            "\n",
            "HorizontalBarGraph: \n",
            "   > ntrain : 149\n",
            "   > nval : 61\n",
            "   > ntest : 3\n",
            "\n",
            "GeneralPhoto: \n",
            "   > ntrain : 188\n",
            "   > nval : 78\n",
            "   > ntest : 3\n",
            "\n",
            "ParetoChart: \n",
            "   > ntrain : 184\n",
            "   > nval : 76\n",
            "   > ntest : 3\n",
            "\n",
            "GeneralFigure: \n",
            "   > ntrain : 175\n",
            "   > nval : 72\n",
            "   > ntest : 3\n",
            "\n",
            "Signatures: \n",
            "   > ntrain : 186\n",
            "   > nval : 77\n",
            "   > ntest : 3\n",
            "\n",
            "FlowChart: \n",
            "   > ntrain : 204\n",
            "   > nval : 85\n",
            "   > ntest : 3\n",
            "\n",
            "BoxPlot: \n",
            "   > ntrain : 162\n",
            "   > nval : 67\n",
            "   > ntest : 3\n",
            "\n",
            "Table: \n",
            "   > ntrain : 75\n",
            "   > nval : 31\n",
            "   > ntest : 2\n",
            "\n",
            "PieChart: \n",
            "   > ntrain : 166\n",
            "   > nval : 69\n",
            "   > ntest : 3\n",
            "\n",
            "VerticalBarGraph: \n",
            "   > ntrain : 251\n",
            "   > nval : 105\n",
            "   > ntest : 4\n",
            "\n",
            "Num total of train examples : 3520\n",
            "Num total of val examples : 1458\n",
            "Num total of test examples : 62\n",
            "/content\n"
          ],
          "name": "stdout"
        }
      ]
    },
    {
      "cell_type": "code",
      "metadata": {
        "id": "1UcsCChInaun",
        "colab_type": "code",
        "colab": {
          "base_uri": "https://localhost:8080/",
          "height": 35
        },
        "outputId": "9dd75dea-f821-49a4-8e87-564327ec2592"
      },
      "source": [
        "!ls {dataset_folderpath}/dataset"
      ],
      "execution_count": 9,
      "outputs": [
        {
          "output_type": "stream",
          "text": [
            "test  test_raw\ttrain  val\n"
          ],
          "name": "stdout"
        }
      ]
    },
    {
      "cell_type": "code",
      "metadata": {
        "id": "IRJ50HCeYyQ2",
        "colab_type": "code",
        "colab": {}
      },
      "source": [
        "input_folder = \"/content/input/dataset\"\n",
        "\n",
        "trn_folder = os.path.join(input_folder,\"train\")\n",
        "val_folder = os.path.join(input_folder,\"val\")\n",
        "test_folder = os.path.join(input_folder,\"test\")\n",
        "testraw_folder = os.path.join(input_folder,\"test_raw\")"
      ],
      "execution_count": 10,
      "outputs": []
    },
    {
      "cell_type": "code",
      "metadata": {
        "id": "3Q5VYVoiY0Jp",
        "colab_type": "code",
        "colab": {
          "base_uri": "https://localhost:8080/",
          "height": 73
        },
        "outputId": "1a2e7eab-d8bd-42ef-e603-f3cb0e0f02fc"
      },
      "source": [
        "classes = [name for name in os.listdir(trn_folder) \n",
        "      if os.path.isdir(os.path.join(trn_folder,name))]\n",
        "classes.sort()\n",
        "NUM_CLASSES = len(classes)\n",
        "print(f\"Number of classes : {NUM_CLASSES}\")\n",
        "print(classes)"
      ],
      "execution_count": 11,
      "outputs": [
        {
          "output_type": "stream",
          "text": [
            "Number of classes : 20\n",
            "['AreaGraph', 'BoxPlot', 'BubbleChart', 'FlowChart', 'GeneralFigure', 'GeneralPhoto', 'HorizontalBarGraph', 'LineGraph', 'Map', 'NetworkDiagram', 'ParetoChart', 'PersonPhoto', 'PieChart', 'RadarPlot', 'ScatterGraph', 'Signatures', 'Table', 'TreeDiagram', 'VennDiagram', 'VerticalBarGraph']\n"
          ],
          "name": "stdout"
        }
      ]
    },
    {
      "cell_type": "markdown",
      "metadata": {
        "id": "RVhwLySr-TV4",
        "colab_type": "text"
      },
      "source": [
        "### Dataset loading"
      ]
    },
    {
      "cell_type": "markdown",
      "metadata": {
        "colab_type": "text",
        "id": "r4OW46vd34ow"
      },
      "source": [
        "When the dataset include images with various size, we need to resize them into a\n",
        "shared size. Here we resize the images to the input size needed for EfficientNet."
      ]
    },
    {
      "cell_type": "code",
      "metadata": {
        "id": "gvlawBMQ-RKF",
        "colab_type": "code",
        "colab": {}
      },
      "source": [
        "# IMG_SIZE is determined by EfficientNet model choice\n",
        "IMG_SIZE = 224\n",
        "size = (IMG_SIZE, IMG_SIZE)\n",
        "batch_size = 64"
      ],
      "execution_count": 12,
      "outputs": []
    },
    {
      "cell_type": "code",
      "metadata": {
        "id": "BRPHZ01X-axN",
        "colab_type": "code",
        "colab": {}
      },
      "source": [
        "# With transform\n",
        "image_gen_train = ImageDataGenerator(\n",
        "                    rescale=1./255,\n",
        "                    rotation_range=15,\n",
        "                    width_shift_range=.10,\n",
        "                    height_shift_range=.10,\n",
        "                    brightness_range= [0.7, 1.3],\n",
        "                    horizontal_flip=True,\n",
        "                    zoom_range=[0.8, 1.2]\n",
        "                    )"
      ],
      "execution_count": 13,
      "outputs": []
    },
    {
      "cell_type": "code",
      "metadata": {
        "id": "KbllJKLQ_Etp",
        "colab_type": "code",
        "colab": {
          "base_uri": "https://localhost:8080/",
          "height": 35
        },
        "outputId": "ae11266c-2ac9-47cc-a2ab-9197e0f17380"
      },
      "source": [
        "train_data_gen = image_gen_train.flow_from_directory(batch_size=batch_size,\n",
        "                                                     directory=trn_folder,\n",
        "                                                     shuffle=True,\n",
        "                                                     target_size=size,\n",
        "                                                     class_mode='categorical')"
      ],
      "execution_count": 14,
      "outputs": [
        {
          "output_type": "stream",
          "text": [
            "Found 3520 images belonging to 20 classes.\n"
          ],
          "name": "stdout"
        }
      ]
    },
    {
      "cell_type": "code",
      "metadata": {
        "id": "2Mecr727BVXt",
        "colab_type": "code",
        "colab": {
          "base_uri": "https://localhost:8080/",
          "height": 35
        },
        "outputId": "e9214ea8-ca39-4948-8bdf-ae38eb8494ac"
      },
      "source": [
        "total_train=len(train_data_gen.filenames)\n",
        "total_train"
      ],
      "execution_count": 15,
      "outputs": [
        {
          "output_type": "execute_result",
          "data": {
            "text/plain": [
              "3520"
            ]
          },
          "metadata": {
            "tags": []
          },
          "execution_count": 15
        }
      ]
    },
    {
      "cell_type": "code",
      "metadata": {
        "id": "meFry2weBW2L",
        "colab_type": "code",
        "colab": {
          "base_uri": "https://localhost:8080/",
          "height": 208
        },
        "outputId": "e08967ce-f613-4253-d747-a531e1e0d94e"
      },
      "source": [
        "# This function will plot images in the form of a grid with 1 row and 5 columns where images are placed in each column.\n",
        "def plotImages(images_arr):\n",
        "    fig, axes = plt.subplots(1, 5, figsize=(20,20))\n",
        "    axes = axes.flatten()\n",
        "    for img, ax in zip( images_arr, axes):\n",
        "        ax.imshow(img)\n",
        "        ax.axis('off')\n",
        "    plt.tight_layout()\n",
        "    plt.show()\n",
        "    \n",
        "augmented_images = [train_data_gen[0][0][0] for i in range(5)]\n",
        "plotImages(augmented_images)"
      ],
      "execution_count": 16,
      "outputs": [
        {
          "output_type": "display_data",
          "data": {
            "image/png": "[encoded data removed]",
            "text/plain": [
              "<Figure size 1440x1440 with 5 Axes>"
            ]
          },
          "metadata": {
            "tags": [],
            "needs_background": "light"
          }
        }
      ]
    },
    {
      "cell_type": "code",
      "metadata": {
        "id": "ZBJe6sKpBbGY",
        "colab_type": "code",
        "colab": {}
      },
      "source": [
        "image_gen_val = ImageDataGenerator(rescale=1./255)"
      ],
      "execution_count": 17,
      "outputs": []
    },
    {
      "cell_type": "code",
      "metadata": {
        "id": "rPQE2wU8BbB2",
        "colab_type": "code",
        "colab": {
          "base_uri": "https://localhost:8080/",
          "height": 35
        },
        "outputId": "b9ca7cf6-bd03-46bb-e353-f3a2f0499f38"
      },
      "source": [
        "val_data_gen = image_gen_val.flow_from_directory(batch_size=batch_size,\n",
        "                                                 directory=val_folder,\n",
        "                                                 target_size=size,\n",
        "                                                 class_mode='categorical')"
      ],
      "execution_count": 18,
      "outputs": [
        {
          "output_type": "stream",
          "text": [
            "Found 1458 images belonging to 20 classes.\n"
          ],
          "name": "stdout"
        }
      ]
    },
    {
      "cell_type": "code",
      "metadata": {
        "id": "S1WM8ZdaBa-N",
        "colab_type": "code",
        "colab": {
          "base_uri": "https://localhost:8080/",
          "height": 35
        },
        "outputId": "7f25b6ad-acef-4696-9158-487060e2efa7"
      },
      "source": [
        "total_val=len(val_data_gen.filenames)\n",
        "total_val"
      ],
      "execution_count": 19,
      "outputs": [
        {
          "output_type": "execute_result",
          "data": {
            "text/plain": [
              "1458"
            ]
          },
          "metadata": {
            "tags": []
          },
          "execution_count": 19
        }
      ]
    },
    {
      "cell_type": "markdown",
      "metadata": {
        "id": "QqGS9TcJCNGf",
        "colab_type": "text"
      },
      "source": [
        "The `test` dataset is a list of images in a folder without associated label.\n"
      ]
    },
    {
      "cell_type": "code",
      "metadata": {
        "id": "Bbpxlnj8CEx8",
        "colab_type": "code",
        "colab": {}
      },
      "source": [
        "test_images = []\n",
        "shape = size\n",
        "\n",
        "for filename in os.listdir(testraw_folder):\n",
        "  img = cv2.imread(os.path.join(testraw_folder,filename))\n",
        "\n",
        "  # Resize all images to a specific shape\n",
        "  img = cv2.resize(img,shape)\n",
        "\n",
        "  test_images.append(img)\n",
        "        \n",
        "# Converting test_images to array\n",
        "test_images = np.array(test_images)"
      ],
      "execution_count": 20,
      "outputs": []
    },
    {
      "cell_type": "markdown",
      "metadata": {
        "colab_type": "text",
        "id": "-CB5h55A34pJ"
      },
      "source": [
        "## Training a model from scratch\n",
        "\n",
        "We build an EfficientNetB0 with custom output classes, that is initialized from scratch:\n",
        "\n",
        "Note: the accuracy will increase very slowly and may overfit."
      ]
    },
    {
      "cell_type": "code",
      "metadata": {
        "colab_type": "code",
        "id": "2YnLyWvz34pK",
        "colab": {
          "base_uri": "https://localhost:8080/",
          "height": 233
        },
        "outputId": "9d45aa23-12bc-4423-e76a-84849d5f1910"
      },
      "source": [
        "from tensorflow.keras.applications import EfficientNetB0\n",
        "\n",
        "with strategy.scope():\n",
        "    inputs = layers.Input(shape=(IMG_SIZE, IMG_SIZE, 3))\n",
        "    outputs = EfficientNetB0(include_top=True, weights=None, classes=NUM_CLASSES)(inputs)\n",
        "\n",
        "    model = tf.keras.Model(inputs, outputs)\n",
        "    model.compile(\n",
        "        optimizer=\"adam\", loss=\"categorical_crossentropy\", metrics=[\"accuracy\"]\n",
        "    )\n",
        "\n",
        "model.summary()\n"
      ],
      "execution_count": 41,
      "outputs": [
        {
          "output_type": "stream",
          "text": [
            "Model: \"functional_3\"\n",
            "_________________________________________________________________\n",
            "Layer (type)                 Output Shape              Param #   \n",
            "=================================================================\n",
            "input_6 (InputLayer)         [(None, 224, 224, 3)]     0         \n",
            "_________________________________________________________________\n",
            "efficientnetb0 (Functional)  (None, 20)                4075191   \n",
            "=================================================================\n",
            "Total params: 4,075,191\n",
            "Trainable params: 4,033,168\n",
            "Non-trainable params: 42,023\n",
            "_________________________________________________________________\n"
          ],
          "name": "stdout"
        }
      ]
    },
    {
      "cell_type": "code",
      "metadata": {
        "id": "fR6zeI6cEMMD",
        "colab_type": "code",
        "colab": {
          "base_uri": "https://localhost:8080/",
          "height": 1000
        },
        "outputId": "fdf33d3e-3d38-43fe-b5fc-ae4d3acf23c3"
      },
      "source": [
        "epochs = 60  # @param {type: \"slider\", min:10, max:100}\n",
        "hist = model.fit(train_data_gen,\n",
        "                 epochs=epochs,\n",
        "                 validation_data=val_data_gen,\n",
        "                 verbose=2)"
      ],
      "execution_count": 42,
      "outputs": [
        {
          "output_type": "stream",
          "text": [
            "Epoch 1/60\n",
            "55/55 - 90s - loss: 3.6625 - accuracy: 0.0744 - val_loss: 3.0187 - val_accuracy: 0.0453\n",
            "Epoch 2/60\n",
            "55/55 - 87s - loss: 3.1020 - accuracy: 0.1324 - val_loss: 3.0551 - val_accuracy: 0.0775\n",
            "Epoch 3/60\n",
            "55/55 - 87s - loss: 2.8422 - accuracy: 0.1676 - val_loss: 3.1785 - val_accuracy: 0.0453\n",
            "Epoch 4/60\n",
            "55/55 - 86s - loss: 2.6442 - accuracy: 0.2162 - val_loss: 3.2772 - val_accuracy: 0.0412\n",
            "Epoch 5/60\n",
            "55/55 - 87s - loss: 2.3995 - accuracy: 0.2634 - val_loss: 3.7511 - val_accuracy: 0.0460\n",
            "Epoch 6/60\n",
            "55/55 - 88s - loss: 2.2283 - accuracy: 0.3216 - val_loss: 3.4380 - val_accuracy: 0.0473\n",
            "Epoch 7/60\n",
            "55/55 - 89s - loss: 2.0778 - accuracy: 0.3659 - val_loss: 3.9342 - val_accuracy: 0.0446\n",
            "Epoch 8/60\n",
            "55/55 - 88s - loss: 1.9863 - accuracy: 0.3830 - val_loss: 4.5186 - val_accuracy: 0.0446\n",
            "Epoch 9/60\n",
            "55/55 - 88s - loss: 1.8568 - accuracy: 0.4134 - val_loss: 5.8059 - val_accuracy: 0.0453\n",
            "Epoch 10/60\n",
            "55/55 - 88s - loss: 1.7584 - accuracy: 0.4381 - val_loss: 3.9531 - val_accuracy: 0.0933\n",
            "Epoch 11/60\n",
            "55/55 - 88s - loss: 1.6970 - accuracy: 0.4599 - val_loss: 2.9767 - val_accuracy: 0.1982\n",
            "Epoch 12/60\n",
            "55/55 - 88s - loss: 1.6043 - accuracy: 0.5009 - val_loss: 2.6679 - val_accuracy: 0.2894\n",
            "Epoch 13/60\n",
            "55/55 - 88s - loss: 1.5115 - accuracy: 0.5145 - val_loss: 1.7244 - val_accuracy: 0.4726\n",
            "Epoch 14/60\n",
            "55/55 - 87s - loss: 1.4515 - accuracy: 0.5332 - val_loss: 1.6714 - val_accuracy: 0.4890\n",
            "Epoch 15/60\n",
            "55/55 - 88s - loss: 1.3818 - accuracy: 0.5571 - val_loss: 1.9549 - val_accuracy: 0.3992\n",
            "Epoch 16/60\n",
            "55/55 - 87s - loss: 1.3248 - accuracy: 0.5813 - val_loss: 1.8664 - val_accuracy: 0.4602\n",
            "Epoch 17/60\n",
            "55/55 - 87s - loss: 1.2544 - accuracy: 0.6017 - val_loss: 1.6117 - val_accuracy: 0.5206\n",
            "Epoch 18/60\n",
            "55/55 - 87s - loss: 1.2322 - accuracy: 0.6185 - val_loss: 1.5694 - val_accuracy: 0.5206\n",
            "Epoch 19/60\n",
            "55/55 - 87s - loss: 1.1673 - accuracy: 0.6335 - val_loss: 1.8961 - val_accuracy: 0.4479\n",
            "Epoch 20/60\n",
            "55/55 - 87s - loss: 1.0679 - accuracy: 0.6500 - val_loss: 1.7456 - val_accuracy: 0.4897\n",
            "Epoch 21/60\n",
            "55/55 - 87s - loss: 1.0312 - accuracy: 0.6719 - val_loss: 1.3033 - val_accuracy: 0.5960\n",
            "Epoch 22/60\n",
            "55/55 - 86s - loss: 0.9560 - accuracy: 0.6884 - val_loss: 1.6147 - val_accuracy: 0.5233\n",
            "Epoch 23/60\n",
            "55/55 - 87s - loss: 0.9754 - accuracy: 0.6841 - val_loss: 1.3089 - val_accuracy: 0.6063\n",
            "Epoch 24/60\n",
            "55/55 - 87s - loss: 0.8763 - accuracy: 0.7190 - val_loss: 1.1563 - val_accuracy: 0.6516\n",
            "Epoch 25/60\n",
            "55/55 - 88s - loss: 0.8441 - accuracy: 0.7207 - val_loss: 1.8159 - val_accuracy: 0.5412\n",
            "Epoch 26/60\n",
            "55/55 - 88s - loss: 0.8147 - accuracy: 0.7267 - val_loss: 1.6240 - val_accuracy: 0.5295\n",
            "Epoch 27/60\n",
            "55/55 - 87s - loss: 0.7542 - accuracy: 0.7537 - val_loss: 3.2827 - val_accuracy: 0.3422\n",
            "Epoch 28/60\n",
            "55/55 - 88s - loss: 0.7306 - accuracy: 0.7571 - val_loss: 2.0735 - val_accuracy: 0.5075\n",
            "Epoch 29/60\n",
            "55/55 - 87s - loss: 0.7115 - accuracy: 0.7676 - val_loss: 1.5138 - val_accuracy: 0.5679\n",
            "Epoch 30/60\n",
            "55/55 - 87s - loss: 0.6706 - accuracy: 0.7710 - val_loss: 1.2183 - val_accuracy: 0.6735\n",
            "Epoch 31/60\n",
            "55/55 - 88s - loss: 0.6459 - accuracy: 0.7909 - val_loss: 1.0585 - val_accuracy: 0.6982\n",
            "Epoch 32/60\n",
            "55/55 - 88s - loss: 0.6171 - accuracy: 0.7946 - val_loss: 1.1551 - val_accuracy: 0.6886\n",
            "Epoch 33/60\n",
            "55/55 - 87s - loss: 0.6122 - accuracy: 0.8014 - val_loss: 1.3040 - val_accuracy: 0.6283\n",
            "Epoch 34/60\n",
            "55/55 - 87s - loss: 0.5647 - accuracy: 0.8142 - val_loss: 1.3470 - val_accuracy: 0.6173\n",
            "Epoch 35/60\n",
            "55/55 - 87s - loss: 0.5479 - accuracy: 0.8241 - val_loss: 1.0379 - val_accuracy: 0.7222\n",
            "Epoch 36/60\n",
            "55/55 - 87s - loss: 0.5601 - accuracy: 0.8151 - val_loss: 1.7280 - val_accuracy: 0.6001\n",
            "Epoch 37/60\n",
            "55/55 - 87s - loss: 0.5652 - accuracy: 0.8151 - val_loss: 4.2785 - val_accuracy: 0.4486\n",
            "Epoch 38/60\n",
            "55/55 - 85s - loss: 0.5465 - accuracy: 0.8230 - val_loss: 1.9585 - val_accuracy: 0.5624\n",
            "Epoch 39/60\n",
            "55/55 - 85s - loss: 0.5101 - accuracy: 0.8270 - val_loss: 1.3812 - val_accuracy: 0.6859\n",
            "Epoch 40/60\n",
            "55/55 - 85s - loss: 0.5068 - accuracy: 0.8290 - val_loss: 1.1282 - val_accuracy: 0.7229\n",
            "Epoch 41/60\n",
            "55/55 - 85s - loss: 0.4935 - accuracy: 0.8372 - val_loss: 0.8899 - val_accuracy: 0.7586\n",
            "Epoch 42/60\n",
            "55/55 - 86s - loss: 0.4195 - accuracy: 0.8651 - val_loss: 0.9846 - val_accuracy: 0.7284\n",
            "Epoch 43/60\n",
            "55/55 - 86s - loss: 0.3932 - accuracy: 0.8710 - val_loss: 1.0556 - val_accuracy: 0.7613\n",
            "Epoch 44/60\n",
            "55/55 - 87s - loss: 0.4369 - accuracy: 0.8653 - val_loss: 1.1284 - val_accuracy: 0.7003\n",
            "Epoch 45/60\n",
            "55/55 - 87s - loss: 0.3902 - accuracy: 0.8690 - val_loss: 1.1061 - val_accuracy: 0.7263\n",
            "Epoch 46/60\n",
            "55/55 - 87s - loss: 0.3868 - accuracy: 0.8753 - val_loss: 1.0511 - val_accuracy: 0.7243\n",
            "Epoch 47/60\n",
            "55/55 - 86s - loss: 0.3643 - accuracy: 0.8736 - val_loss: 1.0704 - val_accuracy: 0.7359\n",
            "Epoch 48/60\n",
            "55/55 - 86s - loss: 0.3491 - accuracy: 0.8878 - val_loss: 1.0759 - val_accuracy: 0.7421\n",
            "Epoch 49/60\n",
            "55/55 - 87s - loss: 0.3596 - accuracy: 0.8869 - val_loss: 1.1209 - val_accuracy: 0.7160\n",
            "Epoch 50/60\n",
            "55/55 - 86s - loss: 0.3222 - accuracy: 0.8957 - val_loss: 1.1684 - val_accuracy: 0.7311\n",
            "Epoch 51/60\n",
            "55/55 - 86s - loss: 0.3185 - accuracy: 0.8974 - val_loss: 1.2294 - val_accuracy: 0.7325\n",
            "Epoch 52/60\n",
            "55/55 - 89s - loss: 0.3286 - accuracy: 0.8920 - val_loss: 1.3291 - val_accuracy: 0.7305\n",
            "Epoch 53/60\n",
            "55/55 - 88s - loss: 0.3358 - accuracy: 0.8926 - val_loss: 1.9182 - val_accuracy: 0.5830\n",
            "Epoch 54/60\n",
            "55/55 - 87s - loss: 0.3258 - accuracy: 0.8918 - val_loss: 1.3251 - val_accuracy: 0.6818\n",
            "Epoch 55/60\n",
            "55/55 - 87s - loss: 0.2980 - accuracy: 0.9028 - val_loss: 2.2868 - val_accuracy: 0.5206\n",
            "Epoch 56/60\n",
            "55/55 - 88s - loss: 0.3950 - accuracy: 0.8656 - val_loss: 1.8737 - val_accuracy: 0.6036\n",
            "Epoch 57/60\n",
            "55/55 - 88s - loss: 0.3737 - accuracy: 0.8852 - val_loss: 1.0838 - val_accuracy: 0.7373\n",
            "Epoch 58/60\n",
            "55/55 - 88s - loss: 0.3307 - accuracy: 0.8895 - val_loss: 1.0259 - val_accuracy: 0.7497\n",
            "Epoch 59/60\n",
            "55/55 - 88s - loss: 0.2888 - accuracy: 0.9062 - val_loss: 1.3920 - val_accuracy: 0.6763\n",
            "Epoch 60/60\n",
            "55/55 - 87s - loss: 0.2718 - accuracy: 0.9060 - val_loss: 1.0951 - val_accuracy: 0.7462\n"
          ],
          "name": "stdout"
        }
      ]
    },
    {
      "cell_type": "markdown",
      "metadata": {
        "colab_type": "text",
        "id": "cI2alTo_34pP"
      },
      "source": [
        "Training the model is relatively fast (takes only 20 seconds per epoch on TPUv2 that is\n",
        "available on Colab). This might make it sounds easy to simply train EfficientNet on any\n",
        "dataset wanted from scratch. However, training EfficientNet on smaller datasets,\n",
        "especially those with lower resolution like CIFAR-100, faces the significant challenge of\n",
        "overfitting.\n",
        "\n",
        "Hence training from scratch requires very careful choice of hyperparameters and is\n",
        "difficult to find suitable regularization. It would also be much more demanding in resources.\n",
        "Plotting the training and validation accuracy\n",
        "makes it clear that validation accuracy stagnates at a low value."
      ]
    },
    {
      "cell_type": "code",
      "metadata": {
        "colab_type": "code",
        "id": "twS5Eulo34pQ",
        "colab": {
          "base_uri": "https://localhost:8080/",
          "height": 295
        },
        "outputId": "75a59a71-70f5-417e-8c0a-64ec346d7e36"
      },
      "source": [
        "import matplotlib.pyplot as plt\n",
        "\n",
        "\n",
        "def plot_hist(hist):\n",
        "    plt.plot(hist.history[\"accuracy\"])\n",
        "    plt.plot(hist.history[\"val_accuracy\"])\n",
        "    plt.title(\"model accuracy\")\n",
        "    plt.ylabel(\"accuracy\")\n",
        "    plt.xlabel(\"epoch\")\n",
        "    plt.legend([\"train\", \"validation\"], loc=\"upper left\")\n",
        "    plt.show()\n",
        "\n",
        "\n",
        "plot_hist(hist)"
      ],
      "execution_count": 43,
      "outputs": [
        {
          "output_type": "display_data",
          "data": {
            "image/png": "[encoded data removed]",
            "text/plain": [
              "<Figure size 432x288 with 1 Axes>"
            ]
          },
          "metadata": {
            "tags": [],
            "needs_background": "light"
          }
        }
      ]
    },
    {
      "cell_type": "code",
      "metadata": {
        "id": "l6iTKh2K1KNV",
        "colab_type": "code",
        "colab": {
          "base_uri": "https://localhost:8080/",
          "height": 161
        },
        "outputId": "b3196073-545c-421b-97f5-d59df3575cd0"
      },
      "source": [
        "model.save(\"/content/efficientNet_model.h5\")\n",
        "!ls -lah"
      ],
      "execution_count": 44,
      "outputs": [
        {
          "output_type": "stream",
          "text": [
            "total 48M\n",
            "drwxr-xr-x 1 root root 4.0K Jul 30 13:57 .\n",
            "drwxr-xr-x 1 root root 4.0K Jul 30 10:13 ..\n",
            "drwxr-xr-x 1 root root 4.0K Jul 22 16:16 .config\n",
            "drwx------ 4 root root 4.0K Jul 30 10:24 drive\n",
            "-rw-r--r-- 1 root root  48M Jul 30 13:57 efficientNet_model.h5\n",
            "drwxr-xr-x 4 root root 4.0K Jul 30 10:28 input\n",
            "drwxr-xr-x 1 root root 4.0K Jul 10 16:29 sample_data\n"
          ],
          "name": "stdout"
        }
      ]
    },
    {
      "cell_type": "code",
      "metadata": {
        "id": "4-3S5ari1RII",
        "colab_type": "code",
        "colab": {}
      },
      "source": [
        "!cp /content/efficientNet_model.h5 /content/drive/My\\ Drive/efficientNet_model.h5"
      ],
      "execution_count": 45,
      "outputs": []
    },
    {
      "cell_type": "markdown",
      "metadata": {
        "colab_type": "text",
        "id": "hTtd11HS34pU"
      },
      "source": [
        "## Transfer learning from pre-trained weights\n",
        "\n",
        "Here we initialize the model with pre-trained ImageNet weights,\n",
        "and we fine-tune it on our own dataset."
      ]
    },
    {
      "cell_type": "code",
      "metadata": {
        "colab_type": "code",
        "id": "KNIvLLBb34pU",
        "colab": {
          "base_uri": "https://localhost:8080/",
          "height": 1000
        },
        "outputId": "1033baeb-3606-47eb-cf83-18d2d3e1a86e"
      },
      "source": [
        "from tensorflow.keras.layers.experimental import preprocessing\n",
        "\n",
        "\n",
        "def build_model(num_classes):\n",
        "    inputs = layers.Input(shape=(IMG_SIZE, IMG_SIZE, 3))\n",
        "    model = EfficientNetB0(include_top=False, input_tensor=inputs, weights=\"imagenet\")\n",
        "\n",
        "    # Freeze the pretrained weights\n",
        "    model.trainable = False\n",
        "\n",
        "    # Rebuild top\n",
        "    x = layers.GlobalAveragePooling2D(name=\"avg_pool\")(model.output)\n",
        "    x = layers.BatchNormalization()(x)\n",
        "\n",
        "    top_dropout_rate = 0.2\n",
        "    x = layers.Dropout(top_dropout_rate, name=\"top_dropout\")(x)\n",
        "    outputs = layers.Dense(NUM_CLASSES, activation=\"softmax\", name=\"pred\")(x)\n",
        "\n",
        "    # Compile\n",
        "    model = tf.keras.Model(inputs, outputs, name=\"EfficientNet\")\n",
        "\n",
        "    model.compile(\n",
        "        optimizer=\"adam\", loss=\"categorical_crossentropy\", metrics=[\"accuracy\"]\n",
        "    )\n",
        "\n",
        "    # optimizer = tf.keras.optimizers.Adam(learning_rate=1e-5)\n",
        "    # model.compile(\n",
        "    #     optimizer=optimizer, loss=\"categorical_crossentropy\", metrics=[\"accuracy\"]\n",
        "    # )\n",
        "    return model\n",
        "\n",
        "with strategy.scope():\n",
        "    model = build_model(num_classes=NUM_CLASSES)\n",
        "\n",
        "model.summary()"
      ],
      "execution_count": 54,
      "outputs": [
        {
          "output_type": "stream",
          "text": [
            "Model: \"EfficientNet\"\n",
            "__________________________________________________________________________________________________\n",
            "Layer (type)                    Output Shape         Param #     Connected to                     \n",
            "==================================================================================================\n",
            "input_13 (InputLayer)           [(None, 224, 224, 3) 0                                            \n",
            "__________________________________________________________________________________________________\n",
            "rescaling_10 (Rescaling)        (None, 224, 224, 3)  0           input_13[0][0]                   \n",
            "__________________________________________________________________________________________________\n",
            "normalization_10 (Normalization (None, 224, 224, 3)  7           rescaling_10[0][0]               \n",
            "__________________________________________________________________________________________________\n",
            "stem_conv_pad (ZeroPadding2D)   (None, 225, 225, 3)  0           normalization_10[0][0]           \n",
            "__________________________________________________________________________________________________\n",
            "stem_conv (Conv2D)              (None, 112, 112, 32) 864         stem_conv_pad[0][0]              \n",
            "__________________________________________________________________________________________________\n",
            "stem_bn (BatchNormalization)    (None, 112, 112, 32) 128         stem_conv[0][0]                  \n",
            "__________________________________________________________________________________________________\n",
            "stem_activation (Activation)    (None, 112, 112, 32) 0           stem_bn[0][0]                    \n",
            "__________________________________________________________________________________________________\n",
            "block1a_dwconv (DepthwiseConv2D (None, 112, 112, 32) 288         stem_activation[0][0]            \n",
            "__________________________________________________________________________________________________\n",
            "block1a_bn (BatchNormalization) (None, 112, 112, 32) 128         block1a_dwconv[0][0]             \n",
            "__________________________________________________________________________________________________\n",
            "block1a_activation (Activation) (None, 112, 112, 32) 0           block1a_bn[0][0]                 \n",
            "__________________________________________________________________________________________________\n",
            "block1a_se_squeeze (GlobalAvera (None, 32)           0           block1a_activation[0][0]         \n",
            "__________________________________________________________________________________________________\n",
            "block1a_se_reshape (Reshape)    (None, 1, 1, 32)     0           block1a_se_squeeze[0][0]         \n",
            "__________________________________________________________________________________________________\n",
            "block1a_se_reduce (Conv2D)      (None, 1, 1, 8)      264         block1a_se_reshape[0][0]         \n",
            "__________________________________________________________________________________________________\n",
            "block1a_se_expand (Conv2D)      (None, 1, 1, 32)     288         block1a_se_reduce[0][0]          \n",
            "__________________________________________________________________________________________________\n",
            "block1a_se_excite (Multiply)    (None, 112, 112, 32) 0           block1a_activation[0][0]         \n",
            "                                                                 block1a_se_expand[0][0]          \n",
            "__________________________________________________________________________________________________\n",
            "block1a_project_conv (Conv2D)   (None, 112, 112, 16) 512         block1a_se_excite[0][0]          \n",
            "__________________________________________________________________________________________________\n",
            "block1a_project_bn (BatchNormal (None, 112, 112, 16) 64          block1a_project_conv[0][0]       \n",
            "__________________________________________________________________________________________________\n",
            "block2a_expand_conv (Conv2D)    (None, 112, 112, 96) 1536        block1a_project_bn[0][0]         \n",
            "__________________________________________________________________________________________________\n",
            "block2a_expand_bn (BatchNormali (None, 112, 112, 96) 384         block2a_expand_conv[0][0]        \n",
            "__________________________________________________________________________________________________\n",
            "block2a_expand_activation (Acti (None, 112, 112, 96) 0           block2a_expand_bn[0][0]          \n",
            "__________________________________________________________________________________________________\n",
            "block2a_dwconv_pad (ZeroPadding (None, 113, 113, 96) 0           block2a_expand_activation[0][0]  \n",
            "__________________________________________________________________________________________________\n",
            "block2a_dwconv (DepthwiseConv2D (None, 56, 56, 96)   864         block2a_dwconv_pad[0][0]         \n",
            "__________________________________________________________________________________________________\n",
            "block2a_bn (BatchNormalization) (None, 56, 56, 96)   384         block2a_dwconv[0][0]             \n",
            "__________________________________________________________________________________________________\n",
            "block2a_activation (Activation) (None, 56, 56, 96)   0           block2a_bn[0][0]                 \n",
            "__________________________________________________________________________________________________\n",
            "block2a_se_squeeze (GlobalAvera (None, 96)           0           block2a_activation[0][0]         \n",
            "__________________________________________________________________________________________________\n",
            "block2a_se_reshape (Reshape)    (None, 1, 1, 96)     0           block2a_se_squeeze[0][0]         \n",
            "__________________________________________________________________________________________________\n",
            "block2a_se_reduce (Conv2D)      (None, 1, 1, 4)      388         block2a_se_reshape[0][0]         \n",
            "__________________________________________________________________________________________________\n",
            "block2a_se_expand (Conv2D)      (None, 1, 1, 96)     480         block2a_se_reduce[0][0]          \n",
            "__________________________________________________________________________________________________\n",
            "block2a_se_excite (Multiply)    (None, 56, 56, 96)   0           block2a_activation[0][0]         \n",
            "                                                                 block2a_se_expand[0][0]          \n",
            "__________________________________________________________________________________________________\n",
            "block2a_project_conv (Conv2D)   (None, 56, 56, 24)   2304        block2a_se_excite[0][0]          \n",
            "__________________________________________________________________________________________________\n",
            "block2a_project_bn (BatchNormal (None, 56, 56, 24)   96          block2a_project_conv[0][0]       \n",
            "__________________________________________________________________________________________________\n",
            "block2b_expand_conv (Conv2D)    (None, 56, 56, 144)  3456        block2a_project_bn[0][0]         \n",
            "__________________________________________________________________________________________________\n",
            "block2b_expand_bn (BatchNormali (None, 56, 56, 144)  576         block2b_expand_conv[0][0]        \n",
            "__________________________________________________________________________________________________\n",
            "block2b_expand_activation (Acti (None, 56, 56, 144)  0           block2b_expand_bn[0][0]          \n",
            "__________________________________________________________________________________________________\n",
            "block2b_dwconv (DepthwiseConv2D (None, 56, 56, 144)  1296        block2b_expand_activation[0][0]  \n",
            "__________________________________________________________________________________________________\n",
            "block2b_bn (BatchNormalization) (None, 56, 56, 144)  576         block2b_dwconv[0][0]             \n",
            "__________________________________________________________________________________________________\n",
            "block2b_activation (Activation) (None, 56, 56, 144)  0           block2b_bn[0][0]                 \n",
            "__________________________________________________________________________________________________\n",
            "block2b_se_squeeze (GlobalAvera (None, 144)          0           block2b_activation[0][0]         \n",
            "__________________________________________________________________________________________________\n",
            "block2b_se_reshape (Reshape)    (None, 1, 1, 144)    0           block2b_se_squeeze[0][0]         \n",
            "__________________________________________________________________________________________________\n",
            "block2b_se_reduce (Conv2D)      (None, 1, 1, 6)      870         block2b_se_reshape[0][0]         \n",
            "__________________________________________________________________________________________________\n",
            "block2b_se_expand (Conv2D)      (None, 1, 1, 144)    1008        block2b_se_reduce[0][0]          \n",
            "__________________________________________________________________________________________________\n",
            "block2b_se_excite (Multiply)    (None, 56, 56, 144)  0           block2b_activation[0][0]         \n",
            "                                                                 block2b_se_expand[0][0]          \n",
            "__________________________________________________________________________________________________\n",
            "block2b_project_conv (Conv2D)   (None, 56, 56, 24)   3456        block2b_se_excite[0][0]          \n",
            "__________________________________________________________________________________________________\n",
            "block2b_project_bn (BatchNormal (None, 56, 56, 24)   96          block2b_project_conv[0][0]       \n",
            "__________________________________________________________________________________________________\n",
            "block2b_drop (Dropout)          (None, 56, 56, 24)   0           block2b_project_bn[0][0]         \n",
            "__________________________________________________________________________________________________\n",
            "block2b_add (Add)               (None, 56, 56, 24)   0           block2b_drop[0][0]               \n",
            "                                                                 block2a_project_bn[0][0]         \n",
            "__________________________________________________________________________________________________\n",
            "block3a_expand_conv (Conv2D)    (None, 56, 56, 144)  3456        block2b_add[0][0]                \n",
            "__________________________________________________________________________________________________\n",
            "block3a_expand_bn (BatchNormali (None, 56, 56, 144)  576         block3a_expand_conv[0][0]        \n",
            "__________________________________________________________________________________________________\n",
            "block3a_expand_activation (Acti (None, 56, 56, 144)  0           block3a_expand_bn[0][0]          \n",
            "__________________________________________________________________________________________________\n",
            "block3a_dwconv_pad (ZeroPadding (None, 59, 59, 144)  0           block3a_expand_activation[0][0]  \n",
            "__________________________________________________________________________________________________\n",
            "block3a_dwconv (DepthwiseConv2D (None, 28, 28, 144)  3600        block3a_dwconv_pad[0][0]         \n",
            "__________________________________________________________________________________________________\n",
            "block3a_bn (BatchNormalization) (None, 28, 28, 144)  576         block3a_dwconv[0][0]             \n",
            "__________________________________________________________________________________________________\n",
            "block3a_activation (Activation) (None, 28, 28, 144)  0           block3a_bn[0][0]                 \n",
            "__________________________________________________________________________________________________\n",
            "block3a_se_squeeze (GlobalAvera (None, 144)          0           block3a_activation[0][0]         \n",
            "__________________________________________________________________________________________________\n",
            "block3a_se_reshape (Reshape)    (None, 1, 1, 144)    0           block3a_se_squeeze[0][0]         \n",
            "__________________________________________________________________________________________________\n",
            "block3a_se_reduce (Conv2D)      (None, 1, 1, 6)      870         block3a_se_reshape[0][0]         \n",
            "__________________________________________________________________________________________________\n",
            "block3a_se_expand (Conv2D)      (None, 1, 1, 144)    1008        block3a_se_reduce[0][0]          \n",
            "__________________________________________________________________________________________________\n",
            "block3a_se_excite (Multiply)    (None, 28, 28, 144)  0           block3a_activation[0][0]         \n",
            "                                                                 block3a_se_expand[0][0]          \n",
            "__________________________________________________________________________________________________\n",
            "block3a_project_conv (Conv2D)   (None, 28, 28, 40)   5760        block3a_se_excite[0][0]          \n",
            "__________________________________________________________________________________________________\n",
            "block3a_project_bn (BatchNormal (None, 28, 28, 40)   160         block3a_project_conv[0][0]       \n",
            "__________________________________________________________________________________________________\n",
            "block3b_expand_conv (Conv2D)    (None, 28, 28, 240)  9600        block3a_project_bn[0][0]         \n",
            "__________________________________________________________________________________________________\n",
            "block3b_expand_bn (BatchNormali (None, 28, 28, 240)  960         block3b_expand_conv[0][0]        \n",
            "__________________________________________________________________________________________________\n",
            "block3b_expand_activation (Acti (None, 28, 28, 240)  0           block3b_expand_bn[0][0]          \n",
            "__________________________________________________________________________________________________\n",
            "block3b_dwconv (DepthwiseConv2D (None, 28, 28, 240)  6000        block3b_expand_activation[0][0]  \n",
            "__________________________________________________________________________________________________\n",
            "block3b_bn (BatchNormalization) (None, 28, 28, 240)  960         block3b_dwconv[0][0]             \n",
            "__________________________________________________________________________________________________\n",
            "block3b_activation (Activation) (None, 28, 28, 240)  0           block3b_bn[0][0]                 \n",
            "__________________________________________________________________________________________________\n",
            "block3b_se_squeeze (GlobalAvera (None, 240)          0           block3b_activation[0][0]         \n",
            "__________________________________________________________________________________________________\n",
            "block3b_se_reshape (Reshape)    (None, 1, 1, 240)    0           block3b_se_squeeze[0][0]         \n",
            "__________________________________________________________________________________________________\n",
            "block3b_se_reduce (Conv2D)      (None, 1, 1, 10)     2410        block3b_se_reshape[0][0]         \n",
            "__________________________________________________________________________________________________\n",
            "block3b_se_expand (Conv2D)      (None, 1, 1, 240)    2640        block3b_se_reduce[0][0]          \n",
            "__________________________________________________________________________________________________\n",
            "block3b_se_excite (Multiply)    (None, 28, 28, 240)  0           block3b_activation[0][0]         \n",
            "                                                                 block3b_se_expand[0][0]          \n",
            "__________________________________________________________________________________________________\n",
            "block3b_project_conv (Conv2D)   (None, 28, 28, 40)   9600        block3b_se_excite[0][0]          \n",
            "__________________________________________________________________________________________________\n",
            "block3b_project_bn (BatchNormal (None, 28, 28, 40)   160         block3b_project_conv[0][0]       \n",
            "__________________________________________________________________________________________________\n",
            "block3b_drop (Dropout)          (None, 28, 28, 40)   0           block3b_project_bn[0][0]         \n",
            "__________________________________________________________________________________________________\n",
            "block3b_add (Add)               (None, 28, 28, 40)   0           block3b_drop[0][0]               \n",
            "                                                                 block3a_project_bn[0][0]         \n",
            "__________________________________________________________________________________________________\n",
            "block4a_expand_conv (Conv2D)    (None, 28, 28, 240)  9600        block3b_add[0][0]                \n",
            "__________________________________________________________________________________________________\n",
            "block4a_expand_bn (BatchNormali (None, 28, 28, 240)  960         block4a_expand_conv[0][0]        \n",
            "__________________________________________________________________________________________________\n",
            "block4a_expand_activation (Acti (None, 28, 28, 240)  0           block4a_expand_bn[0][0]          \n",
            "__________________________________________________________________________________________________\n",
            "block4a_dwconv_pad (ZeroPadding (None, 29, 29, 240)  0           block4a_expand_activation[0][0]  \n",
            "__________________________________________________________________________________________________\n",
            "block4a_dwconv (DepthwiseConv2D (None, 14, 14, 240)  2160        block4a_dwconv_pad[0][0]         \n",
            "__________________________________________________________________________________________________\n",
            "block4a_bn (BatchNormalization) (None, 14, 14, 240)  960         block4a_dwconv[0][0]             \n",
            "__________________________________________________________________________________________________\n",
            "block4a_activation (Activation) (None, 14, 14, 240)  0           block4a_bn[0][0]                 \n",
            "__________________________________________________________________________________________________\n",
            "block4a_se_squeeze (GlobalAvera (None, 240)          0           block4a_activation[0][0]         \n",
            "__________________________________________________________________________________________________\n",
            "block4a_se_reshape (Reshape)    (None, 1, 1, 240)    0           block4a_se_squeeze[0][0]         \n",
            "__________________________________________________________________________________________________\n",
            "block4a_se_reduce (Conv2D)      (None, 1, 1, 10)     2410        block4a_se_reshape[0][0]         \n",
            "__________________________________________________________________________________________________\n",
            "block4a_se_expand (Conv2D)      (None, 1, 1, 240)    2640        block4a_se_reduce[0][0]          \n",
            "__________________________________________________________________________________________________\n",
            "block4a_se_excite (Multiply)    (None, 14, 14, 240)  0           block4a_activation[0][0]         \n",
            "                                                                 block4a_se_expand[0][0]          \n",
            "__________________________________________________________________________________________________\n",
            "block4a_project_conv (Conv2D)   (None, 14, 14, 80)   19200       block4a_se_excite[0][0]          \n",
            "__________________________________________________________________________________________________\n",
            "block4a_project_bn (BatchNormal (None, 14, 14, 80)   320         block4a_project_conv[0][0]       \n",
            "__________________________________________________________________________________________________\n",
            "block4b_expand_conv (Conv2D)    (None, 14, 14, 480)  38400       block4a_project_bn[0][0]         \n",
            "__________________________________________________________________________________________________\n",
            "block4b_expand_bn (BatchNormali (None, 14, 14, 480)  1920        block4b_expand_conv[0][0]        \n",
            "__________________________________________________________________________________________________\n",
            "block4b_expand_activation (Acti (None, 14, 14, 480)  0           block4b_expand_bn[0][0]          \n",
            "__________________________________________________________________________________________________\n",
            "block4b_dwconv (DepthwiseConv2D (None, 14, 14, 480)  4320        block4b_expand_activation[0][0]  \n",
            "__________________________________________________________________________________________________\n",
            "block4b_bn (BatchNormalization) (None, 14, 14, 480)  1920        block4b_dwconv[0][0]             \n",
            "__________________________________________________________________________________________________\n",
            "block4b_activation (Activation) (None, 14, 14, 480)  0           block4b_bn[0][0]                 \n",
            "__________________________________________________________________________________________________\n",
            "block4b_se_squeeze (GlobalAvera (None, 480)          0           block4b_activation[0][0]         \n",
            "__________________________________________________________________________________________________\n",
            "block4b_se_reshape (Reshape)    (None, 1, 1, 480)    0           block4b_se_squeeze[0][0]         \n",
            "__________________________________________________________________________________________________\n",
            "block4b_se_reduce (Conv2D)      (None, 1, 1, 20)     9620        block4b_se_reshape[0][0]         \n",
            "__________________________________________________________________________________________________\n",
            "block4b_se_expand (Conv2D)      (None, 1, 1, 480)    10080       block4b_se_reduce[0][0]          \n",
            "__________________________________________________________________________________________________\n",
            "block4b_se_excite (Multiply)    (None, 14, 14, 480)  0           block4b_activation[0][0]         \n",
            "                                                                 block4b_se_expand[0][0]          \n",
            "__________________________________________________________________________________________________\n",
            "block4b_project_conv (Conv2D)   (None, 14, 14, 80)   38400       block4b_se_excite[0][0]          \n",
            "__________________________________________________________________________________________________\n",
            "block4b_project_bn (BatchNormal (None, 14, 14, 80)   320         block4b_project_conv[0][0]       \n",
            "__________________________________________________________________________________________________\n",
            "block4b_drop (Dropout)          (None, 14, 14, 80)   0           block4b_project_bn[0][0]         \n",
            "__________________________________________________________________________________________________\n",
            "block4b_add (Add)               (None, 14, 14, 80)   0           block4b_drop[0][0]               \n",
            "                                                                 block4a_project_bn[0][0]         \n",
            "__________________________________________________________________________________________________\n",
            "block4c_expand_conv (Conv2D)    (None, 14, 14, 480)  38400       block4b_add[0][0]                \n",
            "__________________________________________________________________________________________________\n",
            "block4c_expand_bn (BatchNormali (None, 14, 14, 480)  1920        block4c_expand_conv[0][0]        \n",
            "__________________________________________________________________________________________________\n",
            "block4c_expand_activation (Acti (None, 14, 14, 480)  0           block4c_expand_bn[0][0]          \n",
            "__________________________________________________________________________________________________\n",
            "block4c_dwconv (DepthwiseConv2D (None, 14, 14, 480)  4320        block4c_expand_activation[0][0]  \n",
            "__________________________________________________________________________________________________\n",
            "block4c_bn (BatchNormalization) (None, 14, 14, 480)  1920        block4c_dwconv[0][0]             \n",
            "__________________________________________________________________________________________________\n",
            "block4c_activation (Activation) (None, 14, 14, 480)  0           block4c_bn[0][0]                 \n",
            "__________________________________________________________________________________________________\n",
            "block4c_se_squeeze (GlobalAvera (None, 480)          0           block4c_activation[0][0]         \n",
            "__________________________________________________________________________________________________\n",
            "block4c_se_reshape (Reshape)    (None, 1, 1, 480)    0           block4c_se_squeeze[0][0]         \n",
            "__________________________________________________________________________________________________\n",
            "block4c_se_reduce (Conv2D)      (None, 1, 1, 20)     9620        block4c_se_reshape[0][0]         \n",
            "__________________________________________________________________________________________________\n",
            "block4c_se_expand (Conv2D)      (None, 1, 1, 480)    10080       block4c_se_reduce[0][0]          \n",
            "__________________________________________________________________________________________________\n",
            "block4c_se_excite (Multiply)    (None, 14, 14, 480)  0           block4c_activation[0][0]         \n",
            "                                                                 block4c_se_expand[0][0]          \n",
            "__________________________________________________________________________________________________\n",
            "block4c_project_conv (Conv2D)   (None, 14, 14, 80)   38400       block4c_se_excite[0][0]          \n",
            "__________________________________________________________________________________________________\n",
            "block4c_project_bn (BatchNormal (None, 14, 14, 80)   320         block4c_project_conv[0][0]       \n",
            "__________________________________________________________________________________________________\n",
            "block4c_drop (Dropout)          (None, 14, 14, 80)   0           block4c_project_bn[0][0]         \n",
            "__________________________________________________________________________________________________\n",
            "block4c_add (Add)               (None, 14, 14, 80)   0           block4c_drop[0][0]               \n",
            "                                                                 block4b_add[0][0]                \n",
            "__________________________________________________________________________________________________\n",
            "block5a_expand_conv (Conv2D)    (None, 14, 14, 480)  38400       block4c_add[0][0]                \n",
            "__________________________________________________________________________________________________\n",
            "block5a_expand_bn (BatchNormali (None, 14, 14, 480)  1920        block5a_expand_conv[0][0]        \n",
            "__________________________________________________________________________________________________\n",
            "block5a_expand_activation (Acti (None, 14, 14, 480)  0           block5a_expand_bn[0][0]          \n",
            "__________________________________________________________________________________________________\n",
            "block5a_dwconv (DepthwiseConv2D (None, 14, 14, 480)  12000       block5a_expand_activation[0][0]  \n",
            "__________________________________________________________________________________________________\n",
            "block5a_bn (BatchNormalization) (None, 14, 14, 480)  1920        block5a_dwconv[0][0]             \n",
            "__________________________________________________________________________________________________\n",
            "block5a_activation (Activation) (None, 14, 14, 480)  0           block5a_bn[0][0]                 \n",
            "__________________________________________________________________________________________________\n",
            "block5a_se_squeeze (GlobalAvera (None, 480)          0           block5a_activation[0][0]         \n",
            "__________________________________________________________________________________________________\n",
            "block5a_se_reshape (Reshape)    (None, 1, 1, 480)    0           block5a_se_squeeze[0][0]         \n",
            "__________________________________________________________________________________________________\n",
            "block5a_se_reduce (Conv2D)      (None, 1, 1, 20)     9620        block5a_se_reshape[0][0]         \n",
            "__________________________________________________________________________________________________\n",
            "block5a_se_expand (Conv2D)      (None, 1, 1, 480)    10080       block5a_se_reduce[0][0]          \n",
            "__________________________________________________________________________________________________\n",
            "block5a_se_excite (Multiply)    (None, 14, 14, 480)  0           block5a_activation[0][0]         \n",
            "                                                                 block5a_se_expand[0][0]          \n",
            "__________________________________________________________________________________________________\n",
            "block5a_project_conv (Conv2D)   (None, 14, 14, 112)  53760       block5a_se_excite[0][0]          \n",
            "__________________________________________________________________________________________________\n",
            "block5a_project_bn (BatchNormal (None, 14, 14, 112)  448         block5a_project_conv[0][0]       \n",
            "__________________________________________________________________________________________________\n",
            "block5b_expand_conv (Conv2D)    (None, 14, 14, 672)  75264       block5a_project_bn[0][0]         \n",
            "__________________________________________________________________________________________________\n",
            "block5b_expand_bn (BatchNormali (None, 14, 14, 672)  2688        block5b_expand_conv[0][0]        \n",
            "__________________________________________________________________________________________________\n",
            "block5b_expand_activation (Acti (None, 14, 14, 672)  0           block5b_expand_bn[0][0]          \n",
            "__________________________________________________________________________________________________\n",
            "block5b_dwconv (DepthwiseConv2D (None, 14, 14, 672)  16800       block5b_expand_activation[0][0]  \n",
            "__________________________________________________________________________________________________\n",
            "block5b_bn (BatchNormalization) (None, 14, 14, 672)  2688        block5b_dwconv[0][0]             \n",
            "__________________________________________________________________________________________________\n",
            "block5b_activation (Activation) (None, 14, 14, 672)  0           block5b_bn[0][0]                 \n",
            "__________________________________________________________________________________________________\n",
            "block5b_se_squeeze (GlobalAvera (None, 672)          0           block5b_activation[0][0]         \n",
            "__________________________________________________________________________________________________\n",
            "block5b_se_reshape (Reshape)    (None, 1, 1, 672)    0           block5b_se_squeeze[0][0]         \n",
            "__________________________________________________________________________________________________\n",
            "block5b_se_reduce (Conv2D)      (None, 1, 1, 28)     18844       block5b_se_reshape[0][0]         \n",
            "__________________________________________________________________________________________________\n",
            "block5b_se_expand (Conv2D)      (None, 1, 1, 672)    19488       block5b_se_reduce[0][0]          \n",
            "__________________________________________________________________________________________________\n",
            "block5b_se_excite (Multiply)    (None, 14, 14, 672)  0           block5b_activation[0][0]         \n",
            "                                                                 block5b_se_expand[0][0]          \n",
            "__________________________________________________________________________________________________\n",
            "block5b_project_conv (Conv2D)   (None, 14, 14, 112)  75264       block5b_se_excite[0][0]          \n",
            "__________________________________________________________________________________________________\n",
            "block5b_project_bn (BatchNormal (None, 14, 14, 112)  448         block5b_project_conv[0][0]       \n",
            "__________________________________________________________________________________________________\n",
            "block5b_drop (Dropout)          (None, 14, 14, 112)  0           block5b_project_bn[0][0]         \n",
            "__________________________________________________________________________________________________\n",
            "block5b_add (Add)               (None, 14, 14, 112)  0           block5b_drop[0][0]               \n",
            "                                                                 block5a_project_bn[0][0]         \n",
            "__________________________________________________________________________________________________\n",
            "block5c_expand_conv (Conv2D)    (None, 14, 14, 672)  75264       block5b_add[0][0]                \n",
            "__________________________________________________________________________________________________\n",
            "block5c_expand_bn (BatchNormali (None, 14, 14, 672)  2688        block5c_expand_conv[0][0]        \n",
            "__________________________________________________________________________________________________\n",
            "block5c_expand_activation (Acti (None, 14, 14, 672)  0           block5c_expand_bn[0][0]          \n",
            "__________________________________________________________________________________________________\n",
            "block5c_dwconv (DepthwiseConv2D (None, 14, 14, 672)  16800       block5c_expand_activation[0][0]  \n",
            "__________________________________________________________________________________________________\n",
            "block5c_bn (BatchNormalization) (None, 14, 14, 672)  2688        block5c_dwconv[0][0]             \n",
            "__________________________________________________________________________________________________\n",
            "block5c_activation (Activation) (None, 14, 14, 672)  0           block5c_bn[0][0]                 \n",
            "__________________________________________________________________________________________________\n",
            "block5c_se_squeeze (GlobalAvera (None, 672)          0           block5c_activation[0][0]         \n",
            "__________________________________________________________________________________________________\n",
            "block5c_se_reshape (Reshape)    (None, 1, 1, 672)    0           block5c_se_squeeze[0][0]         \n",
            "__________________________________________________________________________________________________\n",
            "block5c_se_reduce (Conv2D)      (None, 1, 1, 28)     18844       block5c_se_reshape[0][0]         \n",
            "__________________________________________________________________________________________________\n",
            "block5c_se_expand (Conv2D)      (None, 1, 1, 672)    19488       block5c_se_reduce[0][0]          \n",
            "__________________________________________________________________________________________________\n",
            "block5c_se_excite (Multiply)    (None, 14, 14, 672)  0           block5c_activation[0][0]         \n",
            "                                                                 block5c_se_expand[0][0]          \n",
            "__________________________________________________________________________________________________\n",
            "block5c_project_conv (Conv2D)   (None, 14, 14, 112)  75264       block5c_se_excite[0][0]          \n",
            "__________________________________________________________________________________________________\n",
            "block5c_project_bn (BatchNormal (None, 14, 14, 112)  448         block5c_project_conv[0][0]       \n",
            "__________________________________________________________________________________________________\n",
            "block5c_drop (Dropout)          (None, 14, 14, 112)  0           block5c_project_bn[0][0]         \n",
            "__________________________________________________________________________________________________\n",
            "block5c_add (Add)               (None, 14, 14, 112)  0           block5c_drop[0][0]               \n",
            "                                                                 block5b_add[0][0]                \n",
            "__________________________________________________________________________________________________\n",
            "block6a_expand_conv (Conv2D)    (None, 14, 14, 672)  75264       block5c_add[0][0]                \n",
            "__________________________________________________________________________________________________\n",
            "block6a_expand_bn (BatchNormali (None, 14, 14, 672)  2688        block6a_expand_conv[0][0]        \n",
            "__________________________________________________________________________________________________\n",
            "block6a_expand_activation (Acti (None, 14, 14, 672)  0           block6a_expand_bn[0][0]          \n",
            "__________________________________________________________________________________________________\n",
            "block6a_dwconv_pad (ZeroPadding (None, 17, 17, 672)  0           block6a_expand_activation[0][0]  \n",
            "__________________________________________________________________________________________________\n",
            "block6a_dwconv (DepthwiseConv2D (None, 7, 7, 672)    16800       block6a_dwconv_pad[0][0]         \n",
            "__________________________________________________________________________________________________\n",
            "block6a_bn (BatchNormalization) (None, 7, 7, 672)    2688        block6a_dwconv[0][0]             \n",
            "__________________________________________________________________________________________________\n",
            "block6a_activation (Activation) (None, 7, 7, 672)    0           block6a_bn[0][0]                 \n",
            "__________________________________________________________________________________________________\n",
            "block6a_se_squeeze (GlobalAvera (None, 672)          0           block6a_activation[0][0]         \n",
            "__________________________________________________________________________________________________\n",
            "block6a_se_reshape (Reshape)    (None, 1, 1, 672)    0           block6a_se_squeeze[0][0]         \n",
            "__________________________________________________________________________________________________\n",
            "block6a_se_reduce (Conv2D)      (None, 1, 1, 28)     18844       block6a_se_reshape[0][0]         \n",
            "__________________________________________________________________________________________________\n",
            "block6a_se_expand (Conv2D)      (None, 1, 1, 672)    19488       block6a_se_reduce[0][0]          \n",
            "__________________________________________________________________________________________________\n",
            "block6a_se_excite (Multiply)    (None, 7, 7, 672)    0           block6a_activation[0][0]         \n",
            "                                                                 block6a_se_expand[0][0]          \n",
            "__________________________________________________________________________________________________\n",
            "block6a_project_conv (Conv2D)   (None, 7, 7, 192)    129024      block6a_se_excite[0][0]          \n",
            "__________________________________________________________________________________________________\n",
            "block6a_project_bn (BatchNormal (None, 7, 7, 192)    768         block6a_project_conv[0][0]       \n",
            "__________________________________________________________________________________________________\n",
            "block6b_expand_conv (Conv2D)    (None, 7, 7, 1152)   221184      block6a_project_bn[0][0]         \n",
            "__________________________________________________________________________________________________\n",
            "block6b_expand_bn (BatchNormali (None, 7, 7, 1152)   4608        block6b_expand_conv[0][0]        \n",
            "__________________________________________________________________________________________________\n",
            "block6b_expand_activation (Acti (None, 7, 7, 1152)   0           block6b_expand_bn[0][0]          \n",
            "__________________________________________________________________________________________________\n",
            "block6b_dwconv (DepthwiseConv2D (None, 7, 7, 1152)   28800       block6b_expand_activation[0][0]  \n",
            "__________________________________________________________________________________________________\n",
            "block6b_bn (BatchNormalization) (None, 7, 7, 1152)   4608        block6b_dwconv[0][0]             \n",
            "__________________________________________________________________________________________________\n",
            "block6b_activation (Activation) (None, 7, 7, 1152)   0           block6b_bn[0][0]                 \n",
            "__________________________________________________________________________________________________\n",
            "block6b_se_squeeze (GlobalAvera (None, 1152)         0           block6b_activation[0][0]         \n",
            "__________________________________________________________________________________________________\n",
            "block6b_se_reshape (Reshape)    (None, 1, 1, 1152)   0           block6b_se_squeeze[0][0]         \n",
            "__________________________________________________________________________________________________\n",
            "block6b_se_reduce (Conv2D)      (None, 1, 1, 48)     55344       block6b_se_reshape[0][0]         \n",
            "__________________________________________________________________________________________________\n",
            "block6b_se_expand (Conv2D)      (None, 1, 1, 1152)   56448       block6b_se_reduce[0][0]          \n",
            "__________________________________________________________________________________________________\n",
            "block6b_se_excite (Multiply)    (None, 7, 7, 1152)   0           block6b_activation[0][0]         \n",
            "                                                                 block6b_se_expand[0][0]          \n",
            "__________________________________________________________________________________________________\n",
            "block6b_project_conv (Conv2D)   (None, 7, 7, 192)    221184      block6b_se_excite[0][0]          \n",
            "__________________________________________________________________________________________________\n",
            "block6b_project_bn (BatchNormal (None, 7, 7, 192)    768         block6b_project_conv[0][0]       \n",
            "__________________________________________________________________________________________________\n",
            "block6b_drop (Dropout)          (None, 7, 7, 192)    0           block6b_project_bn[0][0]         \n",
            "__________________________________________________________________________________________________\n",
            "block6b_add (Add)               (None, 7, 7, 192)    0           block6b_drop[0][0]               \n",
            "                                                                 block6a_project_bn[0][0]         \n",
            "__________________________________________________________________________________________________\n",
            "block6c_expand_conv (Conv2D)    (None, 7, 7, 1152)   221184      block6b_add[0][0]                \n",
            "__________________________________________________________________________________________________\n",
            "block6c_expand_bn (BatchNormali (None, 7, 7, 1152)   4608        block6c_expand_conv[0][0]        \n",
            "__________________________________________________________________________________________________\n",
            "block6c_expand_activation (Acti (None, 7, 7, 1152)   0           block6c_expand_bn[0][0]          \n",
            "__________________________________________________________________________________________________\n",
            "block6c_dwconv (DepthwiseConv2D (None, 7, 7, 1152)   28800       block6c_expand_activation[0][0]  \n",
            "__________________________________________________________________________________________________\n",
            "block6c_bn (BatchNormalization) (None, 7, 7, 1152)   4608        block6c_dwconv[0][0]             \n",
            "__________________________________________________________________________________________________\n",
            "block6c_activation (Activation) (None, 7, 7, 1152)   0           block6c_bn[0][0]                 \n",
            "__________________________________________________________________________________________________\n",
            "block6c_se_squeeze (GlobalAvera (None, 1152)         0           block6c_activation[0][0]         \n",
            "__________________________________________________________________________________________________\n",
            "block6c_se_reshape (Reshape)    (None, 1, 1, 1152)   0           block6c_se_squeeze[0][0]         \n",
            "__________________________________________________________________________________________________\n",
            "block6c_se_reduce (Conv2D)      (None, 1, 1, 48)     55344       block6c_se_reshape[0][0]         \n",
            "__________________________________________________________________________________________________\n",
            "block6c_se_expand (Conv2D)      (None, 1, 1, 1152)   56448       block6c_se_reduce[0][0]          \n",
            "__________________________________________________________________________________________________\n",
            "block6c_se_excite (Multiply)    (None, 7, 7, 1152)   0           block6c_activation[0][0]         \n",
            "                                                                 block6c_se_expand[0][0]          \n",
            "__________________________________________________________________________________________________\n",
            "block6c_project_conv (Conv2D)   (None, 7, 7, 192)    221184      block6c_se_excite[0][0]          \n",
            "__________________________________________________________________________________________________\n",
            "block6c_project_bn (BatchNormal (None, 7, 7, 192)    768         block6c_project_conv[0][0]       \n",
            "__________________________________________________________________________________________________\n",
            "block6c_drop (Dropout)          (None, 7, 7, 192)    0           block6c_project_bn[0][0]         \n",
            "__________________________________________________________________________________________________\n",
            "block6c_add (Add)               (None, 7, 7, 192)    0           block6c_drop[0][0]               \n",
            "                                                                 block6b_add[0][0]                \n",
            "__________________________________________________________________________________________________\n",
            "block6d_expand_conv (Conv2D)    (None, 7, 7, 1152)   221184      block6c_add[0][0]                \n",
            "__________________________________________________________________________________________________\n",
            "block6d_expand_bn (BatchNormali (None, 7, 7, 1152)   4608        block6d_expand_conv[0][0]        \n",
            "__________________________________________________________________________________________________\n",
            "block6d_expand_activation (Acti (None, 7, 7, 1152)   0           block6d_expand_bn[0][0]          \n",
            "__________________________________________________________________________________________________\n",
            "block6d_dwconv (DepthwiseConv2D (None, 7, 7, 1152)   28800       block6d_expand_activation[0][0]  \n",
            "__________________________________________________________________________________________________\n",
            "block6d_bn (BatchNormalization) (None, 7, 7, 1152)   4608        block6d_dwconv[0][0]             \n",
            "__________________________________________________________________________________________________\n",
            "block6d_activation (Activation) (None, 7, 7, 1152)   0           block6d_bn[0][0]                 \n",
            "__________________________________________________________________________________________________\n",
            "block6d_se_squeeze (GlobalAvera (None, 1152)         0           block6d_activation[0][0]         \n",
            "__________________________________________________________________________________________________\n",
            "block6d_se_reshape (Reshape)    (None, 1, 1, 1152)   0           block6d_se_squeeze[0][0]         \n",
            "__________________________________________________________________________________________________\n",
            "block6d_se_reduce (Conv2D)      (None, 1, 1, 48)     55344       block6d_se_reshape[0][0]         \n",
            "__________________________________________________________________________________________________\n",
            "block6d_se_expand (Conv2D)      (None, 1, 1, 1152)   56448       block6d_se_reduce[0][0]          \n",
            "__________________________________________________________________________________________________\n",
            "block6d_se_excite (Multiply)    (None, 7, 7, 1152)   0           block6d_activation[0][0]         \n",
            "                                                                 block6d_se_expand[0][0]          \n",
            "__________________________________________________________________________________________________\n",
            "block6d_project_conv (Conv2D)   (None, 7, 7, 192)    221184      block6d_se_excite[0][0]          \n",
            "__________________________________________________________________________________________________\n",
            "block6d_project_bn (BatchNormal (None, 7, 7, 192)    768         block6d_project_conv[0][0]       \n",
            "__________________________________________________________________________________________________\n",
            "block6d_drop (Dropout)          (None, 7, 7, 192)    0           block6d_project_bn[0][0]         \n",
            "__________________________________________________________________________________________________\n",
            "block6d_add (Add)               (None, 7, 7, 192)    0           block6d_drop[0][0]               \n",
            "                                                                 block6c_add[0][0]                \n",
            "__________________________________________________________________________________________________\n",
            "block7a_expand_conv (Conv2D)    (None, 7, 7, 1152)   221184      block6d_add[0][0]                \n",
            "__________________________________________________________________________________________________\n",
            "block7a_expand_bn (BatchNormali (None, 7, 7, 1152)   4608        block7a_expand_conv[0][0]        \n",
            "__________________________________________________________________________________________________\n",
            "block7a_expand_activation (Acti (None, 7, 7, 1152)   0           block7a_expand_bn[0][0]          \n",
            "__________________________________________________________________________________________________\n",
            "block7a_dwconv (DepthwiseConv2D (None, 7, 7, 1152)   10368       block7a_expand_activation[0][0]  \n",
            "__________________________________________________________________________________________________\n",
            "block7a_bn (BatchNormalization) (None, 7, 7, 1152)   4608        block7a_dwconv[0][0]             \n",
            "__________________________________________________________________________________________________\n",
            "block7a_activation (Activation) (None, 7, 7, 1152)   0           block7a_bn[0][0]                 \n",
            "__________________________________________________________________________________________________\n",
            "block7a_se_squeeze (GlobalAvera (None, 1152)         0           block7a_activation[0][0]         \n",
            "__________________________________________________________________________________________________\n",
            "block7a_se_reshape (Reshape)    (None, 1, 1, 1152)   0           block7a_se_squeeze[0][0]         \n",
            "__________________________________________________________________________________________________\n",
            "block7a_se_reduce (Conv2D)      (None, 1, 1, 48)     55344       block7a_se_reshape[0][0]         \n",
            "__________________________________________________________________________________________________\n",
            "block7a_se_expand (Conv2D)      (None, 1, 1, 1152)   56448       block7a_se_reduce[0][0]          \n",
            "__________________________________________________________________________________________________\n",
            "block7a_se_excite (Multiply)    (None, 7, 7, 1152)   0           block7a_activation[0][0]         \n",
            "                                                                 block7a_se_expand[0][0]          \n",
            "__________________________________________________________________________________________________\n",
            "block7a_project_conv (Conv2D)   (None, 7, 7, 320)    368640      block7a_se_excite[0][0]          \n",
            "__________________________________________________________________________________________________\n",
            "block7a_project_bn (BatchNormal (None, 7, 7, 320)    1280        block7a_project_conv[0][0]       \n",
            "__________________________________________________________________________________________________\n",
            "top_conv (Conv2D)               (None, 7, 7, 1280)   409600      block7a_project_bn[0][0]         \n",
            "__________________________________________________________________________________________________\n",
            "top_bn (BatchNormalization)     (None, 7, 7, 1280)   5120        top_conv[0][0]                   \n",
            "__________________________________________________________________________________________________\n",
            "top_activation (Activation)     (None, 7, 7, 1280)   0           top_bn[0][0]                     \n",
            "__________________________________________________________________________________________________\n",
            "avg_pool (GlobalAveragePooling2 (None, 1280)         0           top_activation[0][0]             \n",
            "__________________________________________________________________________________________________\n",
            "batch_normalization_8 (BatchNor (None, 1280)         5120        avg_pool[0][0]                   \n",
            "__________________________________________________________________________________________________\n",
            "top_dropout (Dropout)           (None, 1280)         0           batch_normalization_8[0][0]      \n",
            "__________________________________________________________________________________________________\n",
            "pred (Dense)                    (None, 20)           25620       top_dropout[0][0]                \n",
            "==================================================================================================\n",
            "Total params: 4,080,311\n",
            "Trainable params: 28,180\n",
            "Non-trainable params: 4,052,131\n",
            "__________________________________________________________________________________________________\n"
          ],
          "name": "stdout"
        }
      ]
    },
    {
      "cell_type": "markdown",
      "metadata": {
        "colab_type": "text",
        "id": "Eo2fozgd34pY"
      },
      "source": [
        "The first step to transfer learning is to freeze all layers and train only the top\n",
        "layers. For this step, a relatively large learning rate (1e-2) can be used.\n",
        "Note that validation accuracy and loss will usually be better than training\n",
        "accuracy and loss. This is because the regularization is strong, which only\n",
        "suppresses training-time metrics.\n",
        "\n",
        "Note that the convergence may take up to 50 epochs depending on choice of learning rate.\n",
        "If image augmentation layers were not\n",
        "applied, the validation accuracy may only reach ~60%."
      ]
    },
    {
      "cell_type": "code",
      "metadata": {
        "colab_type": "code",
        "id": "iiYX3G2U34pZ",
        "colab": {
          "base_uri": "https://localhost:8080/",
          "height": 970
        },
        "outputId": "852248ac-821b-4773-affd-08c7e0db408e"
      },
      "source": [
        "epochs = 50  # @param {type: \"slider\", min:8, max:80}\n",
        "hist = model.fit(train_data_gen,\n",
        "                 epochs=epochs,\n",
        "                 validation_data=val_data_gen,\n",
        "                 verbose=2)\n",
        "plot_hist(hist)"
      ],
      "execution_count": null,
      "outputs": [
        {
          "output_type": "stream",
          "text": [
            "Epoch 1/50\n",
            "55/55 - 79s - loss: 3.1868 - accuracy: 0.0514 - val_loss: 2.9724 - val_accuracy: 0.0775\n",
            "Epoch 2/50\n",
            "55/55 - 76s - loss: 3.1486 - accuracy: 0.0565 - val_loss: 2.9703 - val_accuracy: 0.0775\n",
            "Epoch 3/50\n",
            "55/55 - 77s - loss: 3.1413 - accuracy: 0.0622 - val_loss: 2.9693 - val_accuracy: 0.0775\n",
            "Epoch 4/50\n",
            "55/55 - 76s - loss: 3.1175 - accuracy: 0.0634 - val_loss: 2.9691 - val_accuracy: 0.0775\n",
            "Epoch 5/50\n",
            "55/55 - 77s - loss: 3.1284 - accuracy: 0.0625 - val_loss: 2.9690 - val_accuracy: 0.0775\n",
            "Epoch 6/50\n",
            "55/55 - 77s - loss: 3.1311 - accuracy: 0.0688 - val_loss: 2.9678 - val_accuracy: 0.0775\n",
            "Epoch 7/50\n",
            "55/55 - 77s - loss: 3.1243 - accuracy: 0.0676 - val_loss: 2.9672 - val_accuracy: 0.0768\n",
            "Epoch 8/50\n",
            "55/55 - 77s - loss: 3.1040 - accuracy: 0.0619 - val_loss: 2.9667 - val_accuracy: 0.0782\n",
            "Epoch 9/50\n",
            "55/55 - 77s - loss: 3.0922 - accuracy: 0.0682 - val_loss: 2.9666 - val_accuracy: 0.0789\n",
            "Epoch 10/50\n",
            "55/55 - 77s - loss: 3.1102 - accuracy: 0.0679 - val_loss: 2.9701 - val_accuracy: 0.0823\n",
            "Epoch 11/50\n",
            "55/55 - 77s - loss: 3.1106 - accuracy: 0.0676 - val_loss: 2.9738 - val_accuracy: 0.0768\n",
            "Epoch 12/50\n",
            "55/55 - 77s - loss: 3.1010 - accuracy: 0.0636 - val_loss: 2.9795 - val_accuracy: 0.0562\n",
            "Epoch 13/50\n",
            "55/55 - 77s - loss: 3.0879 - accuracy: 0.0662 - val_loss: 2.9886 - val_accuracy: 0.0576\n",
            "Epoch 14/50\n",
            "55/55 - 77s - loss: 3.1013 - accuracy: 0.0619 - val_loss: 2.9870 - val_accuracy: 0.0528\n",
            "Epoch 15/50\n",
            "55/55 - 77s - loss: 3.1015 - accuracy: 0.0642 - val_loss: 2.9753 - val_accuracy: 0.0638\n",
            "Epoch 16/50\n",
            "55/55 - 77s - loss: 3.0796 - accuracy: 0.0625 - val_loss: 2.9888 - val_accuracy: 0.0535\n",
            "Epoch 17/50\n",
            "55/55 - 77s - loss: 3.0812 - accuracy: 0.0651 - val_loss: 2.9856 - val_accuracy: 0.0576\n",
            "Epoch 18/50\n",
            "55/55 - 77s - loss: 3.0930 - accuracy: 0.0679 - val_loss: 2.9720 - val_accuracy: 0.0782\n",
            "Epoch 19/50\n",
            "55/55 - 77s - loss: 3.0919 - accuracy: 0.0724 - val_loss: 2.9818 - val_accuracy: 0.0590\n",
            "Epoch 20/50\n",
            "55/55 - 77s - loss: 3.0861 - accuracy: 0.0713 - val_loss: 2.9805 - val_accuracy: 0.0782\n",
            "Epoch 21/50\n",
            "55/55 - 76s - loss: 3.0794 - accuracy: 0.0682 - val_loss: 2.9842 - val_accuracy: 0.0679\n",
            "Epoch 22/50\n",
            "55/55 - 77s - loss: 3.0940 - accuracy: 0.0645 - val_loss: 2.9821 - val_accuracy: 0.0638\n",
            "Epoch 23/50\n",
            "55/55 - 77s - loss: 3.0793 - accuracy: 0.0634 - val_loss: 2.9777 - val_accuracy: 0.0727\n",
            "Epoch 24/50\n",
            "55/55 - 76s - loss: 3.0676 - accuracy: 0.0707 - val_loss: 2.9760 - val_accuracy: 0.0720\n",
            "Epoch 25/50\n",
            "55/55 - 77s - loss: 3.0799 - accuracy: 0.0685 - val_loss: 2.9728 - val_accuracy: 0.0789\n",
            "Epoch 26/50\n",
            "55/55 - 77s - loss: 3.0686 - accuracy: 0.0756 - val_loss: 2.9734 - val_accuracy: 0.0809\n",
            "Epoch 27/50\n"
          ],
          "name": "stdout"
        }
      ]
    },
    {
      "cell_type": "markdown",
      "metadata": {
        "colab_type": "text",
        "id": "q3HI9fiE34pd"
      },
      "source": [
        "The second step is to unfreeze a number of layers and fit the model using smaller\n",
        "learning rate. In this example we show unfreezing all layers, but depending on\n",
        "specific dataset it may be desireble to only unfreeze a fraction of all layers.\n",
        "\n",
        "When the feature extraction with\n",
        "pretrained model works good enough, this step would give a very limited gain on\n",
        "validation accuracy. In our case we only see a small improvement,\n",
        "as ImageNet pretraining already exposed the model to a good amount of dogs.\n",
        "\n",
        "On the other hand, when we use pretrained weights on a dataset that is more different\n",
        "from ImageNet, this fine-tuning step can be crucial as the feature extractor also\n",
        "needs to be adjusted by a considerable amount. Such a situation can be demonstrated\n",
        "if choosing CIFAR-100 dataset instead, where fine-tuning boosts validation accuracy\n",
        "by about 10% to pass 80% on `EfficientNetB0`.\n",
        "In such a case the convergence may take more than 50 epochs.\n",
        "\n",
        "A side note on freezing/unfreezing models: setting `trainable` of a `Model` will\n",
        "simultaneously set all layers belonging to the `Model` to the same `trainable`\n",
        "attribute. Each layer is trainable only if both the layer itself and the model\n",
        "containing it are trainable. Hence when we need to partially freeze/unfreeze\n",
        "a model, we need to make sure the `trainable` attribute of the model is set\n",
        "to `True`."
      ]
    },
    {
      "cell_type": "code",
      "metadata": {
        "colab_type": "code",
        "id": "D4valwa734pe",
        "colab": {
          "base_uri": "https://localhost:8080/",
          "height": 654
        },
        "outputId": "5ece5ee7-3613-4a9d-ea3e-7b9f83281662"
      },
      "source": [
        "\n",
        "def unfreeze_model(model):\n",
        "    # We unfreeze the top 20 layers while leaving BatchNorm layers frozen\n",
        "    for layer in model.layers[-20:]:\n",
        "        if not isinstance(layer, layers.BatchNormalization):\n",
        "            layer.trainable = True\n",
        "\n",
        "    optimizer = tf.keras.optimizers.Adam(learning_rate=1e-4)\n",
        "    model.compile(\n",
        "        optimizer=optimizer, loss=\"categorical_crossentropy\", metrics=[\"accuracy\"]\n",
        "    )\n",
        "\n",
        "\n",
        "unfreeze_model(model)\n",
        "\n",
        "epochs = 10  # @param {type: \"slider\", min:8, max:50}\n",
        "hist = model.fit(train_data_gen,\n",
        "                 epochs=epochs,\n",
        "                 validation_data=val_data_gen,\n",
        "                 verbose=2)\n",
        "plot_hist(hist)"
      ],
      "execution_count": 36,
      "outputs": [
        {
          "output_type": "stream",
          "text": [
            "Epoch 1/10\n",
            "55/55 - 78s - loss: 2.9750 - accuracy: 0.0776 - val_loss: 2.9891 - val_accuracy: 0.0775\n",
            "Epoch 2/10\n",
            "55/55 - 76s - loss: 2.9725 - accuracy: 0.0798 - val_loss: 3.0251 - val_accuracy: 0.0480\n",
            "Epoch 3/10\n",
            "55/55 - 76s - loss: 2.9675 - accuracy: 0.0753 - val_loss: 3.0377 - val_accuracy: 0.0487\n",
            "Epoch 4/10\n",
            "55/55 - 76s - loss: 2.9677 - accuracy: 0.0773 - val_loss: 3.1027 - val_accuracy: 0.0494\n",
            "Epoch 5/10\n",
            "55/55 - 76s - loss: 2.9693 - accuracy: 0.0764 - val_loss: 2.9731 - val_accuracy: 0.0789\n",
            "Epoch 6/10\n",
            "55/55 - 77s - loss: 2.9633 - accuracy: 0.0795 - val_loss: 3.0669 - val_accuracy: 0.0494\n",
            "Epoch 7/10\n",
            "55/55 - 76s - loss: 2.9613 - accuracy: 0.0807 - val_loss: 2.9870 - val_accuracy: 0.0494\n",
            "Epoch 8/10\n",
            "55/55 - 75s - loss: 2.9561 - accuracy: 0.0864 - val_loss: 3.0059 - val_accuracy: 0.0850\n",
            "Epoch 9/10\n",
            "55/55 - 76s - loss: 2.9603 - accuracy: 0.0795 - val_loss: 3.0131 - val_accuracy: 0.0508\n",
            "Epoch 10/10\n",
            "55/55 - 76s - loss: 2.9535 - accuracy: 0.0872 - val_loss: 3.3296 - val_accuracy: 0.0494\n"
          ],
          "name": "stdout"
        },
        {
          "output_type": "display_data",
          "data": {
            "image/png": "[encoded data removed]",
            "text/plain": [
              "<Figure size 432x288 with 1 Axes>"
            ]
          },
          "metadata": {
            "tags": [],
            "needs_background": "light"
          }
        }
      ]
    },
    {
      "cell_type": "markdown",
      "metadata": {
        "id": "XcyI-6LDrH4R",
        "colab_type": "text"
      },
      "source": [
        "* **Predict**"
      ]
    },
    {
      "cell_type": "code",
      "metadata": {
        "id": "3UEhbXYnrkmu",
        "colab_type": "code",
        "colab": {}
      },
      "source": [
        "test_data_gen = image_gen_val.flow_from_directory(batch_size=1,\n",
        "                                                 directory=test_folder,\n",
        "                                                 target_size=(IMG_HEIGHT, IMG_WIDTH),\n",
        "                                                 class_mode='categorical')\n",
        "\n",
        "number_of_examples = len(test_data_gen.filenames)\n",
        "test_labels = []\n",
        "for i in range(0,number_of_examples):\n",
        "    test_labels.extend(np.array(test_data_gen[i][1]))"
      ],
      "execution_count": null,
      "outputs": []
    },
    {
      "cell_type": "code",
      "metadata": {
        "id": "Cf3xl6umrK3v",
        "colab_type": "code",
        "colab": {}
      },
      "source": [
        "#Making prediction\n",
        "y_pred=model.predict(test_data_gen, steps=number_of_examples)\n",
        "y_pred=np.argmax(y_pred,axis=1)\n",
        "y_true=np.argmax(test_labels,axis=1)"
      ],
      "execution_count": null,
      "outputs": []
    },
    {
      "cell_type": "markdown",
      "metadata": {
        "id": "I-2NzzLJbBcA",
        "colab_type": "text"
      },
      "source": [
        "### Tips for fine tuning EfficientNet"
      ]
    },
    {
      "cell_type": "markdown",
      "metadata": {
        "colab_type": "text",
        "id": "kDV9i5L134pi"
      },
      "source": [
        "On unfreezing layers:\n",
        "\n",
        "- The `BathcNormalization` layers need to be kept frozen\n",
        "([more details](https://keras.io/guides/transfer_learning/)).\n",
        "If they are also turned to trainable, the\n",
        "first epoch after unfreezing will significantly reduce accuracy.\n",
        "- In some cases it may be beneficial to open up only a portion of layers instead of\n",
        "unfreezing all. This will make fine tuning much faster when going to larger models like\n",
        "B7.\n",
        "- Each block needs to be all turned on or off. This is because the architecture includes\n",
        "a shortcut from the first layer to the last layer for each block. Not respecting blocks\n",
        "also significantly harms the final performance.\n",
        "\n",
        "Some other tips for utilizing EfficientNet:\n",
        "\n",
        "- Larger variants of EfficientNet do not guarantee improved performance, especially for\n",
        "tasks with less data or fewer classes. In such a case, the larger variant of EfficientNet\n",
        "chosen, the harder it is to tune hyperparameters.\n",
        "- EMA (Exponential Moving Average) is very helpful in training EfficientNet from scratch,\n",
        "but not so much for transfer learning.\n",
        "- Do not use the RMSprop setup as in the original paper for transfer learning. The\n",
        "momentum and learning rate are too high for transfer learning. It will easily corrupt the\n",
        "pretrained weight and blow up the loss. A quick check is to see if loss (as categorical\n",
        "cross entropy) is getting significantly larger than log(NUM_CLASSES) after the same\n",
        "epoch. If so, the initial learning rate/momentum is too high.\n",
        "- Smaller batch size benefit validation accuracy, possibly due to effectively providing\n",
        "regularization."
      ]
    },
    {
      "cell_type": "markdown",
      "metadata": {
        "id": "vu2Ypq0tbKKk",
        "colab_type": "text"
      },
      "source": [
        "## Using the latest EfficientNet weights"
      ]
    },
    {
      "cell_type": "markdown",
      "metadata": {
        "id": "RIQh3SpEbGZ_",
        "colab_type": "text"
      },
      "source": [
        "Since the initial paper, the EfficientNet has been improved by various methods for data\n",
        "preprocessing and for using unlabelled data to enhance learning results. These\n",
        "improvements are relatively hard and computationally costly to reproduce, and require\n",
        "extra code; but the weights are readily available in the form of TF checkpoint files. The\n",
        "model architecture has not changed, so loading the improved checkpoints is possible.\n",
        "\n",
        "To use a checkpoint provided at\n",
        "[the official model repository](https://github.com/tensorflow/tpu/tree/master/models/official/efficientnet), first\n",
        "download the checkpoint. As example, here we download noisy-student version of B1:\n",
        "\n",
        "```\n",
        "!wget https://storage.googleapis.com/cloud-tpu-checkpoints/efficientnet\\\n",
        "       /noisystudent/noisy_student_efficientnet-b1.tar.gz\n",
        "!tar -xf noisy_student_efficientnet-b1.tar.gz\n",
        "```\n",
        "\n",
        "Then use the script efficientnet_weight_update_util.py to convert ckpt file to h5 file.\n",
        "\n",
        "```\n",
        "!python efficientnet_weight_update_util.py --model b1 --notop --ckpt \\\n",
        "        efficientnet-b1/model.ckpt --o efficientnetb1_notop.h5\n",
        "```\n",
        "\n",
        "When creating model, use the following to load new weight:\n",
        "\n",
        "```python\n",
        "model = EfficientNetB0(weights=\"efficientnetb1_notop.h5\", include_top=False)\n",
        "```"
      ]
    },
    {
      "cell_type": "code",
      "metadata": {
        "id": "t_UqO6pBbFjv",
        "colab_type": "code",
        "colab": {}
      },
      "source": [
        ""
      ],
      "execution_count": null,
      "outputs": []
    }
  ]
}