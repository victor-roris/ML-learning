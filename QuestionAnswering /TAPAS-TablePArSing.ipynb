{
  "nbformat": 4,
  "nbformat_minor": 0,
  "metadata": {
    "colab": {
      "name": "sqa_predictions.ipynb",
      "provenance": [],
      "collapsed_sections": [
        "ZbLp8eoQSF8z"
      ],
      "include_colab_link": true
    },
    "kernelspec": {
      "name": "python3",
      "display_name": "Python 3"
    }
  },
  "cells": [
    {
      "cell_type": "markdown",
      "metadata": {
        "id": "view-in-github",
        "colab_type": "text"
      },
      "source": [
        "<a href=\"https://colab.research.google.com/github/victor-roris/ML-learning/blob/master/QuestionAnswering%20/TAPAS-TablePArSing.ipynb\" target=\"_parent\"><img src=\"https://colab.research.google.com/assets/colab-badge.svg\" alt=\"Open In Colab\"/></a>"
      ]
    },
    {
      "cell_type": "markdown",
      "metadata": {
        "id": "oKB8YaRk05Sl"
      },
      "source": [
        "# TAble PArSing (TAPAS): SQA (Sequential Question Answering) in tables \n",
        "\n",
        "<a href=\"https://colab.research.google.com/github/google-research/tapas/blob/master/notebooks/sqa_predictions.ipynb\" target=\"_parent\"><img src=\"https://colab.research.google.com/assets/colab-badge.svg\" alt=\"Open In Colab\"/></a>\n",
        "\n",
        "\n",
        "This notebook shows how to load and make predictions with TAPAS model, which was introduced in the paper: [TAPAS: Weakly Supervised Table Parsing via Pre-training](https://arxiv.org/abs/2004.02349)\n",
        "\n",
        "The github of this project is in: https://github.com/google-research/tapas\n"
      ]
    },
    {
      "cell_type": "markdown",
      "metadata": {
        "id": "-07bRHwv0C7L"
      },
      "source": [
        "##### Copyright 2020 The Google AI Language Team Authors\n",
        "\n",
        "Licensed under the Apache License, Version 2.0 (the \"License\");"
      ]
    },
    {
      "cell_type": "code",
      "metadata": {
        "id": "SSpOxRRH0BCU"
      },
      "source": [
        "# Copyright 2019 The Google AI Language Team Authors.\n",
        "#\n",
        "# Licensed under the Apache License, Version 2.0 (the \"License\");\n",
        "# you may not use this file except in compliance with the License.\n",
        "# You may obtain a copy of the License at\n",
        "#\n",
        "#     http://www.apache.org/licenses/LICENSE-2.0\n",
        "#\n",
        "# Unless required by applicable law or agreed to in writing, software\n",
        "# distributed under the License is distributed on an \"AS IS\" BASIS,\n",
        "# WITHOUT WARRANTIES OR CONDITIONS OF ANY KIND, either express or implied.\n",
        "# See the License for the specific language governing permissions and\n",
        "# limitations under the License."
      ],
      "execution_count": null,
      "outputs": []
    },
    {
      "cell_type": "markdown",
      "metadata": {
        "id": "Y-m_JoVCFCV0"
      },
      "source": [
        "# Clone and install the repository\n"
      ]
    },
    {
      "cell_type": "markdown",
      "metadata": {
        "id": "lF84Z-KayR3Z"
      },
      "source": [
        "First, let's install the code."
      ]
    },
    {
      "cell_type": "code",
      "metadata": {
        "id": "uI6zyIM20Kw4"
      },
      "source": [
        "! pip install tapas-table-parsing"
      ],
      "execution_count": null,
      "outputs": []
    },
    {
      "cell_type": "markdown",
      "metadata": {
        "id": "7We9ofHuFMuk"
      },
      "source": [
        "# Fetch models fom Google Storage"
      ]
    },
    {
      "cell_type": "markdown",
      "metadata": {
        "id": "sA1jUByqyUNB"
      },
      "source": [
        "Next we can get pretrained checkpoint from Google Storage. For the sake of speed, this is base sized model trained on [SQA](https://www.microsoft.com/en-us/download/details.aspx?id=54253). Note that best results in the paper were obtained with with a large model, with 24 layers instead of 12."
      ]
    },
    {
      "cell_type": "code",
      "metadata": {
        "id": "B10C0Yz6gQyD",
        "colab": {
          "base_uri": "https://localhost:8080/"
        },
        "outputId": "b938085d-c14a-42a5-ec6d-ad17f4dbac07"
      },
      "source": [
        "! gsutil cp gs://tapas_models/2020_04_21/tapas_sqa_base.zip . && unzip tapas_sqa_base.zip"
      ],
      "execution_count": null,
      "outputs": [
        {
          "output_type": "stream",
          "text": [
            "Copying gs://tapas_models/2020_04_21/tapas_sqa_base.zip...\n",
            "- [1 files][  1.0 GiB/  1.0 GiB]   43.4 MiB/s                                   \n",
            "Operation completed over 1 objects/1.0 GiB.                                      \n",
            "Archive:  tapas_sqa_base.zip\n",
            "   creating: tapas_sqa_base/\n",
            "  inflating: tapas_sqa_base/model.ckpt.data-00000-of-00001  \n",
            "  inflating: tapas_sqa_base/model.ckpt.index  \n",
            "  inflating: tapas_sqa_base/README.txt  \n",
            "  inflating: tapas_sqa_base/vocab.txt  \n",
            "  inflating: tapas_sqa_base/bert_config.json  \n",
            "  inflating: tapas_sqa_base/model.ckpt.meta  \n"
          ],
          "name": "stdout"
        }
      ]
    },
    {
      "cell_type": "code",
      "metadata": {
        "colab": {
          "base_uri": "https://localhost:8080/"
        },
        "id": "KIKWgyOuf93O",
        "outputId": "5ce56e34-3a65-4fe8-b776-604afe15397a"
      },
      "source": [
        "!ls tapas_sqa_base"
      ],
      "execution_count": null,
      "outputs": [
        {
          "output_type": "stream",
          "text": [
            "bert_config.json\t\tmodel.ckpt.index  README.txt\n",
            "model.ckpt.data-00000-of-00001\tmodel.ckpt.meta   vocab.txt\n"
          ],
          "name": "stdout"
        }
      ]
    },
    {
      "cell_type": "code",
      "metadata": {
        "colab": {
          "base_uri": "https://localhost:8080/"
        },
        "id": "eXl7ZommgM12",
        "outputId": "693f479d-5ef5-4f31-8797-92333fe50be2"
      },
      "source": [
        "!cat tapas_sqa_base/README.txt"
      ],
      "execution_count": null,
      "outputs": [
        {
          "output_type": "stream",
          "text": [
            "Model checkpoints as described in the paper \"TAPAS: Weakly Supervised Table Parsing via Pre-training\".\n",
            "See https://github.com/google-research/tapas for more information.\n",
            "TAPAS is not an official Google product.\n"
          ],
          "name": "stdout"
        }
      ]
    },
    {
      "cell_type": "markdown",
      "metadata": {
        "id": "E3107bGlGm7d"
      },
      "source": [
        "# Imports"
      ]
    },
    {
      "cell_type": "code",
      "metadata": {
        "id": "pnUjDlLqDd3m"
      },
      "source": [
        "import tensorflow.compat.v1 as tf\n",
        "import os \n",
        "import shutil\n",
        "import csv\n",
        "import pandas as pd\n",
        "import IPython\n",
        "\n",
        "tf.get_logger().setLevel('ERROR')"
      ],
      "execution_count": null,
      "outputs": []
    },
    {
      "cell_type": "code",
      "metadata": {
        "id": "aml6oLFl1dSt"
      },
      "source": [
        "from tapas.utils import tf_example_utils\n",
        "from tapas.protos import interaction_pb2\n",
        "from tapas.utils import number_annotation_utils\n",
        "from tapas.scripts import prediction_utils"
      ],
      "execution_count": null,
      "outputs": []
    },
    {
      "cell_type": "markdown",
      "metadata": {
        "id": "AbMUYT1bKMp9"
      },
      "source": [
        "# Load checkpoint for prediction"
      ]
    },
    {
      "cell_type": "markdown",
      "metadata": {
        "id": "IO0d_wFMy82O"
      },
      "source": [
        "Here's the prediction code, which will create and `interaction_pb2.Interaction` protobuf object, which is the datastructure we use to store examples, and then call the prediction script."
      ]
    },
    {
      "cell_type": "code",
      "metadata": {
        "id": "UKfxspnVFPsc"
      },
      "source": [
        "os.makedirs('results/sqa/tf_examples', exist_ok=True)\n",
        "os.makedirs('results/sqa/model', exist_ok=True)\n",
        "with open('results/sqa/model/checkpoint', 'w') as f:\n",
        "  f.write('model_checkpoint_path: \"model.ckpt-0\"')\n",
        "for suffix in ['.data-00000-of-00001', '.index', '.meta']:\n",
        "  shutil.copyfile(f'tapas_sqa_base/model.ckpt{suffix}', f'results/sqa/model/model.ckpt-0{suffix}')"
      ],
      "execution_count": null,
      "outputs": []
    },
    {
      "cell_type": "code",
      "metadata": {
        "id": "9RlvgDAmCNtP"
      },
      "source": [
        "max_seq_length = 512\n",
        "vocab_file = \"tapas_sqa_base/vocab.txt\"\n",
        "config = tf_example_utils.ClassifierConversionConfig(\n",
        "    vocab_file=vocab_file,\n",
        "    max_seq_length=max_seq_length,\n",
        "    max_column_id=max_seq_length,\n",
        "    max_row_id=max_seq_length,\n",
        "    strip_column_names=False,\n",
        "    add_aggregation_candidates=False,\n",
        ")\n",
        "converter = tf_example_utils.ToClassifierTensorflowExample(config)\n",
        "\n",
        "def convert_interactions_to_examples(tables_and_queries):\n",
        "  \"\"\"Calls Tapas converter to convert interaction to example.\"\"\"\n",
        "  for idx, (table, queries) in enumerate(tables_and_queries):\n",
        "    interaction = interaction_pb2.Interaction()\n",
        "    for position, query in enumerate(queries):\n",
        "      question = interaction.questions.add()\n",
        "      question.original_text = query\n",
        "      question.id = f\"{idx}-0_{position}\"\n",
        "    for header in table[0]:\n",
        "      interaction.table.columns.add().text = header\n",
        "    for line in table[1:]:\n",
        "      row = interaction.table.rows.add()\n",
        "      for cell in line:\n",
        "        row.cells.add().text = cell\n",
        "    number_annotation_utils.add_numeric_values(interaction)\n",
        "    for i in range(len(interaction.questions)):\n",
        "      try:\n",
        "        yield converter.convert(interaction, i)\n",
        "      except ValueError as e:\n",
        "        print(f\"Can't convert interaction: {interaction.id} error: {e}\")\n",
        "        \n",
        "def write_tf_example(filename, examples):\n",
        "  with tf.io.TFRecordWriter(filename) as writer:\n",
        "    for example in examples:\n",
        "      writer.write(example.SerializeToString())\n",
        "\n",
        "def predict(table_data, queries):\n",
        "  table = [list(map(lambda s: s.strip(), row.split(\"|\"))) \n",
        "           for row in table_data.split(\"\\n\") if row.strip()]\n",
        "  examples = convert_interactions_to_examples([(table, queries)])\n",
        "  write_tf_example(\"results/sqa/tf_examples/test.tfrecord\", examples)\n",
        "  write_tf_example(\"results/sqa/tf_examples/random-split-1-dev.tfrecord\", [])\n",
        "  \n",
        "  ! python -m tapas.run_task_main \\\n",
        "    --task=\"SQA\" \\\n",
        "    --output_dir=\"results\" \\\n",
        "    --noloop_predict \\\n",
        "    --test_batch_size={len(queries)} \\\n",
        "    --tapas_verbosity=\"ERROR\" \\\n",
        "    --compression_type= \\\n",
        "    --init_checkpoint=\"tapas_sqa_base/model.ckpt\" \\\n",
        "    --bert_config_file=\"tapas_sqa_base/bert_config.json\" \\\n",
        "    --mode=\"predict\" 2> error\n",
        "\n",
        "\n",
        "  results_path = \"results/sqa/model/test_sequence.tsv\"\n",
        "  all_coordinates = []\n",
        "  df = pd.DataFrame(table[1:], columns=table[0])\n",
        "  display(IPython.display.HTML(df.to_html(index=False)))\n",
        "  print()\n",
        "  with open(results_path) as csvfile:\n",
        "    reader = csv.DictReader(csvfile, delimiter='\\t')\n",
        "    for row in reader:\n",
        "      coordinates = prediction_utils.parse_coordinates(row[\"answer_coordinates\"])\n",
        "      all_coordinates.append(coordinates)\n",
        "      answers = ', '.join([table[row + 1][col] for row, col in coordinates])\n",
        "      position = int(row['position'])\n",
        "      print(\">\", queries[position])\n",
        "      print(answers)\n",
        "  return all_coordinates"
      ],
      "execution_count": null,
      "outputs": []
    },
    {
      "cell_type": "markdown",
      "metadata": {
        "id": "Gqu-I-M9QaoA"
      },
      "source": [
        "# Predict"
      ]
    },
    {
      "cell_type": "code",
      "metadata": {
        "id": "SIE7bTJMVuSh",
        "colab": {
          "base_uri": "https://localhost:8080/",
          "height": 992
        },
        "outputId": "538f32c9-306d-44de-ef80-745d68ea9657"
      },
      "source": [
        "# Example nu-1000-0\n",
        "result = predict(\"\"\"\n",
        "Pos | No | Driver               | Team                           | Laps | Time/Retired | Grid | Points\n",
        "1   | 32 | Patrick Carpentier   | Team Player's                  | 87   | 1:48:11.023  | 1    | 22    \n",
        "2   | 1  | Bruno Junqueira      | Newman/Haas Racing             | 87   | +0.8 secs    | 2    | 17    \n",
        "3   | 3  | Paul Tracy           | Team Player's                  | 87   | +28.6 secs   | 3    | 14\n",
        "4   | 9  | Michel Jourdain, Jr. | Team Rahal                     | 87   | +40.8 secs   | 13   | 12\n",
        "5   | 34 | Mario Haberfeld      | Mi-Jack Conquest Racing        | 87   | +42.1 secs   | 6    | 10\n",
        "6   | 20 | Oriol Servia         | Patrick Racing                 | 87   | +1:00.2      | 10   | 8 \n",
        "7   | 51 | Adrian Fernandez     | Fernandez Racing               | 87   | +1:01.4      | 5    | 6\n",
        "8   | 12 | Jimmy Vasser         | American Spirit Team Johansson | 87   | +1:01.8      | 8    | 5\n",
        "9   | 7  | Tiago Monteiro       | Fittipaldi-Dingman Racing      | 86   | + 1 Lap      | 15   | 4\n",
        "10  | 55 | Mario Dominguez      | Herdez Competition             | 86   | + 1 Lap      | 11   | 3\n",
        "11  | 27 | Bryan Herta          | PK Racing                      | 86   | + 1 Lap      | 12   | 2\n",
        "12  | 31 | Ryan Hunter-Reay     | American Spirit Team Johansson | 86   | + 1 Lap      | 17   | 1\n",
        "13  | 19 | Joel Camathias       | Dale Coyne Racing              | 85   | + 2 Laps     | 18   | 0\n",
        "14  | 33 | Alex Tagliani        | Rocketsports Racing            | 85   | + 2 Laps     | 14   | 0\n",
        "15  | 4  | Roberto Moreno       | Herdez Competition             | 85   | + 2 Laps     | 9    | 0\n",
        "16  | 11 | Geoff Boss           | Dale Coyne Racing              | 83   | Mechanical   | 19   | 0\n",
        "17  | 2  | Sebastien Bourdais   | Newman/Haas Racing             | 77   | Mechanical   | 4    | 0\n",
        "18  | 15 | Darren Manning       | Walker Racing                  | 12   | Mechanical   | 7    | 0\n",
        "19  | 5  | Rodolfo Lavin        | Walker Racing                  | 10   | Mechanical   | 16   | 0\n",
        "\"\"\", [\n",
        "      # Original questions\n",
        "      \"what were the drivers names?\",\n",
        "      \"of these, which points did patrick carpentier and bruno junqueira score?\",\n",
        "      \"who scored higher?\",\n",
        "      # My questions (grammar)\n",
        "      \"Which is the team of Rodolfo Lavin?\",\n",
        "      \"Which drivers retired by mechanical problems?\",\n",
        "      \"How many drivers score with 1 point?\",\n",
        "      \"What is the sum of laps that all the drivers made?\",\n",
        "      \"Who was the driver with more points of the Team Player's team?\"\n",
        "      \"\"\n",
        "      ])"
      ],
      "execution_count": null,
      "outputs": [
        {
          "output_type": "stream",
          "text": [
            "is_built_with_cuda: True\n",
            "is_gpu_available: False\n",
            "GPUs: []\n",
            "Training or predicting ...\n",
            "Evaluation finished after training step 0.\n"
          ],
          "name": "stdout"
        },
        {
          "output_type": "display_data",
          "data": {
            "text/html": [
              "<table border=\"1\" class=\"dataframe\">\n",
              "  <thead>\n",
              "    <tr style=\"text-align: right;\">\n",
              "      <th>Pos</th>\n",
              "      <th>No</th>\n",
              "      <th>Driver</th>\n",
              "      <th>Team</th>\n",
              "      <th>Laps</th>\n",
              "      <th>Time/Retired</th>\n",
              "      <th>Grid</th>\n",
              "      <th>Points</th>\n",
              "    </tr>\n",
              "  </thead>\n",
              "  <tbody>\n",
              "    <tr>\n",
              "      <td>1</td>\n",
              "      <td>32</td>\n",
              "      <td>Patrick Carpentier</td>\n",
              "      <td>Team Player's</td>\n",
              "      <td>87</td>\n",
              "      <td>1:48:11.023</td>\n",
              "      <td>1</td>\n",
              "      <td>22</td>\n",
              "    </tr>\n",
              "    <tr>\n",
              "      <td>2</td>\n",
              "      <td>1</td>\n",
              "      <td>Bruno Junqueira</td>\n",
              "      <td>Newman/Haas Racing</td>\n",
              "      <td>87</td>\n",
              "      <td>+0.8 secs</td>\n",
              "      <td>2</td>\n",
              "      <td>17</td>\n",
              "    </tr>\n",
              "    <tr>\n",
              "      <td>3</td>\n",
              "      <td>3</td>\n",
              "      <td>Paul Tracy</td>\n",
              "      <td>Team Player's</td>\n",
              "      <td>87</td>\n",
              "      <td>+28.6 secs</td>\n",
              "      <td>3</td>\n",
              "      <td>14</td>\n",
              "    </tr>\n",
              "    <tr>\n",
              "      <td>4</td>\n",
              "      <td>9</td>\n",
              "      <td>Michel Jourdain, Jr.</td>\n",
              "      <td>Team Rahal</td>\n",
              "      <td>87</td>\n",
              "      <td>+40.8 secs</td>\n",
              "      <td>13</td>\n",
              "      <td>12</td>\n",
              "    </tr>\n",
              "    <tr>\n",
              "      <td>5</td>\n",
              "      <td>34</td>\n",
              "      <td>Mario Haberfeld</td>\n",
              "      <td>Mi-Jack Conquest Racing</td>\n",
              "      <td>87</td>\n",
              "      <td>+42.1 secs</td>\n",
              "      <td>6</td>\n",
              "      <td>10</td>\n",
              "    </tr>\n",
              "    <tr>\n",
              "      <td>6</td>\n",
              "      <td>20</td>\n",
              "      <td>Oriol Servia</td>\n",
              "      <td>Patrick Racing</td>\n",
              "      <td>87</td>\n",
              "      <td>+1:00.2</td>\n",
              "      <td>10</td>\n",
              "      <td>8</td>\n",
              "    </tr>\n",
              "    <tr>\n",
              "      <td>7</td>\n",
              "      <td>51</td>\n",
              "      <td>Adrian Fernandez</td>\n",
              "      <td>Fernandez Racing</td>\n",
              "      <td>87</td>\n",
              "      <td>+1:01.4</td>\n",
              "      <td>5</td>\n",
              "      <td>6</td>\n",
              "    </tr>\n",
              "    <tr>\n",
              "      <td>8</td>\n",
              "      <td>12</td>\n",
              "      <td>Jimmy Vasser</td>\n",
              "      <td>American Spirit Team Johansson</td>\n",
              "      <td>87</td>\n",
              "      <td>+1:01.8</td>\n",
              "      <td>8</td>\n",
              "      <td>5</td>\n",
              "    </tr>\n",
              "    <tr>\n",
              "      <td>9</td>\n",
              "      <td>7</td>\n",
              "      <td>Tiago Monteiro</td>\n",
              "      <td>Fittipaldi-Dingman Racing</td>\n",
              "      <td>86</td>\n",
              "      <td>+ 1 Lap</td>\n",
              "      <td>15</td>\n",
              "      <td>4</td>\n",
              "    </tr>\n",
              "    <tr>\n",
              "      <td>10</td>\n",
              "      <td>55</td>\n",
              "      <td>Mario Dominguez</td>\n",
              "      <td>Herdez Competition</td>\n",
              "      <td>86</td>\n",
              "      <td>+ 1 Lap</td>\n",
              "      <td>11</td>\n",
              "      <td>3</td>\n",
              "    </tr>\n",
              "    <tr>\n",
              "      <td>11</td>\n",
              "      <td>27</td>\n",
              "      <td>Bryan Herta</td>\n",
              "      <td>PK Racing</td>\n",
              "      <td>86</td>\n",
              "      <td>+ 1 Lap</td>\n",
              "      <td>12</td>\n",
              "      <td>2</td>\n",
              "    </tr>\n",
              "    <tr>\n",
              "      <td>12</td>\n",
              "      <td>31</td>\n",
              "      <td>Ryan Hunter-Reay</td>\n",
              "      <td>American Spirit Team Johansson</td>\n",
              "      <td>86</td>\n",
              "      <td>+ 1 Lap</td>\n",
              "      <td>17</td>\n",
              "      <td>1</td>\n",
              "    </tr>\n",
              "    <tr>\n",
              "      <td>13</td>\n",
              "      <td>19</td>\n",
              "      <td>Joel Camathias</td>\n",
              "      <td>Dale Coyne Racing</td>\n",
              "      <td>85</td>\n",
              "      <td>+ 2 Laps</td>\n",
              "      <td>18</td>\n",
              "      <td>0</td>\n",
              "    </tr>\n",
              "    <tr>\n",
              "      <td>14</td>\n",
              "      <td>33</td>\n",
              "      <td>Alex Tagliani</td>\n",
              "      <td>Rocketsports Racing</td>\n",
              "      <td>85</td>\n",
              "      <td>+ 2 Laps</td>\n",
              "      <td>14</td>\n",
              "      <td>0</td>\n",
              "    </tr>\n",
              "    <tr>\n",
              "      <td>15</td>\n",
              "      <td>4</td>\n",
              "      <td>Roberto Moreno</td>\n",
              "      <td>Herdez Competition</td>\n",
              "      <td>85</td>\n",
              "      <td>+ 2 Laps</td>\n",
              "      <td>9</td>\n",
              "      <td>0</td>\n",
              "    </tr>\n",
              "    <tr>\n",
              "      <td>16</td>\n",
              "      <td>11</td>\n",
              "      <td>Geoff Boss</td>\n",
              "      <td>Dale Coyne Racing</td>\n",
              "      <td>83</td>\n",
              "      <td>Mechanical</td>\n",
              "      <td>19</td>\n",
              "      <td>0</td>\n",
              "    </tr>\n",
              "    <tr>\n",
              "      <td>17</td>\n",
              "      <td>2</td>\n",
              "      <td>Sebastien Bourdais</td>\n",
              "      <td>Newman/Haas Racing</td>\n",
              "      <td>77</td>\n",
              "      <td>Mechanical</td>\n",
              "      <td>4</td>\n",
              "      <td>0</td>\n",
              "    </tr>\n",
              "    <tr>\n",
              "      <td>18</td>\n",
              "      <td>15</td>\n",
              "      <td>Darren Manning</td>\n",
              "      <td>Walker Racing</td>\n",
              "      <td>12</td>\n",
              "      <td>Mechanical</td>\n",
              "      <td>7</td>\n",
              "      <td>0</td>\n",
              "    </tr>\n",
              "    <tr>\n",
              "      <td>19</td>\n",
              "      <td>5</td>\n",
              "      <td>Rodolfo Lavin</td>\n",
              "      <td>Walker Racing</td>\n",
              "      <td>10</td>\n",
              "      <td>Mechanical</td>\n",
              "      <td>16</td>\n",
              "      <td>0</td>\n",
              "    </tr>\n",
              "  </tbody>\n",
              "</table>"
            ],
            "text/plain": [
              "<IPython.core.display.HTML object>"
            ]
          },
          "metadata": {
            "tags": []
          }
        },
        {
          "output_type": "stream",
          "text": [
            "\n",
            "> what were the drivers names?\n",
            "Ryan Hunter-Reay, Sebastien Bourdais, Adrian Fernandez, Jimmy Vasser, Bruno Junqueira, Joel Camathias, Darren Manning, Paul Tracy, Michel Jourdain, Jr., Alex Tagliani, Tiago Monteiro, Rodolfo Lavin, Mario Haberfeld, Roberto Moreno, Geoff Boss, Mario Dominguez, Oriol Servia, Patrick Carpentier, Bryan Herta\n",
            "> of these, which points did patrick carpentier and bruno junqueira score?\n",
            "22, 17\n",
            "> who scored higher?\n",
            "Patrick Carpentier\n",
            "> Which is the team of Rodolfo Lavin?\n",
            "Walker Racing\n",
            "> Which drivers retired by mechanical problems?\n",
            "Darren Manning, Sebastien Bourdais, Geoff Boss, Rodolfo Lavin\n",
            "> How many drivers score with 1 point?\n",
            "19, 18, 17, 16\n",
            "> What is the sum of laps that all the drivers made?\n",
            "85, 85, 10, 86, 87, 87, 83, 87, 87, 86, 86, 77, 87, 12, 87, 85, 87, 87, 86\n",
            "> Who was the driver with more points of the Team Player's team?\n",
            "Patrick Carpentier\n"
          ],
          "name": "stdout"
        }
      ]
    },
    {
      "cell_type": "code",
      "metadata": {
        "colab": {
          "base_uri": "https://localhost:8080/",
          "height": 593
        },
        "id": "0wpINg46hNJq",
        "outputId": "db91e469-5f66-4332-cc61-e9fa98eaf03e"
      },
      "source": [
        "# My Example\n",
        "result = predict(\"\"\"\n",
        "| Expert          | Skills           | Studies   | Review |\n",
        "| Victor Alonso   | Machine Learning | PhD       | 5      |\n",
        "| Carlos Perez    | Scala            | Engineer  | 5      | \n",
        "| Erica Rial      | Python           | Engineer  | 4.9    | \n",
        "| David Martinez  | Machine Learning | PhD       | 3      | \n",
        "| Juan Gonzalez   | HTML             | Engineer  | 0      |\n",
        "\"\"\", [\"What are the studies of Victor Alonso?\",\n",
        "      \"Who knows about Python?\",\n",
        "      \"What is the review of this person?\",\n",
        "      # Implicit info?\n",
        "      \"Who knows about Computer Vision?\",\n",
        "      \"Who knows about Natural Language Processing?\",\n",
        "      \"Who knows about Artificial Intelligence?\",\n",
        "      \"Who knows about Deep Learning?\",\n",
        "      \"Who knows about Linear Programing?\",\n",
        "      \"Who knows about CSS?\"\n",
        "      ])"
      ],
      "execution_count": null,
      "outputs": [
        {
          "output_type": "stream",
          "text": [
            "is_built_with_cuda: True\n",
            "is_gpu_available: False\n",
            "GPUs: []\n",
            "Training or predicting ...\n",
            "Evaluation finished after training step 0.\n"
          ],
          "name": "stdout"
        },
        {
          "output_type": "display_data",
          "data": {
            "text/html": [
              "<table border=\"1\" class=\"dataframe\">\n",
              "  <thead>\n",
              "    <tr style=\"text-align: right;\">\n",
              "      <th></th>\n",
              "      <th>Expert</th>\n",
              "      <th>Skills</th>\n",
              "      <th>Studies</th>\n",
              "      <th>Review</th>\n",
              "      <th></th>\n",
              "    </tr>\n",
              "  </thead>\n",
              "  <tbody>\n",
              "    <tr>\n",
              "      <td></td>\n",
              "      <td>Victor Alonso</td>\n",
              "      <td>Machine Learning</td>\n",
              "      <td>PhD</td>\n",
              "      <td>5</td>\n",
              "      <td></td>\n",
              "    </tr>\n",
              "    <tr>\n",
              "      <td></td>\n",
              "      <td>Carlos Perez</td>\n",
              "      <td>Scala</td>\n",
              "      <td>Engineer</td>\n",
              "      <td>5</td>\n",
              "      <td></td>\n",
              "    </tr>\n",
              "    <tr>\n",
              "      <td></td>\n",
              "      <td>Erica Rial</td>\n",
              "      <td>Python</td>\n",
              "      <td>Engineer</td>\n",
              "      <td>4.9</td>\n",
              "      <td></td>\n",
              "    </tr>\n",
              "    <tr>\n",
              "      <td></td>\n",
              "      <td>David Martinez</td>\n",
              "      <td>Machine Learning</td>\n",
              "      <td>PhD</td>\n",
              "      <td>3</td>\n",
              "      <td></td>\n",
              "    </tr>\n",
              "    <tr>\n",
              "      <td></td>\n",
              "      <td>Juan Gonzalez</td>\n",
              "      <td>HTML</td>\n",
              "      <td>Engineer</td>\n",
              "      <td>0</td>\n",
              "      <td></td>\n",
              "    </tr>\n",
              "  </tbody>\n",
              "</table>"
            ],
            "text/plain": [
              "<IPython.core.display.HTML object>"
            ]
          },
          "metadata": {
            "tags": []
          }
        },
        {
          "output_type": "stream",
          "text": [
            "\n",
            "> What are the studies of Victor Alonso?\n",
            "PhD\n",
            "> Who knows about Python?\n",
            "Erica Rial\n",
            "> What is the review of this person?\n",
            "4.9\n",
            "> Who knows about Computer Vision?\n",
            "Erica Rial\n",
            "> Who knows about Natural Language Processing?\n",
            "Victor Alonso, David Martinez, Erica Rial, Juan Gonzalez, Carlos Perez\n",
            "> Who knows about Artificial Intelligence?\n",
            "Victor Alonso, David Martinez, Erica Rial, Juan Gonzalez, Carlos Perez\n",
            "> Who knows about Deep Learning?\n",
            "Scala, Machine Learning, Python, HTML, Machine Learning\n",
            "> Who knows about Linear Programing?\n",
            "Juan Gonzalez, Erica Rial\n",
            "> Who knows about CSS?\n",
            "Juan Gonzalez\n"
          ],
          "name": "stdout"
        }
      ]
    },
    {
      "cell_type": "code",
      "metadata": {
        "id": "Lv57-qK8pD_l"
      },
      "source": [
        ""
      ],
      "execution_count": null,
      "outputs": []
    },
    {
      "cell_type": "code",
      "metadata": {
        "id": "kfwG6kmGvdLf"
      },
      "source": [
        ""
      ],
      "execution_count": null,
      "outputs": []
    },
    {
      "cell_type": "code",
      "metadata": {
        "id": "7QPe-6D37Ecv"
      },
      "source": [
        ""
      ],
      "execution_count": null,
      "outputs": []
    }
  ]
}